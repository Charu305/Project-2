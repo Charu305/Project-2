{
 "cells": [
  {
   "cell_type": "code",
   "execution_count": 11,
   "id": "6a54238d-5d8c-4e3c-b806-aaa59358dfe9",
   "metadata": {},
   "outputs": [
    {
     "name": "stdout",
     "output_type": "stream",
     "text": [
      "The final processed data has been saved to 'processed_delhi_cars.xlsx'.\n"
     ]
    }
   ],
   "source": [
    "import pandas as pd\n",
    "\n",
    "# Load Excel file\n",
    "df = pd.read_excel(r'C:\\Users\\babuk\\Downloads\\delhi_cars.xlsx')\n",
    "\n",
    "# Convert JSON-like strings in relevant columns to dictionaries\n",
    "df['new_car_detail'] = df['new_car_detail'].apply(eval)\n",
    "df['new_car_overview'] = df['new_car_overview'].apply(eval)\n",
    "if 'new_car_feature' in df.columns:\n",
    "    df['new_car_feature'] = df['new_car_feature'].apply(eval)\n",
    "df['new_car_specs'] = df['new_car_specs'].apply(eval)\n",
    "\n",
    "# Step 1: Process 'new_car_detail' column\n",
    "car_details_df = pd.json_normalize(df['new_car_detail'].apply(lambda x: {k: v for k, v in x.items() if k != 'trendingText'}))\n",
    "car_details_df['trendingText'] = df['new_car_detail'].apply(lambda x: x.get('trendingText', None))\n",
    "\n",
    "# Step 2: Process 'new_car_overview' column\n",
    "overview_top_df = pd.json_normalize(df['new_car_overview'].apply(lambda x: x.get('top', [])))\n",
    "for col in overview_top_df.columns:\n",
    "    key = overview_top_df[col].apply(lambda item: item.get('key') if isinstance(item, dict) else None)\n",
    "    value = overview_top_df[col].apply(lambda item: item.get('value') if isinstance(item, dict) else None)\n",
    "    \n",
    "    # Check if key exists and is not None before applying transformations\n",
    "    if key.iloc[0] is not None:\n",
    "        column_name = f'{key.iloc[0].replace(\" \", \"_\").lower()}'\n",
    "        overview_top_df[column_name] = value\n",
    "\n",
    "# Drop original columns from overview_top_df after expansion\n",
    "overview_top_df = overview_top_df.drop(columns=overview_top_df.columns[:len(overview_top_df.columns)//2])\n",
    "\n",
    "# Step 3: Process 'new_car_feature' column\n",
    "if 'new_car_feature' in df.columns:\n",
    "    result = []\n",
    "    for feature_data in df['new_car_feature']:\n",
    "        features_count = len(feature_data.get('top', []))\n",
    "        sections = {section['heading']: len(section['list']) for section in feature_data.get('data', [])}\n",
    "        row = {'Features': features_count}\n",
    "        row.update(sections)\n",
    "        result.append(row)\n",
    "    new_car_feature_df = pd.DataFrame(result)\n",
    "else:\n",
    "    new_car_feature_df = pd.DataFrame()\n",
    "\n",
    "# Step 4: Process 'new_car_specs' column\n",
    "unique_keys_top = set()\n",
    "unique_keys_list = set()\n",
    "\n",
    "# Collect unique keys for 'top' and 'list' sections in 'new_car_specs'\n",
    "for specs in df['new_car_specs']:\n",
    "    if 'top' in specs:\n",
    "        for item in specs['top']:\n",
    "            unique_keys_top.add(item['key'].replace(\" \", \"_\").lower())\n",
    "    if 'data' in specs:\n",
    "        for data_entry in specs['data']:\n",
    "            if 'list' in data_entry:\n",
    "                for item in data_entry['list']:\n",
    "                    unique_keys_list.add(item['key'].replace(\" \", \"_\").lower())\n",
    "\n",
    "# Extract values based on unique keys and store them in a dictionary for each row\n",
    "row_values = {}\n",
    "for i, specs in enumerate(df['new_car_specs']):\n",
    "    row_dict = {}\n",
    "    if 'top' in specs:\n",
    "        for item in specs['top']:\n",
    "            column_name = item['key'].replace(\" \", \"_\").lower()\n",
    "            row_dict[column_name] = item['value']\n",
    "    if 'data' in specs:\n",
    "        for data_entry in specs['data']:\n",
    "            if 'list' in data_entry:\n",
    "                for item in data_entry['list']:\n",
    "                    column_name = item['key'].replace(\" \", \"_\").lower()\n",
    "                    row_dict[column_name] = item['value']\n",
    "    row_values[i] = row_dict\n",
    "\n",
    "# Convert the row values dictionary for 'new_car_specs' into a DataFrame\n",
    "new_car_specs_df = pd.DataFrame.from_dict(row_values, orient='index')\n",
    "\n",
    "# Concatenate all DataFrames into a single DataFrame\n",
    "df_final = pd.concat([df.drop(columns=['new_car_detail', 'new_car_overview', 'new_car_feature', 'new_car_specs']), car_details_df, overview_top_df, new_car_feature_df, new_car_specs_df], axis=1)\n",
    "\n",
    "# Save the final DataFrame to an Excel file\n",
    "df_final.to_excel(r'C:\\Users\\babuk\\Downloads\\processed_delhi_cars.xlsx', index=False)\n",
    "\n",
    "print(\"The final processed data has been saved to 'processed_delhi_cars.xlsx'.\")"
   ]
  },
  {
   "cell_type": "code",
   "execution_count": 1,
   "id": "babd7add-ad39-4944-8353-dae409eac3f7",
   "metadata": {},
   "outputs": [],
   "source": [
    "import pandas as pd\n",
    "\n",
    "# Load Excel file\n",
    "bangalore_df = pd.read_excel(r'C:\\Users\\babuk\\Downloads\\processed_bangalore_cars.xlsx')\n",
    "jaipur_df = pd.read_excel(r'C:\\Users\\babuk\\Downloads\\processed_jaipur_cars.xlsx')\n",
    "chennai_df = pd.read_excel(r'C:\\Users\\babuk\\Downloads\\processed_chennai_cars.xlsx')\n",
    "delhi_df = pd.read_excel(r'C:\\Users\\babuk\\Downloads\\processed_delhi_cars.xlsx')\n",
    "kolkata_df = pd.read_excel(r'C:\\Users\\babuk\\Downloads\\processed_kolkata_cars.xlsx')\n",
    "hyderabad_df = pd.read_excel(r'C:\\Users\\babuk\\Downloads\\processed_hyderabad_cars.xlsx')"
   ]
  },
  {
   "cell_type": "code",
   "execution_count": 2,
   "id": "a3f4b3c8-d535-47bb-9576-4e5da28a4cb0",
   "metadata": {},
   "outputs": [
    {
     "data": {
      "text/html": [
       "<div>\n",
       "<style scoped>\n",
       "    .dataframe tbody tr th:only-of-type {\n",
       "        vertical-align: middle;\n",
       "    }\n",
       "\n",
       "    .dataframe tbody tr th {\n",
       "        vertical-align: top;\n",
       "    }\n",
       "\n",
       "    .dataframe thead th {\n",
       "        text-align: right;\n",
       "    }\n",
       "</style>\n",
       "<table border=\"1\" class=\"dataframe\">\n",
       "  <thead>\n",
       "    <tr style=\"text-align: right;\">\n",
       "      <th></th>\n",
       "      <th>car_links</th>\n",
       "      <th>it</th>\n",
       "      <th>ft</th>\n",
       "      <th>bt</th>\n",
       "      <th>km</th>\n",
       "      <th>transmission</th>\n",
       "      <th>ownerNo</th>\n",
       "      <th>owner</th>\n",
       "      <th>oem</th>\n",
       "      <th>model</th>\n",
       "      <th>...</th>\n",
       "      <th>top_speed</th>\n",
       "      <th>acceleration</th>\n",
       "      <th>tyre_type</th>\n",
       "      <th>no_door_numbers</th>\n",
       "      <th>cargo_volumn</th>\n",
       "      <th>wheel_size</th>\n",
       "      <th>alloy_wheel_size</th>\n",
       "      <th>ground_clearance_unladen</th>\n",
       "      <th>City</th>\n",
       "      <th>9</th>\n",
       "    </tr>\n",
       "  </thead>\n",
       "  <tbody>\n",
       "    <tr>\n",
       "      <th>0</th>\n",
       "      <td>https://www.cardekho.com/used-car-details/used...</td>\n",
       "      <td>0</td>\n",
       "      <td>Petrol</td>\n",
       "      <td>Hatchback</td>\n",
       "      <td>1,20,000</td>\n",
       "      <td>Manual</td>\n",
       "      <td>3</td>\n",
       "      <td>3rd Owner</td>\n",
       "      <td>Maruti</td>\n",
       "      <td>Maruti Celerio</td>\n",
       "      <td>...</td>\n",
       "      <td>150 Kmph</td>\n",
       "      <td>15.05 Seconds</td>\n",
       "      <td>Tubeless, Radial</td>\n",
       "      <td>5.0</td>\n",
       "      <td>235-litres</td>\n",
       "      <td>NaN</td>\n",
       "      <td>NaN</td>\n",
       "      <td>NaN</td>\n",
       "      <td>Bangalore</td>\n",
       "      <td>NaN</td>\n",
       "    </tr>\n",
       "    <tr>\n",
       "      <th>1</th>\n",
       "      <td>https://www.cardekho.com/buy-used-car-details/...</td>\n",
       "      <td>0</td>\n",
       "      <td>Petrol</td>\n",
       "      <td>SUV</td>\n",
       "      <td>32,706</td>\n",
       "      <td>Manual</td>\n",
       "      <td>2</td>\n",
       "      <td>2nd Owner</td>\n",
       "      <td>Ford</td>\n",
       "      <td>Ford Ecosport</td>\n",
       "      <td>...</td>\n",
       "      <td>NaN</td>\n",
       "      <td>NaN</td>\n",
       "      <td>Tubeless,Radial</td>\n",
       "      <td>4.0</td>\n",
       "      <td>352-litres</td>\n",
       "      <td>16</td>\n",
       "      <td>16</td>\n",
       "      <td>NaN</td>\n",
       "      <td>Bangalore</td>\n",
       "      <td>NaN</td>\n",
       "    </tr>\n",
       "    <tr>\n",
       "      <th>2</th>\n",
       "      <td>https://www.cardekho.com/used-car-details/used...</td>\n",
       "      <td>0</td>\n",
       "      <td>Petrol</td>\n",
       "      <td>Hatchback</td>\n",
       "      <td>11,949</td>\n",
       "      <td>Manual</td>\n",
       "      <td>1</td>\n",
       "      <td>1st Owner</td>\n",
       "      <td>Tata</td>\n",
       "      <td>Tata Tiago</td>\n",
       "      <td>...</td>\n",
       "      <td>150 kmph</td>\n",
       "      <td>14.3 Seconds</td>\n",
       "      <td>Tubeless</td>\n",
       "      <td>5.0</td>\n",
       "      <td>242-litres</td>\n",
       "      <td>14</td>\n",
       "      <td>14</td>\n",
       "      <td>NaN</td>\n",
       "      <td>Bangalore</td>\n",
       "      <td>NaN</td>\n",
       "    </tr>\n",
       "    <tr>\n",
       "      <th>3</th>\n",
       "      <td>https://www.cardekho.com/buy-used-car-details/...</td>\n",
       "      <td>0</td>\n",
       "      <td>Petrol</td>\n",
       "      <td>Sedan</td>\n",
       "      <td>17,794</td>\n",
       "      <td>Manual</td>\n",
       "      <td>1</td>\n",
       "      <td>1st Owner</td>\n",
       "      <td>Hyundai</td>\n",
       "      <td>Hyundai Xcent</td>\n",
       "      <td>...</td>\n",
       "      <td>172km/hr</td>\n",
       "      <td>14.2 Seconds</td>\n",
       "      <td>Tubeless,Radial</td>\n",
       "      <td>4.0</td>\n",
       "      <td>407-litres</td>\n",
       "      <td>14</td>\n",
       "      <td>14</td>\n",
       "      <td>NaN</td>\n",
       "      <td>Bangalore</td>\n",
       "      <td>NaN</td>\n",
       "    </tr>\n",
       "    <tr>\n",
       "      <th>4</th>\n",
       "      <td>https://www.cardekho.com/used-car-details/used...</td>\n",
       "      <td>0</td>\n",
       "      <td>Diesel</td>\n",
       "      <td>SUV</td>\n",
       "      <td>60,000</td>\n",
       "      <td>Manual</td>\n",
       "      <td>1</td>\n",
       "      <td>1st Owner</td>\n",
       "      <td>Maruti</td>\n",
       "      <td>Maruti SX4 S Cross</td>\n",
       "      <td>...</td>\n",
       "      <td>190 Kmph</td>\n",
       "      <td>12 Seconds</td>\n",
       "      <td>Tubeless,Radial</td>\n",
       "      <td>5.0</td>\n",
       "      <td>353-litres</td>\n",
       "      <td>16</td>\n",
       "      <td>16</td>\n",
       "      <td>NaN</td>\n",
       "      <td>Bangalore</td>\n",
       "      <td>NaN</td>\n",
       "    </tr>\n",
       "    <tr>\n",
       "      <th>...</th>\n",
       "      <td>...</td>\n",
       "      <td>...</td>\n",
       "      <td>...</td>\n",
       "      <td>...</td>\n",
       "      <td>...</td>\n",
       "      <td>...</td>\n",
       "      <td>...</td>\n",
       "      <td>...</td>\n",
       "      <td>...</td>\n",
       "      <td>...</td>\n",
       "      <td>...</td>\n",
       "      <td>...</td>\n",
       "      <td>...</td>\n",
       "      <td>...</td>\n",
       "      <td>...</td>\n",
       "      <td>...</td>\n",
       "      <td>...</td>\n",
       "      <td>...</td>\n",
       "      <td>...</td>\n",
       "      <td>...</td>\n",
       "      <td>...</td>\n",
       "    </tr>\n",
       "    <tr>\n",
       "      <th>1478</th>\n",
       "      <td>https://www.cardekho.com/used-car-details/used...</td>\n",
       "      <td>0</td>\n",
       "      <td>Diesel</td>\n",
       "      <td>SUV</td>\n",
       "      <td>60,000</td>\n",
       "      <td>Manual</td>\n",
       "      <td>1</td>\n",
       "      <td>1st Owner</td>\n",
       "      <td>Mahindra</td>\n",
       "      <td>Mahindra XUV500</td>\n",
       "      <td>...</td>\n",
       "      <td>175 kmph</td>\n",
       "      <td>12.5 Seconds</td>\n",
       "      <td>Tubeless,Radial</td>\n",
       "      <td>5.0</td>\n",
       "      <td>NaN</td>\n",
       "      <td>17</td>\n",
       "      <td>17</td>\n",
       "      <td>NaN</td>\n",
       "      <td>Hyderabad</td>\n",
       "      <td>NaN</td>\n",
       "    </tr>\n",
       "    <tr>\n",
       "      <th>1479</th>\n",
       "      <td>https://www.cardekho.com/used-car-details/used...</td>\n",
       "      <td>0</td>\n",
       "      <td>Diesel</td>\n",
       "      <td>Sedan</td>\n",
       "      <td>50,000</td>\n",
       "      <td>Automatic</td>\n",
       "      <td>1</td>\n",
       "      <td>1st Owner</td>\n",
       "      <td>Jaguar</td>\n",
       "      <td>Jaguar XF</td>\n",
       "      <td>...</td>\n",
       "      <td>250 Kmph</td>\n",
       "      <td>6.4 Seconds</td>\n",
       "      <td>Tubeless,Radial</td>\n",
       "      <td>4.0</td>\n",
       "      <td>540-litres</td>\n",
       "      <td>20</td>\n",
       "      <td>20</td>\n",
       "      <td>NaN</td>\n",
       "      <td>Hyderabad</td>\n",
       "      <td>NaN</td>\n",
       "    </tr>\n",
       "    <tr>\n",
       "      <th>1480</th>\n",
       "      <td>https://www.cardekho.com/used-car-details/used...</td>\n",
       "      <td>0</td>\n",
       "      <td>Diesel</td>\n",
       "      <td>Sedan</td>\n",
       "      <td>1,20,000</td>\n",
       "      <td>Automatic</td>\n",
       "      <td>3</td>\n",
       "      <td>3rd Owner</td>\n",
       "      <td>BMW</td>\n",
       "      <td>BMW 5 Series</td>\n",
       "      <td>...</td>\n",
       "      <td>235kmph</td>\n",
       "      <td>7.5</td>\n",
       "      <td>Tubeless, Runflat</td>\n",
       "      <td>4.0</td>\n",
       "      <td>520-litres</td>\n",
       "      <td>R18</td>\n",
       "      <td>R18</td>\n",
       "      <td>NaN</td>\n",
       "      <td>Hyderabad</td>\n",
       "      <td>NaN</td>\n",
       "    </tr>\n",
       "    <tr>\n",
       "      <th>1481</th>\n",
       "      <td>https://www.cardekho.com/used-car-details/used...</td>\n",
       "      <td>0</td>\n",
       "      <td>Diesel</td>\n",
       "      <td>SUV</td>\n",
       "      <td>50,000</td>\n",
       "      <td>Automatic</td>\n",
       "      <td>2</td>\n",
       "      <td>2nd Owner</td>\n",
       "      <td>Tata</td>\n",
       "      <td>Tata Nexon</td>\n",
       "      <td>...</td>\n",
       "      <td>154.19 kmph</td>\n",
       "      <td>13.25 Seconds</td>\n",
       "      <td>Tubeless Radial Tyres</td>\n",
       "      <td>5.0</td>\n",
       "      <td>350</td>\n",
       "      <td>NaN</td>\n",
       "      <td>NaN</td>\n",
       "      <td>209 mm</td>\n",
       "      <td>Hyderabad</td>\n",
       "      <td>NaN</td>\n",
       "    </tr>\n",
       "    <tr>\n",
       "      <th>1482</th>\n",
       "      <td>https://www.cardekho.com/used-car-details/used...</td>\n",
       "      <td>0</td>\n",
       "      <td>Diesel</td>\n",
       "      <td>MUV</td>\n",
       "      <td>1,00,000</td>\n",
       "      <td>Manual</td>\n",
       "      <td>1</td>\n",
       "      <td>1st Owner</td>\n",
       "      <td>Toyota</td>\n",
       "      <td>Toyota Innova</td>\n",
       "      <td>...</td>\n",
       "      <td>155 Kmph</td>\n",
       "      <td>13.3 Seconds</td>\n",
       "      <td>Tubeless,Radial</td>\n",
       "      <td>5.0</td>\n",
       "      <td>300-litres</td>\n",
       "      <td>15</td>\n",
       "      <td>15</td>\n",
       "      <td>NaN</td>\n",
       "      <td>Hyderabad</td>\n",
       "      <td>NaN</td>\n",
       "    </tr>\n",
       "  </tbody>\n",
       "</table>\n",
       "<p>8369 rows × 76 columns</p>\n",
       "</div>"
      ],
      "text/plain": [
       "                                              car_links  it      ft  \\\n",
       "0     https://www.cardekho.com/used-car-details/used...   0  Petrol   \n",
       "1     https://www.cardekho.com/buy-used-car-details/...   0  Petrol   \n",
       "2     https://www.cardekho.com/used-car-details/used...   0  Petrol   \n",
       "3     https://www.cardekho.com/buy-used-car-details/...   0  Petrol   \n",
       "4     https://www.cardekho.com/used-car-details/used...   0  Diesel   \n",
       "...                                                 ...  ..     ...   \n",
       "1478  https://www.cardekho.com/used-car-details/used...   0  Diesel   \n",
       "1479  https://www.cardekho.com/used-car-details/used...   0  Diesel   \n",
       "1480  https://www.cardekho.com/used-car-details/used...   0  Diesel   \n",
       "1481  https://www.cardekho.com/used-car-details/used...   0  Diesel   \n",
       "1482  https://www.cardekho.com/used-car-details/used...   0  Diesel   \n",
       "\n",
       "             bt        km transmission  ownerNo      owner       oem  \\\n",
       "0     Hatchback  1,20,000       Manual        3  3rd Owner    Maruti   \n",
       "1           SUV    32,706       Manual        2  2nd Owner      Ford   \n",
       "2     Hatchback    11,949       Manual        1  1st Owner      Tata   \n",
       "3         Sedan    17,794       Manual        1  1st Owner   Hyundai   \n",
       "4           SUV    60,000       Manual        1  1st Owner    Maruti   \n",
       "...         ...       ...          ...      ...        ...       ...   \n",
       "1478        SUV    60,000       Manual        1  1st Owner  Mahindra   \n",
       "1479      Sedan    50,000    Automatic        1  1st Owner    Jaguar   \n",
       "1480      Sedan  1,20,000    Automatic        3  3rd Owner       BMW   \n",
       "1481        SUV    50,000    Automatic        2  2nd Owner      Tata   \n",
       "1482        MUV  1,00,000       Manual        1  1st Owner    Toyota   \n",
       "\n",
       "                   model  ...    top_speed   acceleration  \\\n",
       "0         Maruti Celerio  ...     150 Kmph  15.05 Seconds   \n",
       "1          Ford Ecosport  ...          NaN            NaN   \n",
       "2             Tata Tiago  ...     150 kmph   14.3 Seconds   \n",
       "3          Hyundai Xcent  ...     172km/hr   14.2 Seconds   \n",
       "4     Maruti SX4 S Cross  ...     190 Kmph     12 Seconds   \n",
       "...                  ...  ...          ...            ...   \n",
       "1478     Mahindra XUV500  ...     175 kmph   12.5 Seconds   \n",
       "1479           Jaguar XF  ...     250 Kmph    6.4 Seconds   \n",
       "1480        BMW 5 Series  ...      235kmph            7.5   \n",
       "1481          Tata Nexon  ...  154.19 kmph  13.25 Seconds   \n",
       "1482       Toyota Innova  ...     155 Kmph   13.3 Seconds   \n",
       "\n",
       "                  tyre_type no_door_numbers cargo_volumn  wheel_size  \\\n",
       "0          Tubeless, Radial             5.0   235-litres         NaN   \n",
       "1           Tubeless,Radial             4.0   352-litres          16   \n",
       "2                  Tubeless             5.0   242-litres          14   \n",
       "3           Tubeless,Radial             4.0   407-litres          14   \n",
       "4           Tubeless,Radial             5.0   353-litres          16   \n",
       "...                     ...             ...          ...         ...   \n",
       "1478       Tubeless,Radial              5.0          NaN          17   \n",
       "1479        Tubeless,Radial             4.0   540-litres          20   \n",
       "1480      Tubeless, Runflat             4.0   520-litres         R18   \n",
       "1481  Tubeless Radial Tyres             5.0          350         NaN   \n",
       "1482        Tubeless,Radial             5.0   300-litres          15   \n",
       "\n",
       "      alloy_wheel_size ground_clearance_unladen       City    9  \n",
       "0                  NaN                      NaN  Bangalore  NaN  \n",
       "1                   16                      NaN  Bangalore  NaN  \n",
       "2                   14                      NaN  Bangalore  NaN  \n",
       "3                   14                      NaN  Bangalore  NaN  \n",
       "4                   16                      NaN  Bangalore  NaN  \n",
       "...                ...                      ...        ...  ...  \n",
       "1478                17                      NaN  Hyderabad  NaN  \n",
       "1479                20                      NaN  Hyderabad  NaN  \n",
       "1480               R18                      NaN  Hyderabad  NaN  \n",
       "1481               NaN                   209 mm  Hyderabad  NaN  \n",
       "1482                15                      NaN  Hyderabad  NaN  \n",
       "\n",
       "[8369 rows x 76 columns]"
      ]
     },
     "execution_count": 2,
     "metadata": {},
     "output_type": "execute_result"
    }
   ],
   "source": [
    "df_car_details=pd.concat([bangalore_df,jaipur_df,chennai_df,delhi_df,kolkata_df,hyderabad_df])\n",
    "df_car_details"
   ]
  },
  {
   "cell_type": "code",
   "execution_count": 9,
   "id": "8fc005f8-9dd5-4a06-8468-693910a16ea9",
   "metadata": {},
   "outputs": [],
   "source": [
    "df_car_details.to_csv(\"car.csv\", index=False)"
   ]
  },
  {
   "cell_type": "code",
   "execution_count": 3,
   "id": "77ff4606-3680-476e-84f2-f670820caead",
   "metadata": {},
   "outputs": [
    {
     "data": {
      "text/plain": [
       "car_links                      0\n",
       "it                             0\n",
       "ft                             0\n",
       "bt                             4\n",
       "km                             0\n",
       "                            ... \n",
       "wheel_size                  2983\n",
       "alloy_wheel_size            2983\n",
       "ground_clearance_unladen    7854\n",
       "City                           0\n",
       "9                           7031\n",
       "Length: 76, dtype: int64"
      ]
     },
     "execution_count": 3,
     "metadata": {},
     "output_type": "execute_result"
    }
   ],
   "source": [
    "df_car_details.isnull().sum()"
   ]
  },
  {
   "cell_type": "code",
   "execution_count": 5,
   "id": "457264f4-9155-4fa4-bcc0-19a2d9eb1718",
   "metadata": {},
   "outputs": [],
   "source": [
    "df_car_details.drop('car_links',axis=1,inplace=True)"
   ]
  },
  {
   "cell_type": "code",
   "execution_count": 7,
   "id": "ee8db672-88dd-4a8e-acde-405e2c0d1dfb",
   "metadata": {},
   "outputs": [],
   "source": [
    "df_car_details.drop(9,axis=1,inplace=True)"
   ]
  },
  {
   "cell_type": "code",
   "execution_count": 6,
   "id": "0e715941-dbc6-4224-9b32-11a47913f354",
   "metadata": {},
   "outputs": [
    {
     "data": {
      "text/html": [
       "<div>\n",
       "<style scoped>\n",
       "    .dataframe tbody tr th:only-of-type {\n",
       "        vertical-align: middle;\n",
       "    }\n",
       "\n",
       "    .dataframe tbody tr th {\n",
       "        vertical-align: top;\n",
       "    }\n",
       "\n",
       "    .dataframe thead th {\n",
       "        text-align: right;\n",
       "    }\n",
       "</style>\n",
       "<table border=\"1\" class=\"dataframe\">\n",
       "  <thead>\n",
       "    <tr style=\"text-align: right;\">\n",
       "      <th></th>\n",
       "      <th>it</th>\n",
       "      <th>ft</th>\n",
       "      <th>bt</th>\n",
       "      <th>km</th>\n",
       "      <th>transmission</th>\n",
       "      <th>ownerNo</th>\n",
       "      <th>owner</th>\n",
       "      <th>oem</th>\n",
       "      <th>model</th>\n",
       "      <th>modelYear</th>\n",
       "      <th>...</th>\n",
       "      <th>rear_brake_type</th>\n",
       "      <th>top_speed</th>\n",
       "      <th>acceleration</th>\n",
       "      <th>tyre_type</th>\n",
       "      <th>no_door_numbers</th>\n",
       "      <th>cargo_volumn</th>\n",
       "      <th>wheel_size</th>\n",
       "      <th>alloy_wheel_size</th>\n",
       "      <th>ground_clearance_unladen</th>\n",
       "      <th>City</th>\n",
       "    </tr>\n",
       "  </thead>\n",
       "  <tbody>\n",
       "    <tr>\n",
       "      <th>0</th>\n",
       "      <td>0</td>\n",
       "      <td>Petrol</td>\n",
       "      <td>Hatchback</td>\n",
       "      <td>1,20,000</td>\n",
       "      <td>Manual</td>\n",
       "      <td>3</td>\n",
       "      <td>3rd Owner</td>\n",
       "      <td>Maruti</td>\n",
       "      <td>Maruti Celerio</td>\n",
       "      <td>2015</td>\n",
       "      <td>...</td>\n",
       "      <td>Drum</td>\n",
       "      <td>150 Kmph</td>\n",
       "      <td>15.05 Seconds</td>\n",
       "      <td>Tubeless, Radial</td>\n",
       "      <td>5.0</td>\n",
       "      <td>235-litres</td>\n",
       "      <td>NaN</td>\n",
       "      <td>NaN</td>\n",
       "      <td>NaN</td>\n",
       "      <td>Bangalore</td>\n",
       "    </tr>\n",
       "    <tr>\n",
       "      <th>1</th>\n",
       "      <td>0</td>\n",
       "      <td>Petrol</td>\n",
       "      <td>SUV</td>\n",
       "      <td>32,706</td>\n",
       "      <td>Manual</td>\n",
       "      <td>2</td>\n",
       "      <td>2nd Owner</td>\n",
       "      <td>Ford</td>\n",
       "      <td>Ford Ecosport</td>\n",
       "      <td>2018</td>\n",
       "      <td>...</td>\n",
       "      <td>Drum</td>\n",
       "      <td>NaN</td>\n",
       "      <td>NaN</td>\n",
       "      <td>Tubeless,Radial</td>\n",
       "      <td>4.0</td>\n",
       "      <td>352-litres</td>\n",
       "      <td>16</td>\n",
       "      <td>16</td>\n",
       "      <td>NaN</td>\n",
       "      <td>Bangalore</td>\n",
       "    </tr>\n",
       "    <tr>\n",
       "      <th>2</th>\n",
       "      <td>0</td>\n",
       "      <td>Petrol</td>\n",
       "      <td>Hatchback</td>\n",
       "      <td>11,949</td>\n",
       "      <td>Manual</td>\n",
       "      <td>1</td>\n",
       "      <td>1st Owner</td>\n",
       "      <td>Tata</td>\n",
       "      <td>Tata Tiago</td>\n",
       "      <td>2018</td>\n",
       "      <td>...</td>\n",
       "      <td>Drum</td>\n",
       "      <td>150 kmph</td>\n",
       "      <td>14.3 Seconds</td>\n",
       "      <td>Tubeless</td>\n",
       "      <td>5.0</td>\n",
       "      <td>242-litres</td>\n",
       "      <td>14</td>\n",
       "      <td>14</td>\n",
       "      <td>NaN</td>\n",
       "      <td>Bangalore</td>\n",
       "    </tr>\n",
       "    <tr>\n",
       "      <th>3</th>\n",
       "      <td>0</td>\n",
       "      <td>Petrol</td>\n",
       "      <td>Sedan</td>\n",
       "      <td>17,794</td>\n",
       "      <td>Manual</td>\n",
       "      <td>1</td>\n",
       "      <td>1st Owner</td>\n",
       "      <td>Hyundai</td>\n",
       "      <td>Hyundai Xcent</td>\n",
       "      <td>2014</td>\n",
       "      <td>...</td>\n",
       "      <td>Drum</td>\n",
       "      <td>172km/hr</td>\n",
       "      <td>14.2 Seconds</td>\n",
       "      <td>Tubeless,Radial</td>\n",
       "      <td>4.0</td>\n",
       "      <td>407-litres</td>\n",
       "      <td>14</td>\n",
       "      <td>14</td>\n",
       "      <td>NaN</td>\n",
       "      <td>Bangalore</td>\n",
       "    </tr>\n",
       "    <tr>\n",
       "      <th>4</th>\n",
       "      <td>0</td>\n",
       "      <td>Diesel</td>\n",
       "      <td>SUV</td>\n",
       "      <td>60,000</td>\n",
       "      <td>Manual</td>\n",
       "      <td>1</td>\n",
       "      <td>1st Owner</td>\n",
       "      <td>Maruti</td>\n",
       "      <td>Maruti SX4 S Cross</td>\n",
       "      <td>2015</td>\n",
       "      <td>...</td>\n",
       "      <td>Solid Disc</td>\n",
       "      <td>190 Kmph</td>\n",
       "      <td>12 Seconds</td>\n",
       "      <td>Tubeless,Radial</td>\n",
       "      <td>5.0</td>\n",
       "      <td>353-litres</td>\n",
       "      <td>16</td>\n",
       "      <td>16</td>\n",
       "      <td>NaN</td>\n",
       "      <td>Bangalore</td>\n",
       "    </tr>\n",
       "  </tbody>\n",
       "</table>\n",
       "<p>5 rows × 74 columns</p>\n",
       "</div>"
      ],
      "text/plain": [
       "   it      ft         bt        km transmission  ownerNo      owner      oem  \\\n",
       "0   0  Petrol  Hatchback  1,20,000       Manual        3  3rd Owner   Maruti   \n",
       "1   0  Petrol        SUV    32,706       Manual        2  2nd Owner     Ford   \n",
       "2   0  Petrol  Hatchback    11,949       Manual        1  1st Owner     Tata   \n",
       "3   0  Petrol      Sedan    17,794       Manual        1  1st Owner  Hyundai   \n",
       "4   0  Diesel        SUV    60,000       Manual        1  1st Owner   Maruti   \n",
       "\n",
       "                model  modelYear  ...  rear_brake_type top_speed  \\\n",
       "0      Maruti Celerio       2015  ...             Drum  150 Kmph   \n",
       "1       Ford Ecosport       2018  ...             Drum       NaN   \n",
       "2          Tata Tiago       2018  ...             Drum  150 kmph   \n",
       "3       Hyundai Xcent       2014  ...             Drum  172km/hr   \n",
       "4  Maruti SX4 S Cross       2015  ...       Solid Disc  190 Kmph   \n",
       "\n",
       "    acceleration         tyre_type  no_door_numbers  cargo_volumn wheel_size  \\\n",
       "0  15.05 Seconds  Tubeless, Radial              5.0    235-litres        NaN   \n",
       "1            NaN   Tubeless,Radial              4.0    352-litres         16   \n",
       "2   14.3 Seconds          Tubeless              5.0    242-litres         14   \n",
       "3   14.2 Seconds   Tubeless,Radial              4.0    407-litres         14   \n",
       "4     12 Seconds   Tubeless,Radial              5.0    353-litres         16   \n",
       "\n",
       "  alloy_wheel_size ground_clearance_unladen       City  \n",
       "0              NaN                      NaN  Bangalore  \n",
       "1               16                      NaN  Bangalore  \n",
       "2               14                      NaN  Bangalore  \n",
       "3               14                      NaN  Bangalore  \n",
       "4               16                      NaN  Bangalore  \n",
       "\n",
       "[5 rows x 74 columns]"
      ]
     },
     "execution_count": 6,
     "metadata": {},
     "output_type": "execute_result"
    }
   ],
   "source": [
    "df_car_details.head(5)"
   ]
  },
  {
   "cell_type": "code",
   "execution_count": 13,
   "id": "a5257408-0747-422f-91b7-6d020c65d2fa",
   "metadata": {},
   "outputs": [
    {
     "name": "stdout",
     "output_type": "stream",
     "text": [
      "wheel_size\n",
      "16     1500\n",
      "15     1063\n",
      "17      826\n",
      "14      679\n",
      "18      381\n",
      "13      352\n",
      "R16     142\n",
      "19      109\n",
      "12       85\n",
      "R15      83\n",
      "R17      57\n",
      "20       43\n",
      "R18      41\n",
      "R14       9\n",
      "R19       8\n",
      "21        7\n",
      "R20       1\n",
      "Name: count, dtype: int64\n"
     ]
    }
   ],
   "source": [
    "# Get value counts for the 'wheel_size' column\n",
    "value_counts = df_car_details['wheel_size'].value_counts()\n",
    "\n",
    "# Display the result\n",
    "print(value_counts)"
   ]
  },
  {
   "cell_type": "code",
   "execution_count": 15,
   "id": "05beae45-e39b-4c0b-9611-633c734e8afc",
   "metadata": {},
   "outputs": [
    {
     "name": "stderr",
     "output_type": "stream",
     "text": [
      "C:\\Users\\babuk\\AppData\\Local\\Temp\\ipykernel_6076\\3850693713.py:1: FutureWarning: A value is trying to be set on a copy of a DataFrame or Series through chained assignment using an inplace method.\n",
      "The behavior will change in pandas 3.0. This inplace method will never work because the intermediate object on which we are setting values always behaves as a copy.\n",
      "\n",
      "For example, when doing 'df[col].method(value, inplace=True)', try using 'df.method({col: value}, inplace=True)' or df[col] = df[col].method(value) instead, to perform the operation inplace on the original object.\n",
      "\n",
      "\n",
      "  df_car_details['wheel_size'].fillna('16',inplace=True)\n"
     ]
    }
   ],
   "source": [
    "df_car_details['wheel_size'].fillna('16',inplace=True)"
   ]
  },
  {
   "cell_type": "code",
   "execution_count": 17,
   "id": "d262f2d1-13b4-4639-bf01-9c6a626124d2",
   "metadata": {},
   "outputs": [
    {
     "name": "stdout",
     "output_type": "stream",
     "text": [
      "alloy_wheel_size\n",
      "16     1500\n",
      "15     1063\n",
      "17      826\n",
      "14      679\n",
      "18      381\n",
      "13      352\n",
      "R16     142\n",
      "19      109\n",
      "12       85\n",
      "R15      83\n",
      "R17      57\n",
      "20       43\n",
      "R18      41\n",
      "R14       9\n",
      "R19       8\n",
      "21        7\n",
      "R20       1\n",
      "Name: count, dtype: int64\n"
     ]
    }
   ],
   "source": [
    "value_counts1 = df_car_details['alloy_wheel_size'].value_counts()\n",
    "\n",
    "# Display the result\n",
    "print(value_counts1)"
   ]
  },
  {
   "cell_type": "code",
   "execution_count": 19,
   "id": "225f0f85-21c4-469f-a228-fac95af1ac78",
   "metadata": {},
   "outputs": [
    {
     "name": "stderr",
     "output_type": "stream",
     "text": [
      "C:\\Users\\babuk\\AppData\\Local\\Temp\\ipykernel_6076\\1843638543.py:1: FutureWarning: A value is trying to be set on a copy of a DataFrame or Series through chained assignment using an inplace method.\n",
      "The behavior will change in pandas 3.0. This inplace method will never work because the intermediate object on which we are setting values always behaves as a copy.\n",
      "\n",
      "For example, when doing 'df[col].method(value, inplace=True)', try using 'df.method({col: value}, inplace=True)' or df[col] = df[col].method(value) instead, to perform the operation inplace on the original object.\n",
      "\n",
      "\n",
      "  df_car_details['alloy_wheel_size'].fillna('16',inplace=True)\n"
     ]
    }
   ],
   "source": [
    "df_car_details['alloy_wheel_size'].fillna('16',inplace=True)"
   ]
  },
  {
   "cell_type": "code",
   "execution_count": 29,
   "id": "4c2435d1-3afb-403a-af13-ac936d231c78",
   "metadata": {},
   "outputs": [
    {
     "name": "stdout",
     "output_type": "stream",
     "text": [
      "it                          100.000000\n",
      "ft                          100.000000\n",
      "bt                           99.952205\n",
      "km                          100.000000\n",
      "transmission                100.000000\n",
      "                               ...    \n",
      "cargo_volumn                 80.965468\n",
      "wheel_size                  100.000000\n",
      "alloy_wheel_size            100.000000\n",
      "ground_clearance_unladen      6.153662\n",
      "City                        100.000000\n",
      "Length: 74, dtype: float64\n"
     ]
    }
   ],
   "source": [
    "# Calculate the percentage of non-null values for each column\n",
    "non_null_percentage = df_car_details.notnull().mean() * 100\n",
    "print(non_null_percentage)"
   ]
  },
  {
   "cell_type": "code",
   "execution_count": 97,
   "id": "a6fc2edb-b4e5-4521-8e3e-3a05aeae3293",
   "metadata": {},
   "outputs": [],
   "source": [
    "# Identify columns with less than 80% non-null values\n",
    "columns_to_drop = non_null_percentage[non_null_percentage < 75].index\n",
    "\n",
    "# Drop those columns\n",
    "df_car_details = df_car_details.drop(columns=columns_to_drop)"
   ]
  },
  {
   "cell_type": "code",
   "execution_count": 99,
   "id": "8111efac-04a9-4b70-8b7f-a10a233af939",
   "metadata": {},
   "outputs": [
    {
     "data": {
      "text/plain": [
       "it                                  0\n",
       "ft                                  0\n",
       "bt                                  4\n",
       "km                                  0\n",
       "transmission                        0\n",
       "ownerNo                             0\n",
       "owner                               0\n",
       "oem                                 0\n",
       "model                               0\n",
       "modelYear                           0\n",
       "centralVariantId                    0\n",
       "variantName                         0\n",
       "price                               0\n",
       "trendingText                        0\n",
       "registration_year                   0\n",
       "insurance_validity                  0\n",
       "fuel_type                           0\n",
       "seats                               0\n",
       "kms_driven                          0\n",
       "rto                                 0\n",
       "ownership                           0\n",
       "engine_displacement                 0\n",
       "transmission.1                      0\n",
       "year_of_manufacture                 0\n",
       "Features                            0\n",
       "Comfort & Convenience               0\n",
       "Interior                           77\n",
       "Exterior                           90\n",
       "Safety                             96\n",
       "Entertainment & Communication    1095\n",
       "mileage                           287\n",
       "engine                              4\n",
       "max_power                          60\n",
       "torque                             60\n",
       "seats.1                             6\n",
       "color                               3\n",
       "engine_type                       295\n",
       "displacement                        4\n",
       "max_torque                         60\n",
       "no_of_cylinder                     31\n",
       "values_per_cylinder                51\n",
       "fuel_suppy_system                1727\n",
       "turbo_charger                    1040\n",
       "super_charger                    1962\n",
       "length                             79\n",
       "width                              83\n",
       "height                             79\n",
       "wheel_base                        163\n",
       "kerb_weight                        59\n",
       "gear_box                          106\n",
       "dtype: int64"
      ]
     },
     "execution_count": 99,
     "metadata": {},
     "output_type": "execute_result"
    }
   ],
   "source": [
    "df_car_details.isnull().sum().head(50)"
   ]
  },
  {
   "cell_type": "code",
   "execution_count": 101,
   "id": "0f6f025b-24e7-42e6-a62c-56e112a1c497",
   "metadata": {},
   "outputs": [
    {
     "data": {
      "text/plain": [
       "turbo_charger       1040\n",
       "super_charger       1962\n",
       "length                79\n",
       "width                 83\n",
       "height                79\n",
       "wheel_base           163\n",
       "kerb_weight           59\n",
       "gear_box             106\n",
       "drive_type          1560\n",
       "seating_capacity       6\n",
       "steering_type        255\n",
       "turning_radius      1600\n",
       "front_brake_type      96\n",
       "rear_brake_type       96\n",
       "tyre_type             77\n",
       "no_door_numbers        0\n",
       "cargo_volumn           0\n",
       "wheel_size             0\n",
       "alloy_wheel_size       0\n",
       "City                   0\n",
       "dtype: int64"
      ]
     },
     "execution_count": 101,
     "metadata": {},
     "output_type": "execute_result"
    }
   ],
   "source": [
    "df_car_details.isnull().sum().tail(20)"
   ]
  },
  {
   "cell_type": "code",
   "execution_count": 59,
   "id": "56e9d5df-b886-4e03-ab3f-c3da9a5dcbf7",
   "metadata": {},
   "outputs": [
    {
     "name": "stdout",
     "output_type": "stream",
     "text": [
      "no_door_numbers\n",
      "5.0    5800\n",
      "4.0    2499\n",
      "3.0      44\n",
      "2.0      13\n",
      "6.0       2\n",
      "Name: count, dtype: int64\n"
     ]
    }
   ],
   "source": [
    "value_counts2 = df_car_details['no_door_numbers'].value_counts()\n",
    "\n",
    "# Display the result\n",
    "print(value_counts2)"
   ]
  },
  {
   "cell_type": "code",
   "execution_count": 61,
   "id": "b7ff367f-b6ea-41e8-9233-09ffe74355f6",
   "metadata": {},
   "outputs": [
    {
     "name": "stderr",
     "output_type": "stream",
     "text": [
      "C:\\Users\\babuk\\AppData\\Local\\Temp\\ipykernel_6076\\201828011.py:1: FutureWarning: A value is trying to be set on a copy of a DataFrame or Series through chained assignment using an inplace method.\n",
      "The behavior will change in pandas 3.0. This inplace method will never work because the intermediate object on which we are setting values always behaves as a copy.\n",
      "\n",
      "For example, when doing 'df[col].method(value, inplace=True)', try using 'df.method({col: value}, inplace=True)' or df[col] = df[col].method(value) instead, to perform the operation inplace on the original object.\n",
      "\n",
      "\n",
      "  df_car_details['no_door_numbers'].fillna(5.0,inplace=True)\n"
     ]
    }
   ],
   "source": [
    "df_car_details['no_door_numbers'].fillna(5.0,inplace=True)"
   ]
  },
  {
   "cell_type": "code",
   "execution_count": 63,
   "id": "319a67d7-085d-4a8d-9e35-5075771cbd23",
   "metadata": {},
   "outputs": [
    {
     "name": "stdout",
     "output_type": "stream",
     "text": [
      "cargo_volumn\n",
      "510-litres    292\n",
      "339-litres    283\n",
      "268           212\n",
      "400-litres    195\n",
      "350           157\n",
      "             ... \n",
      "300-litre       1\n",
      "483lts          1\n",
      "410             1\n",
      "398-litres      1\n",
      "180 liters      1\n",
      "Name: count, Length: 321, dtype: int64\n"
     ]
    }
   ],
   "source": [
    "value_counts3 = df_car_details['cargo_volumn'].value_counts()\n",
    "\n",
    "# Display the result\n",
    "print(value_counts3)"
   ]
  },
  {
   "cell_type": "code",
   "execution_count": 65,
   "id": "b4285571-21de-47e0-8bd9-c5dc8343774c",
   "metadata": {},
   "outputs": [
    {
     "name": "stderr",
     "output_type": "stream",
     "text": [
      "C:\\Users\\babuk\\AppData\\Local\\Temp\\ipykernel_6076\\414342451.py:1: FutureWarning: A value is trying to be set on a copy of a DataFrame or Series through chained assignment using an inplace method.\n",
      "The behavior will change in pandas 3.0. This inplace method will never work because the intermediate object on which we are setting values always behaves as a copy.\n",
      "\n",
      "For example, when doing 'df[col].method(value, inplace=True)', try using 'df.method({col: value}, inplace=True)' or df[col] = df[col].method(value) instead, to perform the operation inplace on the original object.\n",
      "\n",
      "\n",
      "  df_car_details['cargo_volumn'].fillna('510-litres',inplace=True)\n"
     ]
    }
   ],
   "source": [
    "df_car_details['cargo_volumn'].fillna('510-litres',inplace=True)"
   ]
  },
  {
   "cell_type": "code",
   "execution_count": 69,
   "id": "a800129e-27d6-4494-abe9-47d4c143ed93",
   "metadata": {},
   "outputs": [
    {
     "data": {
      "text/plain": [
       "rto\n",
       "WB02           451\n",
       "First Owner    418\n",
       "RJ14           363\n",
       "TS07           282\n",
       "TS08           243\n",
       "              ... \n",
       "UP63             1\n",
       "TN99             1\n",
       "998 cc           1\n",
       "TN88             1\n",
       "AP37             1\n",
       "Name: count, Length: 391, dtype: int64"
      ]
     },
     "execution_count": 69,
     "metadata": {},
     "output_type": "execute_result"
    }
   ],
   "source": [
    "df_car_details['rto'].value_counts()"
   ]
  },
  {
   "cell_type": "code",
   "execution_count": 71,
   "id": "12063f08-cb32-44dd-bd5b-90c8da2bd2a3",
   "metadata": {},
   "outputs": [
    {
     "name": "stderr",
     "output_type": "stream",
     "text": [
      "C:\\Users\\babuk\\AppData\\Local\\Temp\\ipykernel_6076\\1629572254.py:1: FutureWarning: A value is trying to be set on a copy of a DataFrame or Series through chained assignment using an inplace method.\n",
      "The behavior will change in pandas 3.0. This inplace method will never work because the intermediate object on which we are setting values always behaves as a copy.\n",
      "\n",
      "For example, when doing 'df[col].method(value, inplace=True)', try using 'df.method({col: value}, inplace=True)' or df[col] = df[col].method(value) instead, to perform the operation inplace on the original object.\n",
      "\n",
      "\n",
      "  df_car_details['rto'].fillna('WB02',inplace=True)\n"
     ]
    }
   ],
   "source": [
    "df_car_details['rto'].fillna('WB02',inplace=True)"
   ]
  },
  {
   "cell_type": "code",
   "execution_count": 73,
   "id": "814a4dfc-a28a-4694-892f-010e10759426",
   "metadata": {},
   "outputs": [
    {
     "data": {
      "text/plain": [
       "ownership\n",
       "First Owner     4401\n",
       "Second Owner    1524\n",
       "Third Owner      274\n",
       "HR26             167\n",
       "UP16             111\n",
       "                ... \n",
       "KA01               1\n",
       "UK14               1\n",
       "TS09               1\n",
       "HR89               1\n",
       "2354 cc            1\n",
       "Name: count, Length: 249, dtype: int64"
      ]
     },
     "execution_count": 73,
     "metadata": {},
     "output_type": "execute_result"
    }
   ],
   "source": [
    "df_car_details['ownership'].value_counts()"
   ]
  },
  {
   "cell_type": "code",
   "execution_count": 77,
   "id": "c900a667-4151-4e66-bf0d-9a56a295d015",
   "metadata": {},
   "outputs": [
    {
     "name": "stderr",
     "output_type": "stream",
     "text": [
      "C:\\Users\\babuk\\AppData\\Local\\Temp\\ipykernel_6076\\3349244690.py:1: FutureWarning: A value is trying to be set on a copy of a DataFrame or Series through chained assignment using an inplace method.\n",
      "The behavior will change in pandas 3.0. This inplace method will never work because the intermediate object on which we are setting values always behaves as a copy.\n",
      "\n",
      "For example, when doing 'df[col].method(value, inplace=True)', try using 'df.method({col: value}, inplace=True)' or df[col] = df[col].method(value) instead, to perform the operation inplace on the original object.\n",
      "\n",
      "\n",
      "  df_car_details['ownership'].fillna('First Owner',inplace=True)\n"
     ]
    }
   ],
   "source": [
    "df_car_details['ownership'].fillna('First Owner',inplace=True)"
   ]
  },
  {
   "cell_type": "code",
   "execution_count": 79,
   "id": "a026dff9-f0b8-4dfa-aa19-2c612f4a0a50",
   "metadata": {},
   "outputs": [
    {
     "data": {
      "text/plain": [
       "engine_displacement\n",
       "1197 cc        1226\n",
       "First Owner    1060\n",
       "Manual          571\n",
       "998 cc          502\n",
       "1199 cc         388\n",
       "               ... \n",
       "2200 cc           1\n",
       "3597 cc           1\n",
       "2360 cc           1\n",
       "2017              1\n",
       "2231 cc           1\n",
       "Name: count, Length: 148, dtype: int64"
      ]
     },
     "execution_count": 79,
     "metadata": {},
     "output_type": "execute_result"
    }
   ],
   "source": [
    "df_car_details['engine_displacement'].value_counts()"
   ]
  },
  {
   "cell_type": "code",
   "execution_count": 81,
   "id": "33ffc1e6-94bb-4cc5-947d-b2c380a833be",
   "metadata": {},
   "outputs": [
    {
     "name": "stderr",
     "output_type": "stream",
     "text": [
      "C:\\Users\\babuk\\AppData\\Local\\Temp\\ipykernel_6076\\911061807.py:1: FutureWarning: A value is trying to be set on a copy of a DataFrame or Series through chained assignment using an inplace method.\n",
      "The behavior will change in pandas 3.0. This inplace method will never work because the intermediate object on which we are setting values always behaves as a copy.\n",
      "\n",
      "For example, when doing 'df[col].method(value, inplace=True)', try using 'df.method({col: value}, inplace=True)' or df[col] = df[col].method(value) instead, to perform the operation inplace on the original object.\n",
      "\n",
      "\n",
      "  df_car_details['engine_displacement'].fillna('1197 cc',inplace=True)\n"
     ]
    }
   ],
   "source": [
    "df_car_details['engine_displacement'].fillna('1197 cc',inplace=True)"
   ]
  },
  {
   "cell_type": "code",
   "execution_count": 83,
   "id": "2d9e1fa3-d8a0-4169-a74a-798ca623dc35",
   "metadata": {},
   "outputs": [
    {
     "data": {
      "text/plain": [
       "transmission.1\n",
       "Manual       4615\n",
       "Automatic    1643\n",
       "1197 cc       275\n",
       "998 cc         91\n",
       "1497 cc        77\n",
       "             ... \n",
       "1797 cc         1\n",
       "2894 cc         1\n",
       "793 cc          1\n",
       "1047 cc         1\n",
       "2157 cc         1\n",
       "Name: count, Length: 118, dtype: int64"
      ]
     },
     "execution_count": 83,
     "metadata": {},
     "output_type": "execute_result"
    }
   ],
   "source": [
    "df_car_details['transmission.1'].value_counts()"
   ]
  },
  {
   "cell_type": "code",
   "execution_count": 85,
   "id": "05fb6a7c-688f-4b7c-a326-393b02c7ab30",
   "metadata": {},
   "outputs": [
    {
     "name": "stderr",
     "output_type": "stream",
     "text": [
      "C:\\Users\\babuk\\AppData\\Local\\Temp\\ipykernel_6076\\2235581572.py:1: FutureWarning: A value is trying to be set on a copy of a DataFrame or Series through chained assignment using an inplace method.\n",
      "The behavior will change in pandas 3.0. This inplace method will never work because the intermediate object on which we are setting values always behaves as a copy.\n",
      "\n",
      "For example, when doing 'df[col].method(value, inplace=True)', try using 'df.method({col: value}, inplace=True)' or df[col] = df[col].method(value) instead, to perform the operation inplace on the original object.\n",
      "\n",
      "\n",
      "  df_car_details['transmission.1'].fillna('Manual',inplace=True)\n"
     ]
    }
   ],
   "source": [
    "df_car_details['transmission.1'].fillna('Manual',inplace=True)"
   ]
  },
  {
   "cell_type": "code",
   "execution_count": 87,
   "id": "587255cc-3dcf-488d-bbb9-9981364b6efd",
   "metadata": {},
   "outputs": [
    {
     "data": {
      "text/plain": [
       "year_of_manufacture\n",
       "Manual       832\n",
       "2018.0       760\n",
       "2017.0       707\n",
       "2016.0       642\n",
       "2019.0       601\n",
       "Automatic    506\n",
       "2021.0       502\n",
       "2020.0       465\n",
       "2014.0       452\n",
       "2015.0       445\n",
       "2022.0       400\n",
       "2013.0       303\n",
       "2012.0       274\n",
       "2010.0       195\n",
       "2011.0       192\n",
       "2009.0        94\n",
       "2008.0        60\n",
       "2023.0        45\n",
       "2007.0        40\n",
       "2006.0        31\n",
       "2004.0        18\n",
       "2005.0        17\n",
       "2003.0        10\n",
       "2002.0         5\n",
       "Name: count, dtype: int64"
      ]
     },
     "execution_count": 87,
     "metadata": {},
     "output_type": "execute_result"
    }
   ],
   "source": [
    "df_car_details['year_of_manufacture'].value_counts()"
   ]
  },
  {
   "cell_type": "code",
   "execution_count": 91,
   "id": "24b4c800-6d75-477d-83e0-859ef7d62ed2",
   "metadata": {},
   "outputs": [
    {
     "name": "stderr",
     "output_type": "stream",
     "text": [
      "C:\\Users\\babuk\\AppData\\Local\\Temp\\ipykernel_6076\\132440175.py:1: FutureWarning: A value is trying to be set on a copy of a DataFrame or Series through chained assignment using an inplace method.\n",
      "The behavior will change in pandas 3.0. This inplace method will never work because the intermediate object on which we are setting values always behaves as a copy.\n",
      "\n",
      "For example, when doing 'df[col].method(value, inplace=True)', try using 'df.method({col: value}, inplace=True)' or df[col] = df[col].method(value) instead, to perform the operation inplace on the original object.\n",
      "\n",
      "\n",
      "  df_car_details['year_of_manufacture'].fillna('Manual',inplace=True)\n"
     ]
    }
   ],
   "source": [
    "df_car_details['year_of_manufacture'].fillna('Manual',inplace=True)"
   ]
  },
  {
   "cell_type": "code",
   "execution_count": 93,
   "id": "f5233da9-f84c-489f-b2b5-4d2d5a1aec70",
   "metadata": {},
   "outputs": [
    {
     "data": {
      "text/plain": [
       "Comfort & Convenience\n",
       "11.0    637\n",
       "10.0    551\n",
       "16.0    520\n",
       "15.0    519\n",
       "17.0    507\n",
       "14.0    450\n",
       "12.0    446\n",
       "13.0    443\n",
       "20.0    390\n",
       "9.0     389\n",
       "19.0    346\n",
       "21.0    332\n",
       "18.0    305\n",
       "23.0    292\n",
       "8.0     229\n",
       "5.0     220\n",
       "22.0    212\n",
       "7.0     196\n",
       "24.0    194\n",
       "27.0    170\n",
       "6.0     167\n",
       "25.0    150\n",
       "29.0    128\n",
       "26.0    122\n",
       "28.0     96\n",
       "30.0     59\n",
       "31.0     59\n",
       "2.0      43\n",
       "32.0     37\n",
       "33.0     21\n",
       "3.0      20\n",
       "4.0      18\n",
       "1.0      14\n",
       "34.0      9\n",
       "35.0      7\n",
       "37.0      3\n",
       "Name: count, dtype: int64"
      ]
     },
     "execution_count": 93,
     "metadata": {},
     "output_type": "execute_result"
    }
   ],
   "source": [
    "df_car_details['Comfort & Convenience'].value_counts()"
   ]
  },
  {
   "cell_type": "code",
   "execution_count": 95,
   "id": "5d488da8-d85c-4ffe-aca1-1b69a3d215fc",
   "metadata": {},
   "outputs": [
    {
     "name": "stderr",
     "output_type": "stream",
     "text": [
      "C:\\Users\\babuk\\AppData\\Local\\Temp\\ipykernel_6076\\2826898329.py:1: FutureWarning: A value is trying to be set on a copy of a DataFrame or Series through chained assignment using an inplace method.\n",
      "The behavior will change in pandas 3.0. This inplace method will never work because the intermediate object on which we are setting values always behaves as a copy.\n",
      "\n",
      "For example, when doing 'df[col].method(value, inplace=True)', try using 'df.method({col: value}, inplace=True)' or df[col] = df[col].method(value) instead, to perform the operation inplace on the original object.\n",
      "\n",
      "\n",
      "  df_car_details['Comfort & Convenience'].fillna(11.0,inplace=True)\n"
     ]
    }
   ],
   "source": [
    "df_car_details['Comfort & Convenience'].fillna(11.0,inplace=True)"
   ]
  },
  {
   "cell_type": "code",
   "execution_count": 103,
   "id": "765ac4b0-7b23-4512-b5d6-7c43210e0948",
   "metadata": {},
   "outputs": [
    {
     "data": {
      "text/plain": [
       "Interior\n",
       "11.0    1562\n",
       "12.0    1512\n",
       "10.0    1283\n",
       "9.0      928\n",
       "13.0     646\n",
       "8.0      586\n",
       "7.0      567\n",
       "6.0      361\n",
       "14.0     308\n",
       "15.0     207\n",
       "5.0      137\n",
       "4.0       63\n",
       "16.0      60\n",
       "3.0       31\n",
       "2.0       13\n",
       "1.0       13\n",
       "17.0      10\n",
       "18.0       5\n",
       "Name: count, dtype: int64"
      ]
     },
     "execution_count": 103,
     "metadata": {},
     "output_type": "execute_result"
    }
   ],
   "source": [
    "df_car_details['Interior'].value_counts()"
   ]
  },
  {
   "cell_type": "code",
   "execution_count": 105,
   "id": "c28a6e1f-cced-42f7-b482-c7da78f614f6",
   "metadata": {},
   "outputs": [
    {
     "name": "stderr",
     "output_type": "stream",
     "text": [
      "C:\\Users\\babuk\\AppData\\Local\\Temp\\ipykernel_6076\\720106280.py:1: FutureWarning: A value is trying to be set on a copy of a DataFrame or Series through chained assignment using an inplace method.\n",
      "The behavior will change in pandas 3.0. This inplace method will never work because the intermediate object on which we are setting values always behaves as a copy.\n",
      "\n",
      "For example, when doing 'df[col].method(value, inplace=True)', try using 'df.method({col: value}, inplace=True)' or df[col] = df[col].method(value) instead, to perform the operation inplace on the original object.\n",
      "\n",
      "\n",
      "  df_car_details['Interior'].fillna(11.0,inplace=True)\n"
     ]
    }
   ],
   "source": [
    "df_car_details['Interior'].fillna(11.0,inplace=True)"
   ]
  },
  {
   "cell_type": "code",
   "execution_count": 107,
   "id": "b43b6fc4-6456-4736-9edd-677eb6a079ee",
   "metadata": {},
   "outputs": [
    {
     "data": {
      "text/plain": [
       "Exterior\n",
       "12.0    786\n",
       "10.0    673\n",
       "5.0     615\n",
       "11.0    608\n",
       "13.0    594\n",
       "9.0     588\n",
       "7.0     543\n",
       "8.0     527\n",
       "6.0     489\n",
       "16.0    454\n",
       "15.0    426\n",
       "4.0     397\n",
       "14.0    365\n",
       "18.0    254\n",
       "3.0     183\n",
       "17.0    166\n",
       "20.0    150\n",
       "19.0    126\n",
       "2.0      82\n",
       "23.0     82\n",
       "21.0     68\n",
       "22.0     35\n",
       "24.0     23\n",
       "1.0      20\n",
       "26.0     18\n",
       "25.0      5\n",
       "27.0      2\n",
       "Name: count, dtype: int64"
      ]
     },
     "execution_count": 107,
     "metadata": {},
     "output_type": "execute_result"
    }
   ],
   "source": [
    "df_car_details['Exterior'].value_counts()"
   ]
  },
  {
   "cell_type": "code",
   "execution_count": 109,
   "id": "f1222d97-3224-4423-ad7e-3df56496d81f",
   "metadata": {},
   "outputs": [
    {
     "name": "stderr",
     "output_type": "stream",
     "text": [
      "C:\\Users\\babuk\\AppData\\Local\\Temp\\ipykernel_6076\\220693442.py:1: FutureWarning: A value is trying to be set on a copy of a DataFrame or Series through chained assignment using an inplace method.\n",
      "The behavior will change in pandas 3.0. This inplace method will never work because the intermediate object on which we are setting values always behaves as a copy.\n",
      "\n",
      "For example, when doing 'df[col].method(value, inplace=True)', try using 'df.method({col: value}, inplace=True)' or df[col] = df[col].method(value) instead, to perform the operation inplace on the original object.\n",
      "\n",
      "\n",
      "  df_car_details['Exterior'].fillna(12.0,inplace=True)\n"
     ]
    }
   ],
   "source": [
    "df_car_details['Exterior'].fillna(12.0,inplace=True)"
   ]
  },
  {
   "cell_type": "code",
   "execution_count": 111,
   "id": "7b971f7c-d944-4326-8bc3-d5212de4ab29",
   "metadata": {},
   "outputs": [
    {
     "data": {
      "text/plain": [
       "Safety\n",
       "24.0    749\n",
       "23.0    570\n",
       "22.0    539\n",
       "27.0    517\n",
       "28.0    435\n",
       "25.0    415\n",
       "26.0    397\n",
       "20.0    394\n",
       "21.0    362\n",
       "29.0    335\n",
       "30.0    329\n",
       "17.0    326\n",
       "19.0    274\n",
       "16.0    268\n",
       "13.0    256\n",
       "15.0    189\n",
       "32.0    184\n",
       "11.0    174\n",
       "31.0    162\n",
       "18.0    161\n",
       "14.0    151\n",
       "10.0    138\n",
       "33.0    129\n",
       "34.0    120\n",
       "35.0     97\n",
       "12.0     92\n",
       "38.0     83\n",
       "37.0     73\n",
       "9.0      73\n",
       "36.0     64\n",
       "6.0      59\n",
       "7.0      40\n",
       "39.0     28\n",
       "8.0      18\n",
       "40.0     17\n",
       "42.0     15\n",
       "5.0      13\n",
       "41.0     11\n",
       "45.0      7\n",
       "48.0      4\n",
       "1.0       3\n",
       "44.0      2\n",
       "Name: count, dtype: int64"
      ]
     },
     "execution_count": 111,
     "metadata": {},
     "output_type": "execute_result"
    }
   ],
   "source": [
    "df_car_details['Safety'].value_counts()"
   ]
  },
  {
   "cell_type": "code",
   "execution_count": 113,
   "id": "5311e16f-3d72-4cf1-8c56-b8127e983996",
   "metadata": {},
   "outputs": [
    {
     "name": "stderr",
     "output_type": "stream",
     "text": [
      "C:\\Users\\babuk\\AppData\\Local\\Temp\\ipykernel_6076\\798157972.py:1: FutureWarning: A value is trying to be set on a copy of a DataFrame or Series through chained assignment using an inplace method.\n",
      "The behavior will change in pandas 3.0. This inplace method will never work because the intermediate object on which we are setting values always behaves as a copy.\n",
      "\n",
      "For example, when doing 'df[col].method(value, inplace=True)', try using 'df.method({col: value}, inplace=True)' or df[col] = df[col].method(value) instead, to perform the operation inplace on the original object.\n",
      "\n",
      "\n",
      "  df_car_details['Safety'].fillna(24.0,inplace=True)\n"
     ]
    }
   ],
   "source": [
    "df_car_details['Safety'].fillna(24.0,inplace=True)"
   ]
  },
  {
   "cell_type": "code",
   "execution_count": 115,
   "id": "834403d2-f9d1-4f3d-8a54-a605719a8e58",
   "metadata": {},
   "outputs": [
    {
     "data": {
      "text/plain": [
       "Entertainment & Communication\n",
       "8.0     1293\n",
       "7.0     1149\n",
       "9.0     1094\n",
       "6.0      754\n",
       "10.0     674\n",
       "4.0      599\n",
       "11.0     576\n",
       "5.0      505\n",
       "12.0     228\n",
       "3.0      142\n",
       "2.0       93\n",
       "13.0      68\n",
       "1.0       38\n",
       "14.0      29\n",
       "15.0      14\n",
       "16.0       7\n",
       "21.0       5\n",
       "19.0       4\n",
       "17.0       2\n",
       "Name: count, dtype: int64"
      ]
     },
     "execution_count": 115,
     "metadata": {},
     "output_type": "execute_result"
    }
   ],
   "source": [
    "df_car_details['Entertainment & Communication'].value_counts()"
   ]
  },
  {
   "cell_type": "code",
   "execution_count": 117,
   "id": "1bbf0206-227c-4c10-b6d3-b3897eeb8714",
   "metadata": {},
   "outputs": [
    {
     "name": "stderr",
     "output_type": "stream",
     "text": [
      "C:\\Users\\babuk\\AppData\\Local\\Temp\\ipykernel_6076\\1085951926.py:1: FutureWarning: A value is trying to be set on a copy of a DataFrame or Series through chained assignment using an inplace method.\n",
      "The behavior will change in pandas 3.0. This inplace method will never work because the intermediate object on which we are setting values always behaves as a copy.\n",
      "\n",
      "For example, when doing 'df[col].method(value, inplace=True)', try using 'df.method({col: value}, inplace=True)' or df[col] = df[col].method(value) instead, to perform the operation inplace on the original object.\n",
      "\n",
      "\n",
      "  df_car_details['Entertainment & Communication'].fillna(8.0,inplace=True)\n"
     ]
    }
   ],
   "source": [
    "df_car_details['Entertainment & Communication'].fillna(8.0,inplace=True)"
   ]
  },
  {
   "cell_type": "code",
   "execution_count": 119,
   "id": "6c6f9502-793d-4a9d-94e4-2d9848457400",
   "metadata": {},
   "outputs": [
    {
     "data": {
      "text/plain": [
       "mileage\n",
       "18.9 kmpl     306\n",
       "18.6 kmpl     225\n",
       "21.4 kmpl     198\n",
       "17 kmpl       191\n",
       "18 kmpl       145\n",
       "             ... \n",
       "11.24 kmpl      1\n",
       "19.19 kmpl      1\n",
       "14.19 kmpl      1\n",
       "14.49 kmpl      1\n",
       "9.74 kmpl       1\n",
       "Name: count, Length: 522, dtype: int64"
      ]
     },
     "execution_count": 119,
     "metadata": {},
     "output_type": "execute_result"
    }
   ],
   "source": [
    "df_car_details['mileage'].value_counts()"
   ]
  },
  {
   "cell_type": "code",
   "execution_count": 121,
   "id": "129c8008-e9a3-42fb-95d1-025d0c35143d",
   "metadata": {},
   "outputs": [
    {
     "name": "stderr",
     "output_type": "stream",
     "text": [
      "C:\\Users\\babuk\\AppData\\Local\\Temp\\ipykernel_6076\\1354456680.py:1: FutureWarning: A value is trying to be set on a copy of a DataFrame or Series through chained assignment using an inplace method.\n",
      "The behavior will change in pandas 3.0. This inplace method will never work because the intermediate object on which we are setting values always behaves as a copy.\n",
      "\n",
      "For example, when doing 'df[col].method(value, inplace=True)', try using 'df.method({col: value}, inplace=True)' or df[col] = df[col].method(value) instead, to perform the operation inplace on the original object.\n",
      "\n",
      "\n",
      "  df_car_details['mileage'].fillna('18.9 kmpl',inplace=True)\n"
     ]
    }
   ],
   "source": [
    "df_car_details['mileage'].fillna('18.9 kmpl',inplace=True)"
   ]
  },
  {
   "cell_type": "code",
   "execution_count": 123,
   "id": "1c5016d3-ded5-49a7-b8bd-6074fdcfb876",
   "metadata": {},
   "outputs": [
    {
     "data": {
      "text/plain": [
       "engine\n",
       "1197 CC    1607\n",
       "998 CC      640\n",
       "1199 CC     489\n",
       "1497 CC     451\n",
       "1248 CC     424\n",
       "           ... \n",
       "4395 CC       1\n",
       "4134 CC       1\n",
       "1468 CC       1\n",
       "2997 CC       1\n",
       "2231 CC       1\n",
       "Name: count, Length: 150, dtype: int64"
      ]
     },
     "execution_count": 123,
     "metadata": {},
     "output_type": "execute_result"
    }
   ],
   "source": [
    "df_car_details['engine'].value_counts()"
   ]
  },
  {
   "cell_type": "code",
   "execution_count": 125,
   "id": "6c735b6c-b61f-4ecd-9577-f73e7a1d4e0c",
   "metadata": {},
   "outputs": [
    {
     "name": "stderr",
     "output_type": "stream",
     "text": [
      "C:\\Users\\babuk\\AppData\\Local\\Temp\\ipykernel_6076\\2326327687.py:1: FutureWarning: A value is trying to be set on a copy of a DataFrame or Series through chained assignment using an inplace method.\n",
      "The behavior will change in pandas 3.0. This inplace method will never work because the intermediate object on which we are setting values always behaves as a copy.\n",
      "\n",
      "For example, when doing 'df[col].method(value, inplace=True)', try using 'df.method({col: value}, inplace=True)' or df[col] = df[col].method(value) instead, to perform the operation inplace on the original object.\n",
      "\n",
      "\n",
      "  df_car_details['engine'].fillna('1197 CC',inplace=True)\n"
     ]
    }
   ],
   "source": [
    "df_car_details['engine'].fillna('1197 CC',inplace=True)"
   ]
  },
  {
   "cell_type": "code",
   "execution_count": 127,
   "id": "6f1b6c2e-bd54-430a-830d-3d879f82a98f",
   "metadata": {},
   "outputs": [
    {
     "data": {
      "text/plain": [
       "max_power\n",
       "81.80bhp@6000rpm     291\n",
       "81.86bhp@6000rpm     277\n",
       "88.50bhp@6000rpm     267\n",
       "83.1bhp@6000rpm      198\n",
       "74bhp@4000rpm        171\n",
       "                    ... \n",
       "255bhp@3750rpm         1\n",
       "214.5bhp@5700rpm       1\n",
       "214.56bhp@5700rpm      1\n",
       "254.79bhp@3400rpm      1\n",
       "61.6bhp@6200rpm        1\n",
       "Name: count, Length: 760, dtype: int64"
      ]
     },
     "execution_count": 127,
     "metadata": {},
     "output_type": "execute_result"
    }
   ],
   "source": [
    "df_car_details['max_power'].value_counts()"
   ]
  },
  {
   "cell_type": "code",
   "execution_count": 129,
   "id": "2aae32d9-78da-4a86-8a97-e8da5e092ece",
   "metadata": {},
   "outputs": [
    {
     "name": "stderr",
     "output_type": "stream",
     "text": [
      "C:\\Users\\babuk\\AppData\\Local\\Temp\\ipykernel_6076\\3230949812.py:1: FutureWarning: A value is trying to be set on a copy of a DataFrame or Series through chained assignment using an inplace method.\n",
      "The behavior will change in pandas 3.0. This inplace method will never work because the intermediate object on which we are setting values always behaves as a copy.\n",
      "\n",
      "For example, when doing 'df[col].method(value, inplace=True)', try using 'df.method({col: value}, inplace=True)' or df[col] = df[col].method(value) instead, to perform the operation inplace on the original object.\n",
      "\n",
      "\n",
      "  df_car_details['max_power'].fillna('81.80bhp@6000rpm',inplace=True)\n"
     ]
    }
   ],
   "source": [
    "df_car_details['max_power'].fillna('81.80bhp@6000rpm',inplace=True)"
   ]
  },
  {
   "cell_type": "code",
   "execution_count": 131,
   "id": "ff71b2c7-b5be-4bf2-b041-cbce42ea65c1",
   "metadata": {},
   "outputs": [
    {
     "data": {
      "text/plain": [
       "torque\n",
       "113Nm    570\n",
       "200Nm    397\n",
       "90Nm     378\n",
       "110Nm    303\n",
       "145Nm    276\n",
       "        ... \n",
       "500nm      1\n",
       "190nm      1\n",
       "135Nm      1\n",
       "196Nm      1\n",
       "16.1       1\n",
       "Name: count, Length: 366, dtype: int64"
      ]
     },
     "execution_count": 131,
     "metadata": {},
     "output_type": "execute_result"
    }
   ],
   "source": [
    "df_car_details['torque'].value_counts()"
   ]
  },
  {
   "cell_type": "code",
   "execution_count": 133,
   "id": "4207d1cf-24b2-443c-8a2b-2fa3903907ca",
   "metadata": {},
   "outputs": [
    {
     "name": "stderr",
     "output_type": "stream",
     "text": [
      "C:\\Users\\babuk\\AppData\\Local\\Temp\\ipykernel_6076\\1646492742.py:1: FutureWarning: A value is trying to be set on a copy of a DataFrame or Series through chained assignment using an inplace method.\n",
      "The behavior will change in pandas 3.0. This inplace method will never work because the intermediate object on which we are setting values always behaves as a copy.\n",
      "\n",
      "For example, when doing 'df[col].method(value, inplace=True)', try using 'df.method({col: value}, inplace=True)' or df[col] = df[col].method(value) instead, to perform the operation inplace on the original object.\n",
      "\n",
      "\n",
      "  df_car_details['torque'].fillna('113Nm',inplace=True)\n"
     ]
    }
   ],
   "source": [
    "df_car_details['torque'].fillna('113Nm',inplace=True)"
   ]
  },
  {
   "cell_type": "code",
   "execution_count": 135,
   "id": "534b0138-bd23-4927-92a0-6349bde4aae3",
   "metadata": {},
   "outputs": [
    {
     "data": {
      "text/plain": [
       "seats.1\n",
       "5.0     7354\n",
       "7.0      728\n",
       "6.0      103\n",
       "4.0       93\n",
       "8.0       62\n",
       "9.0       11\n",
       "2.0        7\n",
       "10.0       5\n",
       "Name: count, dtype: int64"
      ]
     },
     "execution_count": 135,
     "metadata": {},
     "output_type": "execute_result"
    }
   ],
   "source": [
    "df_car_details['seats.1'].value_counts()"
   ]
  },
  {
   "cell_type": "code",
   "execution_count": 139,
   "id": "fe511d91-46ca-463c-9d43-e670b3ec733d",
   "metadata": {},
   "outputs": [
    {
     "name": "stderr",
     "output_type": "stream",
     "text": [
      "C:\\Users\\babuk\\AppData\\Local\\Temp\\ipykernel_6076\\2731724030.py:1: FutureWarning: A value is trying to be set on a copy of a DataFrame or Series through chained assignment using an inplace method.\n",
      "The behavior will change in pandas 3.0. This inplace method will never work because the intermediate object on which we are setting values always behaves as a copy.\n",
      "\n",
      "For example, when doing 'df[col].method(value, inplace=True)', try using 'df.method({col: value}, inplace=True)' or df[col] = df[col].method(value) instead, to perform the operation inplace on the original object.\n",
      "\n",
      "\n",
      "  df_car_details['seats.1'].fillna(5.0,inplace=True)\n"
     ]
    }
   ],
   "source": [
    "df_car_details['seats.1'].fillna(5.0,inplace=True)"
   ]
  },
  {
   "cell_type": "code",
   "execution_count": 141,
   "id": "270c2b46-557b-421d-b685-911c2841c2f3",
   "metadata": {},
   "outputs": [
    {
     "data": {
      "text/plain": [
       "engine_type\n",
       "In-Line Engine                  484\n",
       "Kappa VTVT Petrol Engine        425\n",
       "Petrol Engine                   315\n",
       "i-VTEC Petrol Engine            267\n",
       "i VTEC Engine                   201\n",
       "                               ... \n",
       "i-DTEC                            1\n",
       "40 TFSI quattro S tronic          1\n",
       "mHawk 120 Diesel Engine           1\n",
       "Common Rail Direct Injection      1\n",
       "K Series Engine                   1\n",
       "Name: count, Length: 508, dtype: int64"
      ]
     },
     "execution_count": 141,
     "metadata": {},
     "output_type": "execute_result"
    }
   ],
   "source": [
    "df_car_details['engine_type'].value_counts()"
   ]
  },
  {
   "cell_type": "code",
   "execution_count": 143,
   "id": "85d1f0a0-fb22-42f8-ad71-a4d6e36580b3",
   "metadata": {},
   "outputs": [
    {
     "name": "stderr",
     "output_type": "stream",
     "text": [
      "C:\\Users\\babuk\\AppData\\Local\\Temp\\ipykernel_6076\\4263959217.py:1: FutureWarning: A value is trying to be set on a copy of a DataFrame or Series through chained assignment using an inplace method.\n",
      "The behavior will change in pandas 3.0. This inplace method will never work because the intermediate object on which we are setting values always behaves as a copy.\n",
      "\n",
      "For example, when doing 'df[col].method(value, inplace=True)', try using 'df.method({col: value}, inplace=True)' or df[col] = df[col].method(value) instead, to perform the operation inplace on the original object.\n",
      "\n",
      "\n",
      "  df_car_details['engine_type'].fillna('In-Line Engine',inplace=True)\n"
     ]
    }
   ],
   "source": [
    "df_car_details['engine_type'].fillna('In-Line Engine',inplace=True)"
   ]
  },
  {
   "cell_type": "code",
   "execution_count": 145,
   "id": "d18f1fa9-4b47-4a2c-8635-5ad491badf5b",
   "metadata": {},
   "outputs": [
    {
     "data": {
      "text/plain": [
       "displacement\n",
       "1197.0    1607\n",
       "998.0      640\n",
       "1199.0     489\n",
       "1497.0     451\n",
       "1248.0     424\n",
       "          ... \n",
       "4395.0       1\n",
       "4134.0       1\n",
       "1468.0       1\n",
       "2997.0       1\n",
       "2231.0       1\n",
       "Name: count, Length: 150, dtype: int64"
      ]
     },
     "execution_count": 145,
     "metadata": {},
     "output_type": "execute_result"
    }
   ],
   "source": [
    "df_car_details['displacement'].value_counts()"
   ]
  },
  {
   "cell_type": "code",
   "execution_count": 147,
   "id": "a81fb18c-a397-4a7d-a334-a60241aa58cf",
   "metadata": {},
   "outputs": [
    {
     "name": "stderr",
     "output_type": "stream",
     "text": [
      "C:\\Users\\babuk\\AppData\\Local\\Temp\\ipykernel_6076\\3129361315.py:1: FutureWarning: A value is trying to be set on a copy of a DataFrame or Series through chained assignment using an inplace method.\n",
      "The behavior will change in pandas 3.0. This inplace method will never work because the intermediate object on which we are setting values always behaves as a copy.\n",
      "\n",
      "For example, when doing 'df[col].method(value, inplace=True)', try using 'df.method({col: value}, inplace=True)' or df[col] = df[col].method(value) instead, to perform the operation inplace on the original object.\n",
      "\n",
      "\n",
      "  df_car_details['displacement'].fillna(1197.0,inplace=True)\n"
     ]
    }
   ],
   "source": [
    "df_car_details['displacement'].fillna(1197.0,inplace=True)"
   ]
  },
  {
   "cell_type": "code",
   "execution_count": 149,
   "id": "08806a23-92de-4282-a4f1-dbadbb0b4e63",
   "metadata": {},
   "outputs": [
    {
     "data": {
      "text/plain": [
       "max_torque\n",
       "90Nm@3500rpm          378\n",
       "200Nm@1750rpm         283\n",
       "113Nm@4200rpm         275\n",
       "113Nm@4400rpm         238\n",
       "110Nm@4800rpm         233\n",
       "                     ... \n",
       "110Nm                   1\n",
       "340Nm@1750-2750rpm      1\n",
       "70Nm@1000rpm            1\n",
       "95.2Nm@4000rpm          1\n",
       "85Nm@3500rpm            1\n",
       "Name: count, Length: 617, dtype: int64"
      ]
     },
     "execution_count": 149,
     "metadata": {},
     "output_type": "execute_result"
    }
   ],
   "source": [
    "df_car_details['max_torque'].value_counts()"
   ]
  },
  {
   "cell_type": "code",
   "execution_count": 151,
   "id": "d6d94c24-6ddd-4206-8f47-b48e59f575d7",
   "metadata": {},
   "outputs": [
    {
     "name": "stderr",
     "output_type": "stream",
     "text": [
      "C:\\Users\\babuk\\AppData\\Local\\Temp\\ipykernel_6076\\1832352769.py:1: FutureWarning: A value is trying to be set on a copy of a DataFrame or Series through chained assignment using an inplace method.\n",
      "The behavior will change in pandas 3.0. This inplace method will never work because the intermediate object on which we are setting values always behaves as a copy.\n",
      "\n",
      "For example, when doing 'df[col].method(value, inplace=True)', try using 'df.method({col: value}, inplace=True)' or df[col] = df[col].method(value) instead, to perform the operation inplace on the original object.\n",
      "\n",
      "\n",
      "  df_car_details['max_torque'].fillna('90Nm@3500rpm',inplace=True)\n"
     ]
    }
   ],
   "source": [
    "df_car_details['max_torque'].fillna('90Nm@3500rpm',inplace=True)"
   ]
  },
  {
   "cell_type": "code",
   "execution_count": 153,
   "id": "f0ea3992-af99-46b7-aba3-f2620684f3f4",
   "metadata": {},
   "outputs": [
    {
     "data": {
      "text/plain": [
       "no_of_cylinder\n",
       "4.0     6141\n",
       "3.0     2004\n",
       "6.0      129\n",
       "5.0       23\n",
       "2.0       15\n",
       "7.0       13\n",
       "8.0       12\n",
       "23.0       1\n",
       "Name: count, dtype: int64"
      ]
     },
     "execution_count": 153,
     "metadata": {},
     "output_type": "execute_result"
    }
   ],
   "source": [
    "df_car_details['no_of_cylinder'].value_counts()"
   ]
  },
  {
   "cell_type": "code",
   "execution_count": 155,
   "id": "5e918abf-f939-4caa-9b1b-a3aaf0084021",
   "metadata": {},
   "outputs": [
    {
     "name": "stderr",
     "output_type": "stream",
     "text": [
      "C:\\Users\\babuk\\AppData\\Local\\Temp\\ipykernel_6076\\1707508879.py:1: FutureWarning: A value is trying to be set on a copy of a DataFrame or Series through chained assignment using an inplace method.\n",
      "The behavior will change in pandas 3.0. This inplace method will never work because the intermediate object on which we are setting values always behaves as a copy.\n",
      "\n",
      "For example, when doing 'df[col].method(value, inplace=True)', try using 'df.method({col: value}, inplace=True)' or df[col] = df[col].method(value) instead, to perform the operation inplace on the original object.\n",
      "\n",
      "\n",
      "  df_car_details['no_of_cylinder'].fillna(4.0,inplace=True)\n"
     ]
    }
   ],
   "source": [
    "df_car_details['no_of_cylinder'].fillna(4.0,inplace=True)"
   ]
  },
  {
   "cell_type": "code",
   "execution_count": 157,
   "id": "058d1c97-8ac0-4ee2-bbeb-883ba2f60041",
   "metadata": {},
   "outputs": [
    {
     "data": {
      "text/plain": [
       "values_per_cylinder\n",
       "4.0     7907\n",
       "2.0      209\n",
       "3.0      197\n",
       "5.0        4\n",
       "69.0       1\n",
       "Name: count, dtype: int64"
      ]
     },
     "execution_count": 157,
     "metadata": {},
     "output_type": "execute_result"
    }
   ],
   "source": [
    "df_car_details['values_per_cylinder'].value_counts()"
   ]
  },
  {
   "cell_type": "code",
   "execution_count": 159,
   "id": "4a061f6f-6764-4a57-af89-17d7aa383e4e",
   "metadata": {},
   "outputs": [
    {
     "name": "stderr",
     "output_type": "stream",
     "text": [
      "C:\\Users\\babuk\\AppData\\Local\\Temp\\ipykernel_6076\\2000881539.py:1: FutureWarning: A value is trying to be set on a copy of a DataFrame or Series through chained assignment using an inplace method.\n",
      "The behavior will change in pandas 3.0. This inplace method will never work because the intermediate object on which we are setting values always behaves as a copy.\n",
      "\n",
      "For example, when doing 'df[col].method(value, inplace=True)', try using 'df.method({col: value}, inplace=True)' or df[col] = df[col].method(value) instead, to perform the operation inplace on the original object.\n",
      "\n",
      "\n",
      "  df_car_details['values_per_cylinder'].fillna(4.0,inplace=True)\n"
     ]
    }
   ],
   "source": [
    "df_car_details['values_per_cylinder'].fillna(4.0,inplace=True)"
   ]
  },
  {
   "cell_type": "code",
   "execution_count": 161,
   "id": "1500a5f0-4bee-45a5-a6ec-a0ec8f4748cf",
   "metadata": {},
   "outputs": [
    {
     "data": {
      "text/plain": [
       "turbo_charger\n",
       "No       4231\n",
       "Yes      2994\n",
       "Twin       52\n",
       "NO         20\n",
       "YES        15\n",
       "no          9\n",
       "yes         5\n",
       "Turbo       2\n",
       "twin        1\n",
       "Name: count, dtype: int64"
      ]
     },
     "execution_count": 161,
     "metadata": {},
     "output_type": "execute_result"
    }
   ],
   "source": [
    "df_car_details['turbo_charger'].value_counts()"
   ]
  },
  {
   "cell_type": "code",
   "execution_count": 165,
   "id": "c81977be-5903-4f3f-b21d-8b0a87fbea76",
   "metadata": {},
   "outputs": [
    {
     "name": "stderr",
     "output_type": "stream",
     "text": [
      "C:\\Users\\babuk\\AppData\\Local\\Temp\\ipykernel_6076\\139851998.py:1: FutureWarning: A value is trying to be set on a copy of a DataFrame or Series through chained assignment using an inplace method.\n",
      "The behavior will change in pandas 3.0. This inplace method will never work because the intermediate object on which we are setting values always behaves as a copy.\n",
      "\n",
      "For example, when doing 'df[col].method(value, inplace=True)', try using 'df.method({col: value}, inplace=True)' or df[col] = df[col].method(value) instead, to perform the operation inplace on the original object.\n",
      "\n",
      "\n",
      "  df_car_details['turbo_charger'].fillna('No',inplace=True)\n"
     ]
    }
   ],
   "source": [
    "df_car_details['turbo_charger'].fillna('No',inplace=True)"
   ]
  },
  {
   "cell_type": "code",
   "execution_count": 167,
   "id": "a9cf40ea-fb7d-4b56-ad3e-496876bfd26a",
   "metadata": {},
   "outputs": [
    {
     "data": {
      "text/plain": [
       "length\n",
       "3995mm      1049\n",
       "4440mm       350\n",
       "3765mm       288\n",
       "3985mm       240\n",
       "3585mm       175\n",
       "            ... \n",
       "4400 mm        1\n",
       "4482           1\n",
       "2974           1\n",
       "4885 mm        1\n",
       "4,530 mm       1\n",
       "Name: count, Length: 419, dtype: int64"
      ]
     },
     "execution_count": 167,
     "metadata": {},
     "output_type": "execute_result"
    }
   ],
   "source": [
    "df_car_details['length'].value_counts()"
   ]
  },
  {
   "cell_type": "code",
   "execution_count": 127,
   "id": "702a1478-936d-46e9-b819-ea551a6474d7",
   "metadata": {},
   "outputs": [
    {
     "name": "stderr",
     "output_type": "stream",
     "text": [
      "C:\\Users\\babuk\\AppData\\Local\\Temp\\ipykernel_11568\\274268417.py:1: FutureWarning: A value is trying to be set on a copy of a DataFrame or Series through chained assignment using an inplace method.\n",
      "The behavior will change in pandas 3.0. This inplace method will never work because the intermediate object on which we are setting values always behaves as a copy.\n",
      "\n",
      "For example, when doing 'df[col].method(value, inplace=True)', try using 'df.method({col: value}, inplace=True)' or df[col] = df[col].method(value) instead, to perform the operation inplace on the original object.\n",
      "\n",
      "\n",
      "  df_car_detail['length'].fillna('3995mm',inplace=True)\n"
     ]
    }
   ],
   "source": [
    "df_car_detail['length'].fillna('3995mm',inplace=True)"
   ]
  },
  {
   "cell_type": "code",
   "execution_count": 169,
   "id": "b7deca01-b967-4b9d-b53a-374473a8fe46",
   "metadata": {},
   "outputs": [
    {
     "data": {
      "text/plain": [
       "width\n",
       "1695mm      619\n",
       "1660mm      322\n",
       "1745mm      311\n",
       "1734mm      274\n",
       "1680mm      251\n",
       "           ... \n",
       "1,832 mm      1\n",
       "1818          1\n",
       "2106mm        1\n",
       "1698mm        1\n",
       "1,705 mm      1\n",
       "Name: count, Length: 318, dtype: int64"
      ]
     },
     "execution_count": 169,
     "metadata": {},
     "output_type": "execute_result"
    }
   ],
   "source": [
    "df_car_details['width'].value_counts()"
   ]
  },
  {
   "cell_type": "code",
   "execution_count": 171,
   "id": "8d702ae1-d37e-405a-b13e-2aa7d42aa6cc",
   "metadata": {},
   "outputs": [
    {
     "name": "stderr",
     "output_type": "stream",
     "text": [
      "C:\\Users\\babuk\\AppData\\Local\\Temp\\ipykernel_6076\\3113765640.py:1: FutureWarning: A value is trying to be set on a copy of a DataFrame or Series through chained assignment using an inplace method.\n",
      "The behavior will change in pandas 3.0. This inplace method will never work because the intermediate object on which we are setting values always behaves as a copy.\n",
      "\n",
      "For example, when doing 'df[col].method(value, inplace=True)', try using 'df.method({col: value}, inplace=True)' or df[col] = df[col].method(value) instead, to perform the operation inplace on the original object.\n",
      "\n",
      "\n",
      "  df_car_details['width'].fillna('1695mm',inplace=True)\n"
     ]
    }
   ],
   "source": [
    "df_car_details['width'].fillna('1695mm',inplace=True)"
   ]
  },
  {
   "cell_type": "code",
   "execution_count": 173,
   "id": "ffcdc85e-53e6-4e8d-8b2a-82013c838796",
   "metadata": {},
   "outputs": [
    {
     "data": {
      "text/plain": [
       "color\n",
       "Others           2168\n",
       "White            1655\n",
       "Silver           1281\n",
       "Red               798\n",
       "Blue              605\n",
       "                 ... \n",
       "Golden brown        1\n",
       "P Black             1\n",
       "TAFETA WHITE        1\n",
       "Light Orange        1\n",
       "Arctic Silver       1\n",
       "Name: count, Length: 153, dtype: int64"
      ]
     },
     "execution_count": 173,
     "metadata": {},
     "output_type": "execute_result"
    }
   ],
   "source": [
    "df_car_details['color'].value_counts()"
   ]
  },
  {
   "cell_type": "code",
   "execution_count": 175,
   "id": "c549c998-f3e5-4a2d-81f8-90c5301f35fa",
   "metadata": {},
   "outputs": [
    {
     "name": "stderr",
     "output_type": "stream",
     "text": [
      "C:\\Users\\babuk\\AppData\\Local\\Temp\\ipykernel_6076\\3087220105.py:1: FutureWarning: A value is trying to be set on a copy of a DataFrame or Series through chained assignment using an inplace method.\n",
      "The behavior will change in pandas 3.0. This inplace method will never work because the intermediate object on which we are setting values always behaves as a copy.\n",
      "\n",
      "For example, when doing 'df[col].method(value, inplace=True)', try using 'df.method({col: value}, inplace=True)' or df[col] = df[col].method(value) instead, to perform the operation inplace on the original object.\n",
      "\n",
      "\n",
      "  df_car_details['color'].fillna('Others',inplace=True)\n"
     ]
    }
   ],
   "source": [
    "df_car_details['color'].fillna('Others',inplace=True)"
   ]
  },
  {
   "cell_type": "code",
   "execution_count": 177,
   "id": "dead9d08-9e7d-4b3e-822d-783dc618c16e",
   "metadata": {},
   "outputs": [
    {
     "data": {
      "text/plain": [
       "height\n",
       "1505mm      391\n",
       "1475mm      368\n",
       "1520mm      336\n",
       "1510mm      323\n",
       "1495mm      285\n",
       "           ... \n",
       "1,940 mm      1\n",
       "1432          1\n",
       "1672mm        1\n",
       "1812mm        1\n",
       "1,490 mm      1\n",
       "Name: count, Length: 354, dtype: int64"
      ]
     },
     "execution_count": 177,
     "metadata": {},
     "output_type": "execute_result"
    }
   ],
   "source": [
    "df_car_details['height'].value_counts()"
   ]
  },
  {
   "cell_type": "code",
   "execution_count": 179,
   "id": "9c53066e-b435-49ef-ba30-d4d00d8d0bac",
   "metadata": {},
   "outputs": [
    {
     "name": "stderr",
     "output_type": "stream",
     "text": [
      "C:\\Users\\babuk\\AppData\\Local\\Temp\\ipykernel_6076\\972349144.py:1: FutureWarning: A value is trying to be set on a copy of a DataFrame or Series through chained assignment using an inplace method.\n",
      "The behavior will change in pandas 3.0. This inplace method will never work because the intermediate object on which we are setting values always behaves as a copy.\n",
      "\n",
      "For example, when doing 'df[col].method(value, inplace=True)', try using 'df.method({col: value}, inplace=True)' or df[col] = df[col].method(value) instead, to perform the operation inplace on the original object.\n",
      "\n",
      "\n",
      "  df_car_details['height'].fillna('1505mm',inplace=True)\n"
     ]
    }
   ],
   "source": [
    "df_car_details['height'].fillna('1505mm',inplace=True)"
   ]
  },
  {
   "cell_type": "code",
   "execution_count": 181,
   "id": "2590e4ba-dbe9-4244-b779-df9c0d20ab03",
   "metadata": {},
   "outputs": [
    {
     "data": {
      "text/plain": [
       "wheel_base\n",
       "2425mm      415\n",
       "2600mm      412\n",
       "2520mm      369\n",
       "2570mm      318\n",
       "2450mm      311\n",
       "           ... \n",
       "2939mm        1\n",
       "2895mm        1\n",
       "3365 mm       1\n",
       "2,456 mm      1\n",
       "2,600 mm      1\n",
       "Name: count, Length: 273, dtype: int64"
      ]
     },
     "execution_count": 181,
     "metadata": {},
     "output_type": "execute_result"
    }
   ],
   "source": [
    "df_car_details['wheel_base'].value_counts()"
   ]
  },
  {
   "cell_type": "code",
   "execution_count": 183,
   "id": "780c8ade-403f-464a-b56a-237cef643fc3",
   "metadata": {},
   "outputs": [
    {
     "name": "stderr",
     "output_type": "stream",
     "text": [
      "C:\\Users\\babuk\\AppData\\Local\\Temp\\ipykernel_6076\\3003342255.py:1: FutureWarning: A value is trying to be set on a copy of a DataFrame or Series through chained assignment using an inplace method.\n",
      "The behavior will change in pandas 3.0. This inplace method will never work because the intermediate object on which we are setting values always behaves as a copy.\n",
      "\n",
      "For example, when doing 'df[col].method(value, inplace=True)', try using 'df.method({col: value}, inplace=True)' or df[col] = df[col].method(value) instead, to perform the operation inplace on the original object.\n",
      "\n",
      "\n",
      "  df_car_details['wheel_base'].fillna('2425mm',inplace=True)\n"
     ]
    }
   ],
   "source": [
    "df_car_details['wheel_base'].fillna('2425mm',inplace=True)"
   ]
  },
  {
   "cell_type": "code",
   "execution_count": 185,
   "id": "14a50a11-7bfc-45dc-bdec-a070c6afecf2",
   "metadata": {},
   "outputs": [
    {
     "data": {
      "text/plain": [
       "kerb_weight\n",
       "935kg       146\n",
       "875-905     146\n",
       "1066kg      141\n",
       "870kg       119\n",
       "1120        103\n",
       "           ... \n",
       "1700Kg        1\n",
       "1365          1\n",
       "1268kg        1\n",
       "1830          1\n",
       "1,160 kg      1\n",
       "Name: count, Length: 901, dtype: int64"
      ]
     },
     "execution_count": 185,
     "metadata": {},
     "output_type": "execute_result"
    }
   ],
   "source": [
    "df_car_details['kerb_weight'].value_counts()"
   ]
  },
  {
   "cell_type": "code",
   "execution_count": 187,
   "id": "0c2602be-5de0-4d9c-a698-391a56560295",
   "metadata": {},
   "outputs": [
    {
     "name": "stderr",
     "output_type": "stream",
     "text": [
      "C:\\Users\\babuk\\AppData\\Local\\Temp\\ipykernel_6076\\2726181241.py:1: FutureWarning: A value is trying to be set on a copy of a DataFrame or Series through chained assignment using an inplace method.\n",
      "The behavior will change in pandas 3.0. This inplace method will never work because the intermediate object on which we are setting values always behaves as a copy.\n",
      "\n",
      "For example, when doing 'df[col].method(value, inplace=True)', try using 'df.method({col: value}, inplace=True)' or df[col] = df[col].method(value) instead, to perform the operation inplace on the original object.\n",
      "\n",
      "\n",
      "  df_car_details['kerb_weight'].fillna('935kg',inplace=True)\n"
     ]
    }
   ],
   "source": [
    "df_car_details['kerb_weight'].fillna('935kg',inplace=True)"
   ]
  },
  {
   "cell_type": "code",
   "execution_count": 189,
   "id": "f1b5f0ea-b4ca-405f-88a9-885d84341c18",
   "metadata": {},
   "outputs": [
    {
     "data": {
      "text/plain": [
       "gear_box\n",
       "5 Speed                             4463\n",
       "6 Speed                             1049\n",
       "5-Speed                              541\n",
       "7 Speed                              261\n",
       "6-Speed                              237\n",
       "                                    ... \n",
       "8-speed Steptronic Automatic           1\n",
       "10-speed Automatic                     1\n",
       "Six Speed Automatic Transmission       1\n",
       "5-Speed                                1\n",
       "7 Speed S tronic                       1\n",
       "Name: count, Length: 118, dtype: int64"
      ]
     },
     "execution_count": 189,
     "metadata": {},
     "output_type": "execute_result"
    }
   ],
   "source": [
    "df_car_details['gear_box'].value_counts()"
   ]
  },
  {
   "cell_type": "code",
   "execution_count": 191,
   "id": "0b62c51d-66a3-4d4b-839d-952803c4ffff",
   "metadata": {},
   "outputs": [
    {
     "name": "stderr",
     "output_type": "stream",
     "text": [
      "C:\\Users\\babuk\\AppData\\Local\\Temp\\ipykernel_6076\\2660488692.py:1: FutureWarning: A value is trying to be set on a copy of a DataFrame or Series through chained assignment using an inplace method.\n",
      "The behavior will change in pandas 3.0. This inplace method will never work because the intermediate object on which we are setting values always behaves as a copy.\n",
      "\n",
      "For example, when doing 'df[col].method(value, inplace=True)', try using 'df.method({col: value}, inplace=True)' or df[col] = df[col].method(value) instead, to perform the operation inplace on the original object.\n",
      "\n",
      "\n",
      "  df_car_details['gear_box'].fillna('5 Speed',inplace=True)\n"
     ]
    }
   ],
   "source": [
    "df_car_details['gear_box'].fillna('5 Speed',inplace=True)"
   ]
  },
  {
   "cell_type": "code",
   "execution_count": 193,
   "id": "ad024b74-710f-4eb5-950d-43ca4ed11ab8",
   "metadata": {},
   "outputs": [
    {
     "data": {
      "text/plain": [
       "drive_type\n",
       "FWD                                  5509\n",
       "RWD                                   416\n",
       "AWD                                   282\n",
       "2WD                                   159\n",
       "4WD                                   143\n",
       "4X2                                    68\n",
       "2 WD                                   47\n",
       "Front Wheel Drive                      43\n",
       "4X4                                    41\n",
       "FWD                                    34\n",
       "4x2                                    18\n",
       "Two Wheel Drive                        15\n",
       "4x4                                    11\n",
       "All Wheel Drive                         7\n",
       "Rear Wheel Drive with ESP               6\n",
       "RWD(with MTT)                           5\n",
       "Permanent all-wheel drive quattro       2\n",
       "4 WD                                    1\n",
       "2WD                                     1\n",
       "AWD INTEGRATED MANAGEMENT               1\n",
       "Name: count, dtype: int64"
      ]
     },
     "execution_count": 193,
     "metadata": {},
     "output_type": "execute_result"
    }
   ],
   "source": [
    "df_car_details['drive_type'].value_counts()"
   ]
  },
  {
   "cell_type": "code",
   "execution_count": 195,
   "id": "6fe3a3d4-b55a-4205-a892-be3001126b8d",
   "metadata": {},
   "outputs": [
    {
     "name": "stderr",
     "output_type": "stream",
     "text": [
      "C:\\Users\\babuk\\AppData\\Local\\Temp\\ipykernel_6076\\3425899191.py:1: FutureWarning: A value is trying to be set on a copy of a DataFrame or Series through chained assignment using an inplace method.\n",
      "The behavior will change in pandas 3.0. This inplace method will never work because the intermediate object on which we are setting values always behaves as a copy.\n",
      "\n",
      "For example, when doing 'df[col].method(value, inplace=True)', try using 'df.method({col: value}, inplace=True)' or df[col] = df[col].method(value) instead, to perform the operation inplace on the original object.\n",
      "\n",
      "\n",
      "  df_car_details['drive_type'].fillna('FWD',inplace=True)\n"
     ]
    }
   ],
   "source": [
    "df_car_details['drive_type'].fillna('FWD',inplace=True)"
   ]
  },
  {
   "cell_type": "code",
   "execution_count": 199,
   "id": "7d99939c-3de8-46c6-8842-0f422060181e",
   "metadata": {},
   "outputs": [
    {
     "data": {
      "text/plain": [
       "seating_capacity\n",
       "5.0     7354\n",
       "7.0      728\n",
       "6.0      103\n",
       "4.0       93\n",
       "8.0       62\n",
       "9.0       11\n",
       "2.0        7\n",
       "10.0       5\n",
       "Name: count, dtype: int64"
      ]
     },
     "execution_count": 199,
     "metadata": {},
     "output_type": "execute_result"
    }
   ],
   "source": [
    "df_car_details['seating_capacity'].value_counts()"
   ]
  },
  {
   "cell_type": "code",
   "execution_count": 201,
   "id": "c7486293-92ae-4df9-afe6-bb8d87cb3500",
   "metadata": {},
   "outputs": [
    {
     "name": "stderr",
     "output_type": "stream",
     "text": [
      "C:\\Users\\babuk\\AppData\\Local\\Temp\\ipykernel_6076\\3550720811.py:1: FutureWarning: A value is trying to be set on a copy of a DataFrame or Series through chained assignment using an inplace method.\n",
      "The behavior will change in pandas 3.0. This inplace method will never work because the intermediate object on which we are setting values always behaves as a copy.\n",
      "\n",
      "For example, when doing 'df[col].method(value, inplace=True)', try using 'df.method({col: value}, inplace=True)' or df[col] = df[col].method(value) instead, to perform the operation inplace on the original object.\n",
      "\n",
      "\n",
      "  df_car_details['seating_capacity'].fillna(5.0,inplace=True)\n"
     ]
    }
   ],
   "source": [
    "df_car_details['seating_capacity'].fillna(5.0,inplace=True)"
   ]
  },
  {
   "cell_type": "code",
   "execution_count": 203,
   "id": "d100be02-8262-4841-bf55-c9b4ddb0edb1",
   "metadata": {},
   "outputs": [
    {
     "data": {
      "text/plain": [
       "steering_type\n",
       "Power         6394\n",
       "Electric      1439\n",
       "Electronic     106\n",
       "Manual          86\n",
       "Electrical      48\n",
       "power           29\n",
       "EPAS             9\n",
       "Hydraulic        2\n",
       "electric         1\n",
       "Name: count, dtype: int64"
      ]
     },
     "execution_count": 203,
     "metadata": {},
     "output_type": "execute_result"
    }
   ],
   "source": [
    "df_car_details['steering_type'].value_counts()"
   ]
  },
  {
   "cell_type": "code",
   "execution_count": 205,
   "id": "043f492b-0433-440b-ab69-39f87c32c426",
   "metadata": {},
   "outputs": [
    {
     "name": "stderr",
     "output_type": "stream",
     "text": [
      "C:\\Users\\babuk\\AppData\\Local\\Temp\\ipykernel_6076\\4126996870.py:1: FutureWarning: A value is trying to be set on a copy of a DataFrame or Series through chained assignment using an inplace method.\n",
      "The behavior will change in pandas 3.0. This inplace method will never work because the intermediate object on which we are setting values always behaves as a copy.\n",
      "\n",
      "For example, when doing 'df[col].method(value, inplace=True)', try using 'df.method({col: value}, inplace=True)' or df[col] = df[col].method(value) instead, to perform the operation inplace on the original object.\n",
      "\n",
      "\n",
      "  df_car_details['steering_type'].fillna('Power',inplace=True)\n"
     ]
    }
   ],
   "source": [
    "df_car_details['steering_type'].fillna('Power',inplace=True)"
   ]
  },
  {
   "cell_type": "code",
   "execution_count": 207,
   "id": "dca84c0a-0a06-4ff5-b746-118e86eae3ca",
   "metadata": {},
   "outputs": [
    {
     "data": {
      "text/plain": [
       "turning_radius\n",
       "5.3 metres      651\n",
       "5.2 metres      536\n",
       "4.8 metres      481\n",
       "4.7 metres      372\n",
       "4.6 metres      304\n",
       "               ... \n",
       "6.2 Seconds       1\n",
       "13.51 metres      1\n",
       "5.3 Meters        1\n",
       "12 metres         1\n",
       "4.6 metres        1\n",
       "Name: count, Length: 196, dtype: int64"
      ]
     },
     "execution_count": 207,
     "metadata": {},
     "output_type": "execute_result"
    }
   ],
   "source": [
    "df_car_details['turning_radius'].value_counts()"
   ]
  },
  {
   "cell_type": "code",
   "execution_count": 209,
   "id": "7e99170e-418f-4367-b247-571e53bc6fd8",
   "metadata": {},
   "outputs": [
    {
     "name": "stderr",
     "output_type": "stream",
     "text": [
      "C:\\Users\\babuk\\AppData\\Local\\Temp\\ipykernel_6076\\2248294963.py:1: FutureWarning: A value is trying to be set on a copy of a DataFrame or Series through chained assignment using an inplace method.\n",
      "The behavior will change in pandas 3.0. This inplace method will never work because the intermediate object on which we are setting values always behaves as a copy.\n",
      "\n",
      "For example, when doing 'df[col].method(value, inplace=True)', try using 'df.method({col: value}, inplace=True)' or df[col] = df[col].method(value) instead, to perform the operation inplace on the original object.\n",
      "\n",
      "\n",
      "  df_car_details['turning_radius'].fillna('5.3 metres',inplace=True)\n"
     ]
    }
   ],
   "source": [
    "df_car_details['turning_radius'].fillna('5.3 metres',inplace=True)"
   ]
  },
  {
   "cell_type": "code",
   "execution_count": 211,
   "id": "410deefb-1315-48ba-9101-2c2d0c474a6e",
   "metadata": {},
   "outputs": [
    {
     "data": {
      "text/plain": [
       "front_brake_type\n",
       "Disc                                        5314\n",
       "Ventilated Disc                             2566\n",
       "Disc                                          73\n",
       "Ventilated Discs                              67\n",
       "Solid Disc                                    63\n",
       "Disc & Caliper Type                           42\n",
       "Ventilated Disc                               26\n",
       "Disk                                          23\n",
       "Ventilated Disk                               11\n",
       "Ventilated discs                              10\n",
       "Vantilated Disc                                8\n",
       "Disc, 236 mm                                   8\n",
       "disc                                           7\n",
       "Multilateral Disc                              6\n",
       "Drum                                           6\n",
       " Disc                                          6\n",
       "Ventlated Disc                                 6\n",
       "Ventilated DIsc                                5\n",
       "Electric Parking Brake                         3\n",
       "Ventillated Disc                               3\n",
       "Vacuum assisted hydraulic dual circuit w       2\n",
       "Caliper Ventilated Disc                        2\n",
       "Booster assisted ventilated disc               2\n",
       "ventilated Disc                                2\n",
       " Ventilated Disc                               2\n",
       "Mechanical-hydraulic dual circuit              2\n",
       "ventilated disc                                1\n",
       "Tandem master cylinder with Servo assist       1\n",
       "Disc brakes                                    1\n",
       "Discs                                          1\n",
       "Disc,internally ventilated                     1\n",
       "solid disc                                     1\n",
       "ABS                                            1\n",
       "Ventilated disc                                1\n",
       "Name: count, dtype: int64"
      ]
     },
     "execution_count": 211,
     "metadata": {},
     "output_type": "execute_result"
    }
   ],
   "source": [
    "df_car_details['front_brake_type'].value_counts()"
   ]
  },
  {
   "cell_type": "code",
   "execution_count": 213,
   "id": "da3ead6d-180a-480d-9d9f-ff879c7e877a",
   "metadata": {},
   "outputs": [
    {
     "name": "stderr",
     "output_type": "stream",
     "text": [
      "C:\\Users\\babuk\\AppData\\Local\\Temp\\ipykernel_6076\\3624626532.py:1: FutureWarning: A value is trying to be set on a copy of a DataFrame or Series through chained assignment using an inplace method.\n",
      "The behavior will change in pandas 3.0. This inplace method will never work because the intermediate object on which we are setting values always behaves as a copy.\n",
      "\n",
      "For example, when doing 'df[col].method(value, inplace=True)', try using 'df.method({col: value}, inplace=True)' or df[col] = df[col].method(value) instead, to perform the operation inplace on the original object.\n",
      "\n",
      "\n",
      "  df_car_details['front_brake_type'].fillna('Disc',inplace=True)\n"
     ]
    }
   ],
   "source": [
    "df_car_details['front_brake_type'].fillna('Disc',inplace=True)"
   ]
  },
  {
   "cell_type": "code",
   "execution_count": 215,
   "id": "29ae2427-ecd7-4ebd-99e9-0ad22dce00e0",
   "metadata": {},
   "outputs": [
    {
     "data": {
      "text/plain": [
       "rear_brake_type\n",
       "Drum                                        6443\n",
       "Disc                                        1192\n",
       "Ventilated Disc                              195\n",
       "Solid Disc                                   123\n",
       "Discs                                         85\n",
       "Disc & Caliper Type                           42\n",
       "Leading-Trailing Drum                         30\n",
       "Self-Adjusting Drum                           25\n",
       "Ventilated Discs                              24\n",
       "Leading & Trailing Drum                       16\n",
       "Ventilated discs                              10\n",
       "Drums                                          9\n",
       "Drums 180 mm                                   8\n",
       "Disc & Drum                                    7\n",
       "Drum                                           6\n",
       "Self Adjusting Drums                           6\n",
       "Ventilated Disc                                6\n",
       "disc                                           5\n",
       "Solid Disc                                     5\n",
       "Ventilated Drum                                4\n",
       "Electric Parking Brake                         3\n",
       "Drum in Discs                                  3\n",
       "self adjusting drums                           3\n",
       "Drum`                                          3\n",
       "Disc                                           3\n",
       "Mechanical-hydraulic dual circuit              2\n",
       "Ventialte Disc                                 2\n",
       "Vacuum assisted hydraulic dual circuit w       2\n",
       "Self Adjusting Drum                            2\n",
       "drum                                           2\n",
       "Drum in disc                                   2\n",
       "Booster assisted drum                          2\n",
       "solid disc                                     1\n",
       "228.6 mm dia, drums on rear wheels             1\n",
       "ventilated disc                                1\n",
       "Name: count, dtype: int64"
      ]
     },
     "execution_count": 215,
     "metadata": {},
     "output_type": "execute_result"
    }
   ],
   "source": [
    "df_car_details['rear_brake_type'].value_counts()"
   ]
  },
  {
   "cell_type": "code",
   "execution_count": 217,
   "id": "e6fed2f4-eb8c-4c03-8240-621861f257e8",
   "metadata": {},
   "outputs": [
    {
     "name": "stderr",
     "output_type": "stream",
     "text": [
      "C:\\Users\\babuk\\AppData\\Local\\Temp\\ipykernel_6076\\4079865069.py:1: FutureWarning: A value is trying to be set on a copy of a DataFrame or Series through chained assignment using an inplace method.\n",
      "The behavior will change in pandas 3.0. This inplace method will never work because the intermediate object on which we are setting values always behaves as a copy.\n",
      "\n",
      "For example, when doing 'df[col].method(value, inplace=True)', try using 'df.method({col: value}, inplace=True)' or df[col] = df[col].method(value) instead, to perform the operation inplace on the original object.\n",
      "\n",
      "\n",
      "  df_car_details['rear_brake_type'].fillna('Drum',inplace=True)\n"
     ]
    }
   ],
   "source": [
    "df_car_details['rear_brake_type'].fillna('Drum',inplace=True)"
   ]
  },
  {
   "cell_type": "code",
   "execution_count": 219,
   "id": "0e00163e-7404-4a9f-90fd-1da7bce47145",
   "metadata": {},
   "outputs": [
    {
     "data": {
      "text/plain": [
       "tyre_type\n",
       "Tubeless,Radial               4436\n",
       "Tubeless, Radial              1408\n",
       "Tubeless                      1167\n",
       "Tubeless Tyres                 423\n",
       "Radial, Tubeless               226\n",
       "Radial                         134\n",
       "Radial, Tubless                 82\n",
       "Tubeless Tyres, Radial          61\n",
       "Tubeless,Radial                 57\n",
       "Radial,Tubeless                 55\n",
       "Tubeless Radial Tyres           53\n",
       "Tubeless,Radials                33\n",
       "Tubless, Radial                 29\n",
       "Tubeless,Runflat                18\n",
       "Tubeless, Runflat               17\n",
       "tubeless tyre                   14\n",
       "Run-Flat                        14\n",
       "Runflat                         12\n",
       "Runflat Tyres                   11\n",
       "Tubeless                         7\n",
       "Radial Tubeless                  6\n",
       "Runflat Tyre                     5\n",
       "Radial                           5\n",
       "Tubeless Tyres Mud Terrain       3\n",
       "Tubeless Radials Tyre            3\n",
       "Tubeless. Runflat                2\n",
       "Radial with tube                 2\n",
       "Tubeless Radial                  2\n",
       "Tubeless Tyre                    2\n",
       "Tubless,Radial                   1\n",
       "Radial Tyres                     1\n",
       "Runflat,Radial                   1\n",
       "Tubeless Tyres All Terrain       1\n",
       "Tubeless, Radials                1\n",
       "Name: count, dtype: int64"
      ]
     },
     "execution_count": 219,
     "metadata": {},
     "output_type": "execute_result"
    }
   ],
   "source": [
    "df_car_details['tyre_type'].value_counts()"
   ]
  },
  {
   "cell_type": "code",
   "execution_count": 221,
   "id": "a11085ee-dd06-4e48-adb5-2ea75e03f088",
   "metadata": {},
   "outputs": [
    {
     "name": "stderr",
     "output_type": "stream",
     "text": [
      "C:\\Users\\babuk\\AppData\\Local\\Temp\\ipykernel_6076\\1271802305.py:1: FutureWarning: A value is trying to be set on a copy of a DataFrame or Series through chained assignment using an inplace method.\n",
      "The behavior will change in pandas 3.0. This inplace method will never work because the intermediate object on which we are setting values always behaves as a copy.\n",
      "\n",
      "For example, when doing 'df[col].method(value, inplace=True)', try using 'df.method({col: value}, inplace=True)' or df[col] = df[col].method(value) instead, to perform the operation inplace on the original object.\n",
      "\n",
      "\n",
      "  df_car_details['tyre_type'].fillna('Tubeless,Radial',inplace=True)\n"
     ]
    }
   ],
   "source": [
    "df_car_details['tyre_type'].fillna('Tubeless,Radial',inplace=True)"
   ]
  },
  {
   "cell_type": "code",
   "execution_count": 223,
   "id": "337419cd-46ff-4686-aade-917e4b881493",
   "metadata": {},
   "outputs": [
    {
     "data": {
      "text/plain": [
       "bt\n",
       "Hatchback        3567\n",
       "SUV              2225\n",
       "Sedan            2174\n",
       "MUV               352\n",
       "Minivans           23\n",
       "Coupe              10\n",
       "Pickup Trucks       6\n",
       "Convertibles        6\n",
       "Hybrids             1\n",
       "Wagon               1\n",
       "Name: count, dtype: int64"
      ]
     },
     "execution_count": 223,
     "metadata": {},
     "output_type": "execute_result"
    }
   ],
   "source": [
    "df_car_details['bt'].value_counts()"
   ]
  },
  {
   "cell_type": "code",
   "execution_count": 225,
   "id": "b9b51007-3fd5-4d42-bf92-759087369788",
   "metadata": {},
   "outputs": [
    {
     "name": "stderr",
     "output_type": "stream",
     "text": [
      "C:\\Users\\babuk\\AppData\\Local\\Temp\\ipykernel_6076\\620316904.py:1: FutureWarning: A value is trying to be set on a copy of a DataFrame or Series through chained assignment using an inplace method.\n",
      "The behavior will change in pandas 3.0. This inplace method will never work because the intermediate object on which we are setting values always behaves as a copy.\n",
      "\n",
      "For example, when doing 'df[col].method(value, inplace=True)', try using 'df.method({col: value}, inplace=True)' or df[col] = df[col].method(value) instead, to perform the operation inplace on the original object.\n",
      "\n",
      "\n",
      "  df_car_details['bt'].fillna('Hatchback',inplace=True)\n"
     ]
    }
   ],
   "source": [
    "df_car_details['bt'].fillna('Hatchback',inplace=True)"
   ]
  },
  {
   "cell_type": "code",
   "execution_count": 227,
   "id": "41c80c17-6f71-4711-8da0-35e155f9b511",
   "metadata": {},
   "outputs": [
    {
     "data": {
      "text/plain": [
       "registration_year\n",
       "2022             225\n",
       "2018             201\n",
       "2017             195\n",
       "2021             188\n",
       "2016             187\n",
       "                ... \n",
       "Apr 2008           1\n",
       "Not Available      1\n",
       "Dec 2006           1\n",
       "Oct 2008           1\n",
       "Aug 2006           1\n",
       "Name: count, Length: 237, dtype: int64"
      ]
     },
     "execution_count": 227,
     "metadata": {},
     "output_type": "execute_result"
    }
   ],
   "source": [
    "df_car_details['registration_year'].value_counts()"
   ]
  },
  {
   "cell_type": "code",
   "execution_count": 229,
   "id": "d8612a70-a19d-4c2a-83e6-7cd1014a645e",
   "metadata": {},
   "outputs": [
    {
     "name": "stderr",
     "output_type": "stream",
     "text": [
      "C:\\Users\\babuk\\AppData\\Local\\Temp\\ipykernel_6076\\753372781.py:1: FutureWarning: A value is trying to be set on a copy of a DataFrame or Series through chained assignment using an inplace method.\n",
      "The behavior will change in pandas 3.0. This inplace method will never work because the intermediate object on which we are setting values always behaves as a copy.\n",
      "\n",
      "For example, when doing 'df[col].method(value, inplace=True)', try using 'df.method({col: value}, inplace=True)' or df[col] = df[col].method(value) instead, to perform the operation inplace on the original object.\n",
      "\n",
      "\n",
      "  df_car_details['registration_year'].fillna('2018',inplace=True)\n"
     ]
    }
   ],
   "source": [
    "df_car_details['registration_year'].fillna('2018',inplace=True)"
   ]
  },
  {
   "cell_type": "code",
   "execution_count": 231,
   "id": "6d7b3ded-f154-4062-b0cd-5713c6e43fde",
   "metadata": {},
   "outputs": [
    {
     "data": {
      "text/plain": [
       "kerb_weight\n",
       "935kg       205\n",
       "875-905     146\n",
       "1066kg      141\n",
       "870kg       119\n",
       "1120        103\n",
       "           ... \n",
       "1700Kg        1\n",
       "1365          1\n",
       "1268kg        1\n",
       "1830          1\n",
       "1,160 kg      1\n",
       "Name: count, Length: 901, dtype: int64"
      ]
     },
     "execution_count": 231,
     "metadata": {},
     "output_type": "execute_result"
    }
   ],
   "source": [
    "df_car_details['kerb_weight'].value_counts()"
   ]
  },
  {
   "cell_type": "code",
   "execution_count": 233,
   "id": "fbba00d6-4fda-4f71-bca9-705af5e93a4f",
   "metadata": {},
   "outputs": [],
   "source": [
    "# Remove commas from the 'km' column\n",
    "df_car_details['km'] = df_car_details['km'].str.replace(',', '', regex=False)\n",
    "\n",
    "# Optionally, convert the column to numeric if needed\n",
    "df_car_details['km'] = pd.to_numeric(df_car_details['km'])"
   ]
  },
  {
   "cell_type": "code",
   "execution_count": 235,
   "id": "230aa324-d0e9-46a1-b305-3a589ca6697c",
   "metadata": {},
   "outputs": [],
   "source": [
    "df_car_details.drop('ownerNo',axis=1,inplace=True)"
   ]
  },
  {
   "cell_type": "code",
   "execution_count": 237,
   "id": "c604b741-69b9-4e88-8788-4e88d7a69068",
   "metadata": {},
   "outputs": [
    {
     "name": "stderr",
     "output_type": "stream",
     "text": [
      "<>:2: SyntaxWarning: invalid escape sequence '\\d'\n",
      "<>:2: SyntaxWarning: invalid escape sequence '\\d'\n",
      "C:\\Users\\babuk\\AppData\\Local\\Temp\\ipykernel_6076\\570530821.py:2: SyntaxWarning: invalid escape sequence '\\d'\n",
      "  df_car_details['owner'] = df_car_details['owner'].str.extract('(\\d+)')\n"
     ]
    }
   ],
   "source": [
    "# Remove ordinal suffixes and keep only the numeric part\n",
    "df_car_details['owner'] = df_car_details['owner'].str.extract('(\\d+)')\n",
    "\n",
    "# Convert the 'owner' column to numeric type (optional but useful for calculations)\n",
    "df_car_details['owner'] = pd.to_numeric(df_car_details['owner'])"
   ]
  },
  {
   "cell_type": "code",
   "execution_count": 241,
   "id": "9913d8d4-b84a-4cb9-b56e-bd7aed4a1b5d",
   "metadata": {},
   "outputs": [],
   "source": [
    "df_car_details['price'] = df_car_details['price'].str.replace('₹', '', regex=False)  # Remove ₹ symbol\n",
    "#df_car_detail['price'] = df_car_detail['price'].str.replace(' Lakh', '', regex=False)  # Remove 'Lakh' text"
   ]
  },
  {
   "cell_type": "code",
   "execution_count": 243,
   "id": "ec6795fa-765c-4634-92d0-2fd2e9afdb8d",
   "metadata": {},
   "outputs": [],
   "source": [
    "df_car_details['price'] = df_car_details['price'].str.replace(',', '', regex=False)  # Remove commas\n",
    "#df_car_detail['price'] = df_car_detail['price'].str.replace(' Crore', '', regex=False)  # Remove 'Crore' text\n",
    "#df_car_detail['price'] = pd.to_numeric(df_car_detail['price'])  # Convert to numeric"
   ]
  },
  {
   "cell_type": "code",
   "execution_count": 247,
   "id": "278af01e-7454-4d62-a004-520a95191bd2",
   "metadata": {},
   "outputs": [],
   "source": [
    "file_path = 'reverted_prices.xlsx'  # Specify your file path here\n",
    "df_car_details.to_excel(file_path, index=False)"
   ]
  },
  {
   "cell_type": "code",
   "execution_count": 513,
   "id": "c1a52166-34b1-4a4e-8fc5-f6df7505da79",
   "metadata": {},
   "outputs": [
    {
     "name": "stdout",
     "output_type": "stream",
     "text": [
      "   it      ft         bt      km transmission  owner      oem  \\\n",
      "0   0  Petrol  Hatchback  120000       Manual      3   Maruti   \n",
      "1   0  Petrol        SUV   32706       Manual      2     Ford   \n",
      "2   0  Petrol  Hatchback   11949       Manual      1     Tata   \n",
      "3   0  Petrol      Sedan   17794       Manual      1  Hyundai   \n",
      "4   0  Diesel        SUV   60000       Manual      1   Maruti   \n",
      "\n",
      "                model  modelYear  centralVariantId  ... steering_type  \\\n",
      "0      Maruti Celerio       2015              3979  ...         Power   \n",
      "1       Ford Ecosport       2018              6087  ...         Power   \n",
      "2          Tata Tiago       2018              2983  ...         Power   \n",
      "3       Hyundai Xcent       2014              1867  ...         Power   \n",
      "4  Maruti SX4 S Cross       2015              4277  ...         Power   \n",
      "\n",
      "  turning_radius front_brake_type rear_brake_type         tyre_type  \\\n",
      "0     4.7 metres  Ventilated Disc            Drum  Tubeless, Radial   \n",
      "1     5.3 metres  Ventilated Disc            Drum   Tubeless,Radial   \n",
      "2     4.9 meters             Disc            Drum          Tubeless   \n",
      "3     4.7 metres            Disc             Drum   Tubeless,Radial   \n",
      "4     5.2 meters  Ventilated Disc      Solid Disc   Tubeless,Radial   \n",
      "\n",
      "  no_door_numbers cargo_volumn wheel_size alloy_wheel_size       City  \n",
      "0               5   235-litres         16               16  Bangalore  \n",
      "1               4   352-litres         16               16  Bangalore  \n",
      "2               5   242-litres         14               14  Bangalore  \n",
      "3               4   407-litres         14               14  Bangalore  \n",
      "4               5   353-litres         16               16  Bangalore  \n",
      "\n",
      "[5 rows x 61 columns]\n"
     ]
    }
   ],
   "source": [
    "# Step 1: Read the Excel file\n",
    "file_path = \"reverted_prices.xlsx\"  # Change this to your actual file path\n",
    "df_car_detail = pd.read_excel(file_path)\n",
    "\n",
    "# Optional: View the first few rows\n",
    "print(df_car_detail.head())"
   ]
  },
  {
   "cell_type": "code",
   "execution_count": 514,
   "id": "e8aff4d2-4c23-4e20-9200-a00e0df59090",
   "metadata": {},
   "outputs": [
    {
     "data": {
      "text/plain": [
       "price\n",
       "6.50 Lakh     106\n",
       "4.50 Lakh      98\n",
       "3 Lakh         97\n",
       "5 Lakh         97\n",
       "4 Lakh         90\n",
       "             ... \n",
       "10.29 Lakh      1\n",
       "11.05 Lakh      1\n",
       "87000           1\n",
       "14.66 Lakh      1\n",
       "19.24 Lakh      1\n",
       "Name: count, Length: 1400, dtype: int64"
      ]
     },
     "execution_count": 514,
     "metadata": {},
     "output_type": "execute_result"
    }
   ],
   "source": [
    "df_car_detail['price'].value_counts()"
   ]
  },
  {
   "cell_type": "code",
   "execution_count": 515,
   "id": "ed014215-04fe-4910-ab91-a460f9f771ec",
   "metadata": {},
   "outputs": [],
   "source": [
    "import re\n",
    "\n",
    "# If not already done\n",
    "df_car_detail['price'] = df_car_detail['price'].astype(str)\n",
    "\n",
    "def standardize_price(value):\n",
    "    if pd.isnull(value):\n",
    "        return None\n",
    "\n",
    "    # Step 1: Clean value\n",
    "    value = value.lower().replace(\",\", \"\").replace(\"₹\", \"\").strip()\n",
    "\n",
    "    # Step 2: Handle Crore\n",
    "    if 'crore' in value:\n",
    "        num = re.findall(r\"[\\d.]+\", value)\n",
    "        return float(num[0]) * 100 if num else None\n",
    "\n",
    "    # Step 3: Handle Lakh\n",
    "    if 'lakh' in value:\n",
    "        num = re.findall(r\"[\\d.]+\", value)\n",
    "        return float(num[0]) if num else None\n",
    "\n",
    "    # Step 4: Handle plain numbers (thousands like '75000')\n",
    "    try:\n",
    "        numeric_value = float(value)\n",
    "        if numeric_value >= 1000:  # Assume it's in thousands\n",
    "            return numeric_value / 100000\n",
    "        else:  # Already in lakhs\n",
    "            return numeric_value\n",
    "    except:\n",
    "        return None\n",
    "\n",
    "# Apply conversion\n",
    "df_car_detail['price_in_lakhs'] = df_car_detail['price'].apply(standardize_price)"
   ]
  },
  {
   "cell_type": "code",
   "execution_count": 516,
   "id": "0bcfd6da-0e59-4113-abe1-ceb0be07998f",
   "metadata": {},
   "outputs": [
    {
     "name": "stdout",
     "output_type": "stream",
     "text": [
      "<class 'pandas.core.frame.DataFrame'>\n",
      "RangeIndex: 8369 entries, 0 to 8368\n",
      "Data columns (total 62 columns):\n",
      " #   Column                         Non-Null Count  Dtype  \n",
      "---  ------                         --------------  -----  \n",
      " 0   it                             8369 non-null   int64  \n",
      " 1   ft                             8369 non-null   object \n",
      " 2   bt                             8369 non-null   object \n",
      " 3   km                             8369 non-null   int64  \n",
      " 4   transmission                   8369 non-null   object \n",
      " 5   owner                          8369 non-null   int64  \n",
      " 6   oem                            8369 non-null   object \n",
      " 7   model                          8369 non-null   object \n",
      " 8   modelYear                      8369 non-null   int64  \n",
      " 9   centralVariantId               8369 non-null   int64  \n",
      " 10  variantName                    8369 non-null   object \n",
      " 11  price                          8369 non-null   object \n",
      " 12  trendingText                   8369 non-null   object \n",
      " 13  registration_year              8369 non-null   object \n",
      " 14  insurance_validity             8369 non-null   object \n",
      " 15  fuel_type                      8369 non-null   object \n",
      " 16  seats                          8369 non-null   object \n",
      " 17  kms_driven                     8369 non-null   object \n",
      " 18  rto                            8369 non-null   object \n",
      " 19  ownership                      8369 non-null   object \n",
      " 20  engine_displacement            8369 non-null   object \n",
      " 21  transmission.1                 8369 non-null   object \n",
      " 22  year_of_manufacture            8369 non-null   object \n",
      " 23  Features                       8369 non-null   int64  \n",
      " 24  Comfort & Convenience          8369 non-null   int64  \n",
      " 25  Interior                       8369 non-null   int64  \n",
      " 26  Exterior                       8369 non-null   int64  \n",
      " 27  Safety                         8369 non-null   int64  \n",
      " 28  Entertainment & Communication  8369 non-null   int64  \n",
      " 29  mileage                        8369 non-null   object \n",
      " 30  engine                         8369 non-null   object \n",
      " 31  max_power                      8369 non-null   object \n",
      " 32  torque                         8369 non-null   object \n",
      " 33  seats.1                        8369 non-null   int64  \n",
      " 34  color                          8369 non-null   object \n",
      " 35  engine_type                    8369 non-null   object \n",
      " 36  displacement                   8369 non-null   int64  \n",
      " 37  max_torque                     8369 non-null   object \n",
      " 38  no_of_cylinder                 8369 non-null   int64  \n",
      " 39  values_per_cylinder            8369 non-null   int64  \n",
      " 40  fuel_suppy_system              6642 non-null   object \n",
      " 41  turbo_charger                  8369 non-null   object \n",
      " 42  super_charger                  6407 non-null   object \n",
      " 43  length                         8290 non-null   object \n",
      " 44  width                          8369 non-null   object \n",
      " 45  height                         8369 non-null   object \n",
      " 46  wheel_base                     8369 non-null   object \n",
      " 47  kerb_weight                    8369 non-null   object \n",
      " 48  gear_box                       8369 non-null   object \n",
      " 49  drive_type                     8369 non-null   object \n",
      " 50  seating_capacity               8369 non-null   int64  \n",
      " 51  steering_type                  8369 non-null   object \n",
      " 52  turning_radius                 8369 non-null   object \n",
      " 53  front_brake_type               8369 non-null   object \n",
      " 54  rear_brake_type                8369 non-null   object \n",
      " 55  tyre_type                      8369 non-null   object \n",
      " 56  no_door_numbers                8369 non-null   int64  \n",
      " 57  cargo_volumn                   8369 non-null   object \n",
      " 58  wheel_size                     8369 non-null   object \n",
      " 59  alloy_wheel_size               8369 non-null   object \n",
      " 60  City                           8369 non-null   object \n",
      " 61  price_in_lakhs                 8369 non-null   float64\n",
      "dtypes: float64(1), int64(17), object(44)\n",
      "memory usage: 4.0+ MB\n"
     ]
    }
   ],
   "source": [
    "df_car_detail.info()"
   ]
  },
  {
   "cell_type": "code",
   "execution_count": 517,
   "id": "55d0aad3-960c-4cc6-8f81-97dea3753af3",
   "metadata": {},
   "outputs": [],
   "source": [
    "df_car_detail.drop('price',axis=1,inplace=True)"
   ]
  },
  {
   "cell_type": "code",
   "execution_count": 523,
   "id": "1b62241a-5fb8-486f-97b9-2666d8935f4e",
   "metadata": {},
   "outputs": [],
   "source": [
    "df1=df_car_detail.copy()"
   ]
  },
  {
   "cell_type": "code",
   "execution_count": 529,
   "id": "eff099ea-cfc2-4d72-bb5b-0f62d131240e",
   "metadata": {},
   "outputs": [
    {
     "data": {
      "text/plain": [
       "8359    2013\n",
       "8360    2021\n",
       "8361    2014\n",
       "8362    2018\n",
       "8363    2013\n",
       "8364    2013\n",
       "8365    2014\n",
       "8366    2018\n",
       "8367    2019\n",
       "8368    2015\n",
       "Name: registration_year, dtype: object"
      ]
     },
     "execution_count": 529,
     "metadata": {},
     "output_type": "execute_result"
    }
   ],
   "source": [
    "df_car_detail['registration_year'].tail(10)"
   ]
  },
  {
   "cell_type": "code",
   "execution_count": 527,
   "id": "eab2156b-899a-4b9c-a36b-275656fb46f0",
   "metadata": {},
   "outputs": [],
   "source": [
    "# Extract the 4-digit year from the string\n",
    "df_car_detail['registration_year'] = df_car_detail['registration_year'].astype(str).apply(lambda x: re.search(r'\\d{4}', x).group(0) if re.search(r'\\d{4}', x) else None)"
   ]
  },
  {
   "cell_type": "code",
   "execution_count": 531,
   "id": "24ea22a8-f2c3-4346-9bdb-72d10e478367",
   "metadata": {},
   "outputs": [],
   "source": [
    "df_car_detail.drop('ownership',axis=1,inplace=True)"
   ]
  },
  {
   "cell_type": "code",
   "execution_count": 533,
   "id": "3d4151b3-829d-4629-99ba-b085c1721d7d",
   "metadata": {},
   "outputs": [],
   "source": [
    "df_car_detail.drop('engine_displacement',axis=1,inplace=True)"
   ]
  },
  {
   "cell_type": "code",
   "execution_count": 535,
   "id": "09319bd3-3097-4a12-a0f9-bab963508890",
   "metadata": {},
   "outputs": [],
   "source": [
    "df_car_detail.drop('year_of_manufacture',axis=1,inplace=True)"
   ]
  },
  {
   "cell_type": "code",
   "execution_count": 537,
   "id": "d140dea5-fd59-413a-a7ae-53ac634fb70d",
   "metadata": {},
   "outputs": [],
   "source": [
    "df_car_detail.drop('seats',axis=1,inplace=True)"
   ]
  },
  {
   "cell_type": "code",
   "execution_count": 539,
   "id": "b608cd23-8135-4ba7-a7f7-2b06d2f1f4b3",
   "metadata": {},
   "outputs": [],
   "source": [
    "def convert_mileage_to_kmpl(mileage):\n",
    "    if pd.isnull(mileage):\n",
    "        return None\n",
    "\n",
    "    mileage = str(mileage).strip().lower()  # Clean up the string\n",
    "\n",
    "    try:\n",
    "        if 'km/kg' in mileage:\n",
    "            km_per_kg = float(mileage.split()[0])\n",
    "            return round(km_per_kg * 1.333, 2)  # Convert to kmpl (approx), rounded\n",
    "        elif 'kmpl' in mileage:\n",
    "            return float(mileage.split()[0])\n",
    "    except:\n",
    "        return None\n",
    "\n",
    "    return None\n",
    "\n",
    "\n",
    "# Apply the conversion function to the 'mileage' column\n",
    "df_car_detail['mileage'] = df_car_detail['mileage'].apply(convert_mileage_to_kmpl)"
   ]
  },
  {
   "cell_type": "code",
   "execution_count": 555,
   "id": "fe0c46f5-7b40-4bdd-8032-8aa7c4759b26",
   "metadata": {},
   "outputs": [],
   "source": [
    "df_car_detail.drop('max_power',axis=1,inplace=True)\n",
    "df_car_detail.drop('torque',axis=1,inplace=True)"
   ]
  },
  {
   "cell_type": "code",
   "execution_count": 553,
   "id": "acfd7569-227a-459f-97d0-45149ce53900",
   "metadata": {},
   "outputs": [],
   "source": [
    "df_car_detail['engine'] = df_car_detail['engine'].replace({'CC': '',',': ''}, regex=True)"
   ]
  },
  {
   "cell_type": "code",
   "execution_count": 557,
   "id": "ccf5fd62-b8fe-4875-b9a8-198ff2770057",
   "metadata": {},
   "outputs": [],
   "source": [
    "df_car_detail['length'] = df_car_detail['length'].replace({'mm': '',',': ''}, regex=True)\n",
    "df_car_detail['width'] = df_car_detail['width'].replace({'mm': '',',': ''}, regex=True)\n",
    "df_car_detail['height'] = df_car_detail['height'].replace({'mm': '',',': ''}, regex=True)\n",
    "df_car_detail['wheel_base'] = df_car_detail['wheel_base'].replace({'mm': '',',': ''}, regex=True)"
   ]
  },
  {
   "cell_type": "code",
   "execution_count": 559,
   "id": "6fb2094d-fd64-4edb-bd76-3887f1311d72",
   "metadata": {},
   "outputs": [],
   "source": [
    "df_car_detail['wheel_base'] = df_car_detail['wheel_base'].replace({'m': '',',': ''}, regex=True)"
   ]
  },
  {
   "cell_type": "code",
   "execution_count": 561,
   "id": "f53c2f89-1e79-48ba-a37a-92f40e798d1f",
   "metadata": {},
   "outputs": [],
   "source": [
    "df_car_detail.drop('kerb_weight',axis=1,inplace=True)"
   ]
  },
  {
   "cell_type": "code",
   "execution_count": 563,
   "id": "7594d52d-68b4-4f35-bd35-5674ebd428b1",
   "metadata": {},
   "outputs": [],
   "source": [
    "df_car_detail.drop('turning_radius',axis=1,inplace=True)"
   ]
  },
  {
   "cell_type": "code",
   "execution_count": 565,
   "id": "a17dbbed-b69e-4d2d-9590-415e46653a23",
   "metadata": {},
   "outputs": [],
   "source": [
    "df_car_detail.drop('cargo_volumn',axis=1,inplace=True)"
   ]
  },
  {
   "cell_type": "code",
   "execution_count": 567,
   "id": "f8f2e552-0d92-40af-bac8-9bf8bbe8b4cb",
   "metadata": {},
   "outputs": [],
   "source": [
    "df_car_detail.drop('front_brake_type',axis=1,inplace=True)"
   ]
  },
  {
   "cell_type": "code",
   "execution_count": 569,
   "id": "a9fe8786-7c01-4702-b303-2fd6a7979b68",
   "metadata": {},
   "outputs": [],
   "source": [
    "df_car_detail.drop('variantName',axis=1,inplace=True)"
   ]
  },
  {
   "cell_type": "code",
   "execution_count": 571,
   "id": "7c48564d-7b31-4734-8eea-9c7a44a081bf",
   "metadata": {},
   "outputs": [],
   "source": [
    "df_car_detail.drop('engine_type',axis=1,inplace=True)"
   ]
  },
  {
   "cell_type": "code",
   "execution_count": 581,
   "id": "83dbaff1-4ec6-470b-9430-031e526d1139",
   "metadata": {},
   "outputs": [
    {
     "name": "stdout",
     "output_type": "stream",
     "text": [
      "<class 'pandas.core.frame.DataFrame'>\n",
      "RangeIndex: 8369 entries, 0 to 8368\n",
      "Data columns (total 45 columns):\n",
      " #   Column                         Non-Null Count  Dtype  \n",
      "---  ------                         --------------  -----  \n",
      " 0   it                             8369 non-null   int64  \n",
      " 1   ft                             8369 non-null   object \n",
      " 2   bt                             8369 non-null   object \n",
      " 3   km                             8369 non-null   int64  \n",
      " 4   transmission                   8369 non-null   object \n",
      " 5   owner                          8369 non-null   int64  \n",
      " 6   oem                            8369 non-null   object \n",
      " 7   model                          8369 non-null   object \n",
      " 8   modelYear                      8369 non-null   int64  \n",
      " 9   centralVariantId               8369 non-null   int64  \n",
      " 10  trendingText                   8369 non-null   object \n",
      " 11  registration_year              8317 non-null   object \n",
      " 12  insurance_validity             8369 non-null   object \n",
      " 13  fuel_type                      8369 non-null   object \n",
      " 14  kms_driven                     8369 non-null   object \n",
      " 15  rto                            8369 non-null   object \n",
      " 16  transmission.1                 8369 non-null   object \n",
      " 17  Features                       8369 non-null   int64  \n",
      " 18  Comfort & Convenience          8369 non-null   int64  \n",
      " 19  Interior                       8369 non-null   int64  \n",
      " 20  Exterior                       8369 non-null   int64  \n",
      " 21  Safety                         8369 non-null   int64  \n",
      " 22  Entertainment & Communication  8369 non-null   int64  \n",
      " 23  mileage                        8369 non-null   float64\n",
      " 24  engine                         8369 non-null   object \n",
      " 25  seats.1                        8369 non-null   int64  \n",
      " 26  color                          8369 non-null   object \n",
      " 27  displacement                   8369 non-null   int64  \n",
      " 28  max_torque                     8369 non-null   object \n",
      " 29  no_of_cylinder                 8369 non-null   int64  \n",
      " 30  values_per_cylinder            8369 non-null   int64  \n",
      " 31  turbo_charger                  8369 non-null   object \n",
      " 32  length                         8290 non-null   object \n",
      " 33  width                          8369 non-null   object \n",
      " 34  height                         8369 non-null   object \n",
      " 35  wheel_base                     8369 non-null   object \n",
      " 36  gear_box                       8369 non-null   object \n",
      " 37  seating_capacity               8369 non-null   int64  \n",
      " 38  steering_type                  8369 non-null   object \n",
      " 39  tyre_type                      8369 non-null   object \n",
      " 40  no_door_numbers                8369 non-null   int64  \n",
      " 41  wheel_size                     8369 non-null   object \n",
      " 42  alloy_wheel_size               8369 non-null   object \n",
      " 43  City                           8369 non-null   object \n",
      " 44  price_in_lakhs                 8369 non-null   float64\n",
      "dtypes: float64(2), int64(17), object(26)\n",
      "memory usage: 2.9+ MB\n"
     ]
    }
   ],
   "source": [
    "df_car_detail.info()"
   ]
  },
  {
   "cell_type": "code",
   "execution_count": 575,
   "id": "84707cc6-5091-4a84-8af9-648ae71791c4",
   "metadata": {},
   "outputs": [],
   "source": [
    "df_car_detail.drop('drive_type',axis=1,inplace=True)"
   ]
  },
  {
   "cell_type": "code",
   "execution_count": 577,
   "id": "9cbd3c2b-71f3-4c22-9a8d-feae0b42a70b",
   "metadata": {},
   "outputs": [],
   "source": [
    "df_car_detail.drop('rear_brake_type',axis=1,inplace=True)"
   ]
  },
  {
   "cell_type": "code",
   "execution_count": 579,
   "id": "6ffc5038-e2c6-477d-b6af-04803b318515",
   "metadata": {},
   "outputs": [],
   "source": [
    "df_car_detail.drop('super_charger',axis=1,inplace=True)\n",
    "df_car_detail.drop('fuel_suppy_system',axis=1,inplace=True)"
   ]
  },
  {
   "cell_type": "code",
   "execution_count": 583,
   "id": "b54c1149-fe2b-4102-aea7-8fc0efe272df",
   "metadata": {},
   "outputs": [],
   "source": [
    "df_car_detail.drop('tyre_type',axis=1,inplace=True)\n",
    "df_car_detail.drop('rto',axis=1,inplace=True)"
   ]
  },
  {
   "cell_type": "code",
   "execution_count": 585,
   "id": "fb0d3f34-daf4-4668-91fc-ee8e1162f143",
   "metadata": {},
   "outputs": [
    {
     "name": "stdout",
     "output_type": "stream",
     "text": [
      "0       120000\n",
      "1        32706\n",
      "2        11949\n",
      "3        17794\n",
      "4        60000\n",
      "         ...  \n",
      "8364     60000\n",
      "8365     50000\n",
      "8366    120000\n",
      "8367     50000\n",
      "8368    100000\n",
      "Name: kms_driven, Length: 8359, dtype: int32\n"
     ]
    }
   ],
   "source": [
    "# Step 1: Remove commas and 'Kms' and keep only numeric characters (if there are other unwanted characters)\n",
    "df_car_detail['kms_driven'] = df_car_detail['kms_driven'].str.replace(',', '', regex=True)  # remove commas\n",
    "df_car_detail['kms_driven'] = df_car_detail['kms_driven'].str.replace(' Kms', '', regex=True)  # remove 'Kms'\n",
    "\n",
    "# Step 2: Remove all non-numeric characters and keep only digits (if there are other unwanted characters)\n",
    "df_car_detail['kms_driven'] = df_car_detail['kms_driven'].str.replace(r'[^0-9]', '', regex=True)\n",
    "\n",
    "# Step 3: Convert to numeric values, coercing errors to NaN for invalid entries\n",
    "df_car_detail['kms_driven'] = pd.to_numeric(df_car_detail['kms_driven'], errors='coerce')\n",
    "\n",
    "# Step 4: Handle NaNs - either fill with a default value or drop rows\n",
    "# Option 1: Drop rows where 'kms_driven' is NaN (invalid entries like 'HR12' will be dropped)\n",
    "df_car_detail.dropna(subset=['kms_driven'], inplace=True)\n",
    "\n",
    "# Option 2: Fill NaN values with a default value (e.g., 0 or some other placeholder)\n",
    "# df_car_detail['kms_driven'].fillna(0, inplace=True)\n",
    "\n",
    "# Step 5: Convert to integer type if required\n",
    "df_car_detail['kms_driven'] = df_car_detail['kms_driven'].astype(int)\n",
    "\n",
    "# Display the cleaned column\n",
    "print(df_car_detail['kms_driven'])"
   ]
  },
  {
   "cell_type": "code",
   "execution_count": 1233,
   "id": "fed79f8d-9d2b-4cdf-a409-1a8c1399b3b2",
   "metadata": {},
   "outputs": [],
   "source": [
    "sample_df=df_car_detail.copy()"
   ]
  },
  {
   "cell_type": "code",
   "execution_count": 1235,
   "id": "b8af5ec5-286e-48d2-884b-8f5d577bd589",
   "metadata": {},
   "outputs": [],
   "source": [
    "sample_df['price_in_lakhs'] = sample_df['price_in_lakhs'].apply(\n",
    "    lambda x: int(x * 100000) if pd.notnull(x) else None\n",
    ")"
   ]
  },
  {
   "cell_type": "code",
   "execution_count": 1333,
   "id": "290b4225-c422-48bd-8595-58c4f9989b87",
   "metadata": {},
   "outputs": [
    {
     "data": {
      "text/plain": [
       "0        400000\n",
       "1        811000\n",
       "2        585000\n",
       "3        462000\n",
       "4        790000\n",
       "         ...   \n",
       "8364     700000\n",
       "8365    2000000\n",
       "8366    3500000\n",
       "8367     850000\n",
       "8368    1500000\n",
       "Name: price_in_lakhs, Length: 8359, dtype: int64"
      ]
     },
     "execution_count": 1333,
     "metadata": {},
     "output_type": "execute_result"
    }
   ],
   "source": [
    "sample_df['price_in_lakhs']"
   ]
  },
  {
   "cell_type": "code",
   "execution_count": 1237,
   "id": "30d9b797-7d9d-4837-9108-02b1eefd0c1d",
   "metadata": {},
   "outputs": [
    {
     "data": {
      "text/plain": [
       "registration_year\n",
       "2018    979\n",
       "2017    938\n",
       "2016    801\n",
       "2019    799\n",
       "2021    690\n",
       "2020    640\n",
       "2014    591\n",
       "2022    571\n",
       "2015    570\n",
       "2013    383\n",
       "2012    332\n",
       "2011    274\n",
       "2010    245\n",
       "2009    141\n",
       "2023    116\n",
       "2008     81\n",
       "2007     54\n",
       "2006     42\n",
       "2004     25\n",
       "2005     20\n",
       "2003     13\n",
       "2002     10\n",
       "Name: count, dtype: int64"
      ]
     },
     "execution_count": 1237,
     "metadata": {},
     "output_type": "execute_result"
    }
   ],
   "source": [
    "# Assuming df_car_detail is the DataFrame and 'registration_year' is the column\n",
    "sample_df['registration_year'].value_counts()"
   ]
  },
  {
   "cell_type": "code",
   "execution_count": 1239,
   "id": "3628329c-ca60-4503-8307-66d89542a1ff",
   "metadata": {},
   "outputs": [
    {
     "name": "stderr",
     "output_type": "stream",
     "text": [
      "C:\\Users\\babuk\\AppData\\Local\\Temp\\ipykernel_6076\\1813005159.py:1: FutureWarning: A value is trying to be set on a copy of a DataFrame or Series through chained assignment using an inplace method.\n",
      "The behavior will change in pandas 3.0. This inplace method will never work because the intermediate object on which we are setting values always behaves as a copy.\n",
      "\n",
      "For example, when doing 'df[col].method(value, inplace=True)', try using 'df.method({col: value}, inplace=True)' or df[col] = df[col].method(value) instead, to perform the operation inplace on the original object.\n",
      "\n",
      "\n",
      "  sample_df['registration_year'].fillna(2018,inplace=True)\n"
     ]
    }
   ],
   "source": [
    "sample_df['registration_year'].fillna(2018,inplace=True)"
   ]
  },
  {
   "cell_type": "code",
   "execution_count": 1241,
   "id": "60605b8c-f946-49ee-abde-e2472c85dc20",
   "metadata": {},
   "outputs": [],
   "source": [
    "sample_df.drop('width',axis=1,inplace=True)"
   ]
  },
  {
   "cell_type": "code",
   "execution_count": 1243,
   "id": "c83f13fc-4d73-4c90-849b-f6bfbe6ab10c",
   "metadata": {},
   "outputs": [],
   "source": [
    "sample_df['engine'] = df_car_detail['engine'].astype(int)"
   ]
  },
  {
   "cell_type": "code",
   "execution_count": 1245,
   "id": "00625136-58b9-4f8b-9f3a-06d6f6a32e92",
   "metadata": {},
   "outputs": [],
   "source": [
    "sample_df.drop('wheel_size',axis=1,inplace=True)"
   ]
  },
  {
   "cell_type": "code",
   "execution_count": 1247,
   "id": "362514e2-6381-445e-b183-e6808c6db44e",
   "metadata": {},
   "outputs": [],
   "source": [
    "sample_df.drop('transmission.1',axis=1,inplace=True)"
   ]
  },
  {
   "cell_type": "code",
   "execution_count": 1249,
   "id": "70f03ac5-66ce-4d3b-beb6-e95d41b3f9ff",
   "metadata": {},
   "outputs": [],
   "source": [
    "sample_df.drop('fuel_type',axis=1,inplace=True)"
   ]
  },
  {
   "cell_type": "code",
   "execution_count": 717,
   "id": "a000aec9-ec00-4f57-810e-78974898deb3",
   "metadata": {},
   "outputs": [
    {
     "data": {
      "image/png": "[encoded data removed]",
      "text/plain": [
       "<Figure size 1000x600 with 1 Axes>"
      ]
     },
     "metadata": {},
     "output_type": "display_data"
    }
   ],
   "source": [
    "# Box plot for price\n",
    "import seaborn as sns\n",
    "import matplotlib.pyplot as plt\n",
    "plt.figure(figsize=(10, 6))\n",
    "sns.boxplot(x=sample_df['price_in_lakhs'])\n",
    "plt.title('Price Distribution before Handling Outliers')\n",
    "plt.show()"
   ]
  },
  {
   "cell_type": "code",
   "execution_count": 1251,
   "id": "e0889410-82c3-4afd-a07f-fb2e12d793ad",
   "metadata": {},
   "outputs": [],
   "source": [
    "sample_df.drop('trendingText',axis=1,inplace=True)"
   ]
  },
  {
   "cell_type": "code",
   "execution_count": 1253,
   "id": "ececd16a-b988-4ebb-a0ed-28743ecfc837",
   "metadata": {},
   "outputs": [],
   "source": [
    "sample_df.drop('insurance_validity',axis=1,inplace=True)\n",
    "sample_df.drop('Comfort & Convenience',axis=1,inplace=True)\n",
    "sample_df.drop('Entertainment & Communication',axis=1,inplace=True)"
   ]
  },
  {
   "cell_type": "code",
   "execution_count": 1255,
   "id": "87259925-f448-4dce-b11d-8842861e53a4",
   "metadata": {},
   "outputs": [],
   "source": [
    "sample_df.drop('max_torque',axis=1,inplace=True)\n",
    "sample_df.drop('no_of_cylinder',axis=1,inplace=True)\n",
    "sample_df.drop('values_per_cylinder',axis=1,inplace=True)\n",
    "sample_df.drop('turbo_charger',axis=1,inplace=True)\n",
    "sample_df.drop('wheel_base',axis=1,inplace=True)\n",
    "sample_df.drop('steering_type',axis=1,inplace=True)"
   ]
  },
  {
   "cell_type": "code",
   "execution_count": 1257,
   "id": "32d343c2-1394-4f0b-85ab-11970d420a2c",
   "metadata": {},
   "outputs": [],
   "source": [
    "sample_df['mileage'] = sample_df['mileage'].astype('int64')"
   ]
  },
  {
   "cell_type": "code",
   "execution_count": 1259,
   "id": "ddfe37de-93f9-4ec5-a0e8-b825a0e761ea",
   "metadata": {},
   "outputs": [],
   "source": [
    "sample_df['registration_year'] = sample_df['registration_year'].astype('int64')"
   ]
  },
  {
   "cell_type": "code",
   "execution_count": 1261,
   "id": "c11feeb3-dec2-43f6-90a5-033a3ee751ad",
   "metadata": {},
   "outputs": [],
   "source": [
    "sample_df.drop('model',axis=1,inplace=True)"
   ]
  },
  {
   "cell_type": "code",
   "execution_count": 1263,
   "id": "94655db7-5f11-4176-abac-8a22291ec2ff",
   "metadata": {},
   "outputs": [],
   "source": [
    "sample_df.drop('color',axis=1,inplace=True)"
   ]
  },
  {
   "cell_type": "code",
   "execution_count": 1265,
   "id": "6f1f636a-a76d-478d-b0f3-f30835fce76d",
   "metadata": {},
   "outputs": [
    {
     "name": "stdout",
     "output_type": "stream",
     "text": [
      "Categorical Columns:\n",
      " Index(['ft', 'bt', 'transmission', 'oem', 'City'], dtype='object')\n"
     ]
    }
   ],
   "source": [
    "categorical_columns = sample_df.select_dtypes(include=['object']).columns\n",
    "print(\"Categorical Columns:\\n\", categorical_columns)"
   ]
  },
  {
   "cell_type": "code",
   "execution_count": 1283,
   "id": "c22ff037-f9eb-4353-9974-36b832623f58",
   "metadata": {},
   "outputs": [
    {
     "name": "stdout",
     "output_type": "stream",
     "text": [
      "<class 'pandas.core.frame.DataFrame'>\n",
      "Index: 8359 entries, 0 to 8368\n",
      "Data columns (total 20 columns):\n",
      " #   Column                Non-Null Count  Dtype \n",
      "---  ------                --------------  ----- \n",
      " 0   ft                    8359 non-null   object\n",
      " 1   bt                    8359 non-null   object\n",
      " 2   transmission          8359 non-null   object\n",
      " 3   owner                 8359 non-null   int64 \n",
      " 4   oem                   8359 non-null   object\n",
      " 5   modelYear             8359 non-null   int64 \n",
      " 6   centralVariantId      8359 non-null   int64 \n",
      " 7   registration_year     8359 non-null   int64 \n",
      " 8   kms_driven            8359 non-null   int32 \n",
      " 9   Features              8359 non-null   int64 \n",
      " 10  Interior              8359 non-null   int64 \n",
      " 11  Exterior              8359 non-null   int64 \n",
      " 12  Safety                8359 non-null   int64 \n",
      " 13  mileage               8359 non-null   int64 \n",
      " 14  engine                8359 non-null   int32 \n",
      " 15  seats.1               8359 non-null   int64 \n",
      " 16  no_door_numbers       8359 non-null   int64 \n",
      " 17  City                  8359 non-null   object\n",
      " 18  price_in_lakhs        8359 non-null   int64 \n",
      " 19  transmission_encoded  8359 non-null   int32 \n",
      "dtypes: int32(3), int64(12), object(5)\n",
      "memory usage: 1.5+ MB\n"
     ]
    }
   ],
   "source": [
    "sample_df.info()"
   ]
  },
  {
   "cell_type": "code",
   "execution_count": 829,
   "id": "2aed31e3-062e-41c4-a012-d9fd3b647f80",
   "metadata": {},
   "outputs": [
    {
     "data": {
      "text/plain": [
       "array(['Manual', 'Automatic'], dtype=object)"
      ]
     },
     "execution_count": 829,
     "metadata": {},
     "output_type": "execute_result"
    }
   ],
   "source": [
    "before_df['transmission'].unique()"
   ]
  },
  {
   "cell_type": "code",
   "execution_count": 1269,
   "id": "9ae5d8c3-fc25-46c3-95f3-6f71692ab96f",
   "metadata": {},
   "outputs": [],
   "source": [
    "before_df=sample_df.copy()"
   ]
  },
  {
   "cell_type": "code",
   "execution_count": 1273,
   "id": "74714e56-cba7-4c5e-9418-59c86b750042",
   "metadata": {
    "scrolled": true
   },
   "outputs": [
    {
     "name": "stdout",
     "output_type": "stream",
     "text": [
      "Encoding completed and saved as separate pickle files.\n"
     ]
    }
   ],
   "source": [
    "import pandas as pd\n",
    "from sklearn.preprocessing import LabelEncoder\n",
    "import pickle\n",
    "\n",
    "\n",
    "# Identify categorical columns\n",
    "cat_cols = sample_df.select_dtypes(include='object').columns.tolist()\n",
    "\n",
    "# Function: One-Hot Encoding\n",
    "def get_one_hot_encoded_df(df, cols):\n",
    "    one_hot_df = pd.get_dummies(df[cols], drop_first=False, prefix=cols)\n",
    "    return one_hot_df\n",
    "\n",
    "def encode_transmission_binary(df):\n",
    "    le = LabelEncoder()\n",
    "    \n",
    "    # Ensure column is treated as category with 2 values\n",
    "    unique_vals = df['transmission'].dropna().unique()\n",
    "    if len(unique_vals) == 2:\n",
    "        le.fit(sorted(unique_vals))  # Optional: sort ensures 'Automatic' = 0, 'Manual' = 1 (or vice versa)\n",
    "        df['transmission_encoded'] = le.transform(df['transmission'])\n",
    "        return df[['transmission', 'transmission_encoded']]\n",
    "    else:\n",
    "        raise ValueError(\"Column 'transmission' must contain exactly 2 unique values for binary encoding.\")\n",
    "\n",
    "# Function: Target Encoding (based on target column)\n",
    "#def get_target_encoded_df(df, cols, target):\n",
    "   # target_df = pd.DataFrame()\n",
    "   # for col in cols:\n",
    "   #     encoding_map = df.groupby(col)[target].mean()\n",
    "    #    target_df[col + '_target'] = df[col].map(encoding_map)\n",
    "   # return target_df\n",
    "\n",
    "def get_target_encoded_df_and_map(df, cols, target):\n",
    "    encoding_map = {}\n",
    "    encoded_df = pd.DataFrame()\n",
    "\n",
    "    for col in cols:\n",
    "        mapping = df.groupby(col)[target].mean().to_dict()\n",
    "        encoding_map[col] = mapping\n",
    "        encoded_df[col + '_target'] = df[col].map(mapping)\n",
    "\n",
    "    return encoded_df, encoding_map\n",
    "\n",
    "# ---------- Choose columns by strategy ----------\n",
    "# Target column assumed to be 'price'\n",
    "target_col = 'price_in_lakhs'\n",
    "\n",
    "# One-Hot Encoding: nominal categories\n",
    "one_hot_cols = ['ft', 'bt', 'City']\n",
    "one_hot_encoded = get_one_hot_encoded_df(sample_df, one_hot_cols)\n",
    "\n",
    "# Label Encoding: binary category\n",
    "label_encoded = encode_transmission_binary(sample_df)\n",
    "\n",
    "# Target Encoding: high-cardinality categories\n",
    "target_cols = ['oem']\n",
    "\n",
    "# Apply target encoding\n",
    "target_encoded_df, target_encoding_map = get_target_encoded_df_and_map(sample_df, target_cols, target_col)\n",
    "\n",
    "# ---------- Save each to pickle ----------\n",
    "with open(\"one_hot_encoded.pkl\", \"wb\") as f:\n",
    "    pickle.dump(one_hot_encoded, f)\n",
    "\n",
    "with open(\"label_encoded.pkl\", \"wb\") as f:\n",
    "    pickle.dump(label_encoded, f)\n",
    "\n",
    "with open(\"target_encoding_map.pkl\", \"wb\") as f:\n",
    "    pickle.dump(target_encoding_map, f)\n",
    "\n",
    "print(\"Encoding completed and saved as separate pickle files.\")"
   ]
  },
  {
   "cell_type": "code",
   "execution_count": 1279,
   "id": "f5c03c0e-9213-4bd9-b3e9-2c49f7efe5e7",
   "metadata": {},
   "outputs": [],
   "source": [
    " #Select numerical columns\n",
    "numerical_cols = sample_df.select_dtypes(include=['int64', 'int32']).copy()"
   ]
  },
  {
   "cell_type": "code",
   "execution_count": 1281,
   "id": "8b9101ce-6ff0-4a52-87a4-80f04464b4b9",
   "metadata": {},
   "outputs": [],
   "source": [
    "# 3. Concatenate all\n",
    "final_df = pd.concat([numerical_cols, one_hot_encoded, label_encoded, target_encoded_df], axis=1)"
   ]
  },
  {
   "cell_type": "code",
   "execution_count": 1285,
   "id": "a8f2079a-e7dd-4f1f-9a06-a6bea72f3fb9",
   "metadata": {},
   "outputs": [],
   "source": [
    "final_df.drop('transmission',axis=1,inplace=True)"
   ]
  },
  {
   "cell_type": "code",
   "execution_count": 1289,
   "id": "693c21b5-71de-4c42-a270-8ed22023efbb",
   "metadata": {},
   "outputs": [],
   "source": [
    "# Remove duplicate column names, keep the first occurrence\n",
    "final_df = final_df.loc[:, ~final_df.columns.duplicated()]"
   ]
  },
  {
   "cell_type": "code",
   "execution_count": 1291,
   "id": "7658174f-7a11-4367-8584-a36f02261d11",
   "metadata": {},
   "outputs": [
    {
     "name": "stdout",
     "output_type": "stream",
     "text": [
      "<class 'pandas.core.frame.DataFrame'>\n",
      "Index: 8359 entries, 0 to 8368\n",
      "Data columns (total 37 columns):\n",
      " #   Column                Non-Null Count  Dtype  \n",
      "---  ------                --------------  -----  \n",
      " 0   owner                 8359 non-null   int64  \n",
      " 1   modelYear             8359 non-null   int64  \n",
      " 2   centralVariantId      8359 non-null   int64  \n",
      " 3   registration_year     8359 non-null   int64  \n",
      " 4   kms_driven            8359 non-null   int32  \n",
      " 5   Features              8359 non-null   int64  \n",
      " 6   Interior              8359 non-null   int64  \n",
      " 7   Exterior              8359 non-null   int64  \n",
      " 8   Safety                8359 non-null   int64  \n",
      " 9   mileage               8359 non-null   int64  \n",
      " 10  engine                8359 non-null   int32  \n",
      " 11  seats.1               8359 non-null   int64  \n",
      " 12  no_door_numbers       8359 non-null   int64  \n",
      " 13  price_in_lakhs        8359 non-null   int64  \n",
      " 14  transmission_encoded  8359 non-null   int32  \n",
      " 15  ft_Cng                8359 non-null   bool   \n",
      " 16  ft_Diesel             8359 non-null   bool   \n",
      " 17  ft_Electric           8359 non-null   bool   \n",
      " 18  ft_Lpg                8359 non-null   bool   \n",
      " 19  ft_Petrol             8359 non-null   bool   \n",
      " 20  bt_Convertibles       8359 non-null   bool   \n",
      " 21  bt_Coupe              8359 non-null   bool   \n",
      " 22  bt_Hatchback          8359 non-null   bool   \n",
      " 23  bt_Hybrids            8359 non-null   bool   \n",
      " 24  bt_MUV                8359 non-null   bool   \n",
      " 25  bt_Minivans           8359 non-null   bool   \n",
      " 26  bt_Pickup Trucks      8359 non-null   bool   \n",
      " 27  bt_SUV                8359 non-null   bool   \n",
      " 28  bt_Sedan              8359 non-null   bool   \n",
      " 29  bt_Wagon              8359 non-null   bool   \n",
      " 30  City_Bangalore        8359 non-null   bool   \n",
      " 31  City_Chennai          8359 non-null   bool   \n",
      " 32  City_Delhi            8359 non-null   bool   \n",
      " 33  City_Hyderabad        8359 non-null   bool   \n",
      " 34  City_Jaipur           8359 non-null   bool   \n",
      " 35  City_Kolkata          8359 non-null   bool   \n",
      " 36  oem_target            8359 non-null   float64\n",
      "dtypes: bool(21), float64(1), int32(3), int64(12)\n",
      "memory usage: 1.4 MB\n"
     ]
    }
   ],
   "source": [
    "final_df.info()"
   ]
  },
  {
   "cell_type": "code",
   "execution_count": 1293,
   "id": "f12f9b05-1ff4-4db1-a617-4c9f6fbcf239",
   "metadata": {},
   "outputs": [
    {
     "data": {
      "image/png": "[encoded data removed]",
      "text/plain": [
       "<Figure size 1000x800 with 2 Axes>"
      ]
     },
     "metadata": {},
     "output_type": "display_data"
    },
    {
     "name": "stdout",
     "output_type": "stream",
     "text": [
      "\n",
      "Correlation with target variable (price):\n",
      "price_in_lakhs          1.000000\n",
      "oem_target              0.656409\n",
      "engine                  0.536610\n",
      "Safety                  0.496813\n",
      "Exterior                0.448080\n",
      "Interior                0.445511\n",
      "modelYear               0.300572\n",
      "registration_year       0.300153\n",
      "centralVariantId        0.183122\n",
      "Features                0.102604\n",
      "seats.1                 0.084447\n",
      "no_door_numbers        -0.039713\n",
      "kms_driven             -0.075745\n",
      "owner                  -0.120082\n",
      "mileage                -0.261280\n",
      "transmission_encoded   -0.422590\n",
      "Name: price_in_lakhs, dtype: float64\n",
      "\n",
      "Selected Numeric Columns after Correlation Threshold:\n",
      "['owner', 'modelYear', 'centralVariantId', 'kms_driven', 'Features', 'Interior', 'Exterior', 'Safety', 'mileage', 'engine', 'seats.1', 'no_door_numbers', 'price_in_lakhs', 'transmission_encoded', 'oem_target']\n",
      "\n",
      "Final DataFrame with Selected Numeric Columns:\n",
      "   owner  modelYear  centralVariantId  kms_driven  Features  Interior  \\\n",
      "0      3       2015              3979      120000         8         7   \n",
      "1      2       2018              6087       32706         9        12   \n",
      "2      1       2018              2983       11949         9        12   \n",
      "3      1       2014              1867       17794         9        10   \n",
      "4      1       2015              4277       60000         9        11   \n",
      "\n",
      "   Exterior  Safety  mileage  engine  seats.1  no_door_numbers  \\\n",
      "0         5      13       23     998        5                5   \n",
      "1        12      27       17    1497        5                4   \n",
      "2        13      24       23    1199        5                5   \n",
      "3        10      18       19    1197        5                4   \n",
      "4        13      22       23    1248        5                5   \n",
      "\n",
      "   price_in_lakhs  transmission_encoded     oem_target  \n",
      "0          400000                     1  505554.953271  \n",
      "1          811000                     1  726799.958065  \n",
      "2          585000                     1  772916.095128  \n",
      "3          462000                     1  606278.733333  \n",
      "4          790000                     1  505554.953271  \n"
     ]
    }
   ],
   "source": [
    "# Assuming df_car_detail is your DataFrame and 'price' is the target variable\n",
    "\n",
    "# 1. Filter numeric columns\n",
    "numeric_columns = final_df.select_dtypes(include=['int64', 'float64', 'int32', 'float32', 'Int64']).columns\n",
    "\n",
    "# 2. Calculate the correlation matrix\n",
    "correlation_matrix = final_df[numeric_columns].corr()\n",
    "\n",
    "# 3. Plot the correlation matrix (Optional - useful for visualizing correlations)\n",
    "import seaborn as sns\n",
    "import matplotlib.pyplot as plt\n",
    "\n",
    "plt.figure(figsize=(10, 8))\n",
    "sns.heatmap(correlation_matrix, annot=True, fmt='.2f', cmap='coolwarm', cbar=True)\n",
    "plt.title(\"Correlation Matrix\")\n",
    "plt.show()\n",
    "\n",
    "# 4. Get correlation with target variable (e.g., 'price')\n",
    "correlation_with_target = correlation_matrix['price_in_lakhs'].sort_values(ascending=False)\n",
    "\n",
    "print(\"\\nCorrelation with target variable (price):\")\n",
    "print(correlation_with_target)\n",
    "\n",
    "# 5. Remove highly correlated features (threshold can be adjusted)\n",
    "threshold = 0.8\n",
    "correlated_features = set()\n",
    "for i in range(len(correlation_matrix.columns)):\n",
    "    for j in range(i):\n",
    "        if abs(correlation_matrix.iloc[i, j]) > threshold:\n",
    "            colname = correlation_matrix.columns[i]\n",
    "            correlated_features.add(colname)\n",
    "\n",
    "# Drop correlated features\n",
    "selected_numeric_columns = [col for col in numeric_columns if col not in correlated_features]\n",
    "\n",
    "print(\"\\nSelected Numeric Columns after Correlation Threshold:\")\n",
    "print(selected_numeric_columns)\n",
    "\n",
    "# 6. Create the final dataset with selected features\n",
    "selected_numeric_df = final_df[selected_numeric_columns]\n",
    "\n",
    "print(\"\\nFinal DataFrame with Selected Numeric Columns:\")\n",
    "print(selected_numeric_df.head())"
   ]
  },
  {
   "cell_type": "code",
   "execution_count": 1295,
   "id": "1f3be314-4c59-4706-a290-9fcb687a91ed",
   "metadata": {},
   "outputs": [
    {
     "name": "stderr",
     "output_type": "stream",
     "text": [
      "C:\\Users\\babuk\\AppData\\Local\\Temp\\ipykernel_6076\\1046686474.py:1: SettingWithCopyWarning: \n",
      "A value is trying to be set on a copy of a slice from a DataFrame\n",
      "\n",
      "See the caveats in the documentation: https://pandas.pydata.org/pandas-docs/stable/user_guide/indexing.html#returning-a-view-versus-a-copy\n",
      "  selected_numeric_df.drop('Safety',axis=1,inplace=True)\n",
      "C:\\Users\\babuk\\AppData\\Local\\Temp\\ipykernel_6076\\1046686474.py:2: SettingWithCopyWarning: \n",
      "A value is trying to be set on a copy of a slice from a DataFrame\n",
      "\n",
      "See the caveats in the documentation: https://pandas.pydata.org/pandas-docs/stable/user_guide/indexing.html#returning-a-view-versus-a-copy\n",
      "  selected_numeric_df.drop('no_door_numbers',axis=1,inplace=True)\n"
     ]
    }
   ],
   "source": [
    "selected_numeric_df.drop('Safety',axis=1,inplace=True)\n",
    "selected_numeric_df.drop('no_door_numbers',axis=1,inplace=True)"
   ]
  },
  {
   "cell_type": "code",
   "execution_count": 1297,
   "id": "5a3b397a-c998-4cd7-b29d-a268833b43ca",
   "metadata": {},
   "outputs": [
    {
     "data": {
      "text/plain": [
       "array([1, 0])"
      ]
     },
     "execution_count": 1297,
     "metadata": {},
     "output_type": "execute_result"
    }
   ],
   "source": [
    "final_df['transmission_encoded'].unique()"
   ]
  },
  {
   "cell_type": "code",
   "execution_count": 1299,
   "id": "58d1ec78-82a9-4337-90ef-680df79598d2",
   "metadata": {},
   "outputs": [
    {
     "data": {
      "text/plain": [
       "array([ 505554.95327103,  726799.95806452,  772916.09512761,\n",
       "        606278.73333333, 1925178.52678571,  347810.75675676,\n",
       "        624361.62080925,  976169.70557029, 4256302.02857143,\n",
       "       3494733.67934783,  536105.69871795, 2373935.81410256,\n",
       "       1393570.94444444, 3004166.66666667, 1447879.67088608,\n",
       "        989844.68322981,  703010.13265306, 3188731.68292683,\n",
       "       1963866.6       ,  579320.43589744,  290967.67741935,\n",
       "        950000.        ,  592285.71428571, 3280142.85714286,\n",
       "       5677931.79545455,  253855.18421053, 1951250.        ,\n",
       "         73333.33333333,  121600.        , 1463799.8       ,\n",
       "       6741666.66666667, 6835000.        ,  297500.        ])"
      ]
     },
     "execution_count": 1299,
     "metadata": {},
     "output_type": "execute_result"
    }
   ],
   "source": [
    "final_df['oem_target'].unique()"
   ]
  },
  {
   "cell_type": "code",
   "execution_count": 1301,
   "id": "ecc56f59-3a39-4b29-a632-c35c356fb660",
   "metadata": {},
   "outputs": [
    {
     "name": "stdout",
     "output_type": "stream",
     "text": [
      "Feature Importance Scores:\n",
      "Feature: owner, Importance Score: 0.0021\n",
      "Feature: modelYear, Importance Score: 0.1668\n",
      "Feature: centralVariantId, Importance Score: 0.0394\n",
      "Feature: kms_driven, Importance Score: 0.0367\n",
      "Feature: Features, Importance Score: 0.0032\n",
      "Feature: Interior, Importance Score: 0.0248\n",
      "Feature: Exterior, Importance Score: 0.0700\n",
      "Feature: mileage, Importance Score: 0.0302\n",
      "Feature: engine, Importance Score: 0.2441\n",
      "Feature: seats.1, Importance Score: 0.0063\n",
      "Feature: transmission_encoded, Importance Score: 0.0020\n",
      "Feature: oem_target, Importance Score: 0.3744\n",
      "\n",
      "Top 25 Features based on importance scores:\n",
      "oem_target              0.374403\n",
      "engine                  0.244150\n",
      "modelYear               0.166788\n",
      "Exterior                0.069950\n",
      "centralVariantId        0.039415\n",
      "kms_driven              0.036683\n",
      "mileage                 0.030222\n",
      "Interior                0.024829\n",
      "seats.1                 0.006304\n",
      "Features                0.003195\n",
      "owner                   0.002076\n",
      "transmission_encoded    0.001985\n",
      "dtype: float64\n",
      "\n",
      "Shape of Transformed DataFrame with Top 25 Features: (8359, 12)\n",
      "\n",
      "Transformed DataFrame with Top 25 Features (First 5 Rows):\n",
      "      oem_target  engine  modelYear  Exterior  centralVariantId  kms_driven  \\\n",
      "0  505554.953271     998       2015         5              3979      120000   \n",
      "1  726799.958065    1497       2018        12              6087       32706   \n",
      "2  772916.095128    1199       2018        13              2983       11949   \n",
      "3  606278.733333    1197       2014        10              1867       17794   \n",
      "4  505554.953271    1248       2015        13              4277       60000   \n",
      "\n",
      "   mileage  Interior  seats.1  Features  owner  transmission_encoded  \n",
      "0       23         7        5         8      3                     1  \n",
      "1       17        12        5         9      2                     1  \n",
      "2       23        12        5         9      1                     1  \n",
      "3       19        10        5         9      1                     1  \n",
      "4       23        11        5         9      1                     1  \n"
     ]
    }
   ],
   "source": [
    "from sklearn.ensemble import RandomForestRegressor\n",
    "import pandas as pd\n",
    "\n",
    "# Assuming combined_df contains both numeric and boolean features, and price is the target column\n",
    "\n",
    "# 1. Filter numeric and boolean columns in combined_df (excluding 'price')\n",
    "numeric_columns = selected_numeric_df.select_dtypes(include=['int64', 'float64', 'int32', 'Int64']).columns\n",
    "#boolean_columns = combined_df.select_dtypes(include=['bool']).columns\n",
    "\n",
    "# Combine numeric and boolean columns (excluding 'price')\n",
    "all_columns = list(numeric_columns)\n",
    "all_columns = [col for col in all_columns if col != 'price_in_lakhs']  # Exclude 'price' from features\n",
    "\n",
    "# Define features (X) and target (y)\n",
    "X = final_df[all_columns]  # Features excluding 'price'\n",
    "y = final_df['price_in_lakhs']  # Target column is 'price'\n",
    "\n",
    "# 2. Fit Random Forest Regressor to identify feature importance\n",
    "model = RandomForestRegressor(random_state=42)\n",
    "model.fit(X, y)\n",
    "\n",
    "# 3. Get feature importance for all columns\n",
    "feature_importance = pd.Series(model.feature_importances_, index=X.columns)\n",
    "\n",
    "# Print feature importance scores\n",
    "print(\"Feature Importance Scores:\")\n",
    "for column, importance in feature_importance.items():\n",
    "    print(f\"Feature: {column}, Importance Score: {importance:.4f}\")\n",
    "\n",
    "# 4. Select the top 25 features based on feature importance\n",
    "top_25_features = feature_importance.nlargest(25)\n",
    "print(\"\\nTop 25 Features based on importance scores:\")\n",
    "print(top_25_features)\n",
    "\n",
    "# 5. Create a DataFrame with only the top 25 selected features\n",
    "top_25_features_df = final_df[top_25_features.index]\n",
    "\n",
    "# Print the shape and first 5 rows of the final transformed DataFrame\n",
    "print(\"\\nShape of Transformed DataFrame with Top 25 Features:\", top_25_features_df.shape)\n",
    "print(\"\\nTransformed DataFrame with Top 25 Features (First 5 Rows):\")\n",
    "print(top_25_features_df.head())"
   ]
  },
  {
   "cell_type": "code",
   "execution_count": 1303,
   "id": "05ccd503-b4f6-41f9-845b-789734fa47bb",
   "metadata": {},
   "outputs": [],
   "source": [
    "# Get all numeric columns\n",
    "numeric_cols = final_df.select_dtypes(include=['int64', 'float64','int32']).columns.tolist()\n",
    "\n",
    "# Remove 'price' from that list so we can keep it\n",
    "numeric_cols.remove('price_in_lakhs')\n",
    "\n",
    "# Drop the remaining numeric columns from final_df\n",
    "final_df_no_numerical = final_df.drop(columns=numeric_cols)"
   ]
  },
  {
   "cell_type": "code",
   "execution_count": 1305,
   "id": "5612157f-42cc-4194-b724-92fed0d875d3",
   "metadata": {},
   "outputs": [
    {
     "name": "stdout",
     "output_type": "stream",
     "text": [
      "<class 'pandas.core.frame.DataFrame'>\n",
      "Index: 8359 entries, 0 to 8368\n",
      "Data columns (total 22 columns):\n",
      " #   Column            Non-Null Count  Dtype\n",
      "---  ------            --------------  -----\n",
      " 0   price_in_lakhs    8359 non-null   int64\n",
      " 1   ft_Cng            8359 non-null   bool \n",
      " 2   ft_Diesel         8359 non-null   bool \n",
      " 3   ft_Electric       8359 non-null   bool \n",
      " 4   ft_Lpg            8359 non-null   bool \n",
      " 5   ft_Petrol         8359 non-null   bool \n",
      " 6   bt_Convertibles   8359 non-null   bool \n",
      " 7   bt_Coupe          8359 non-null   bool \n",
      " 8   bt_Hatchback      8359 non-null   bool \n",
      " 9   bt_Hybrids        8359 non-null   bool \n",
      " 10  bt_MUV            8359 non-null   bool \n",
      " 11  bt_Minivans       8359 non-null   bool \n",
      " 12  bt_Pickup Trucks  8359 non-null   bool \n",
      " 13  bt_SUV            8359 non-null   bool \n",
      " 14  bt_Sedan          8359 non-null   bool \n",
      " 15  bt_Wagon          8359 non-null   bool \n",
      " 16  City_Bangalore    8359 non-null   bool \n",
      " 17  City_Chennai      8359 non-null   bool \n",
      " 18  City_Delhi        8359 non-null   bool \n",
      " 19  City_Hyderabad    8359 non-null   bool \n",
      " 20  City_Jaipur       8359 non-null   bool \n",
      " 21  City_Kolkata      8359 non-null   bool \n",
      "dtypes: bool(21), int64(1)\n",
      "memory usage: 560.1 KB\n"
     ]
    }
   ],
   "source": [
    "final_df_no_numerical.info()"
   ]
  },
  {
   "cell_type": "code",
   "execution_count": 1307,
   "id": "689bb7c7-f904-461c-bad6-bf3ec446f6c7",
   "metadata": {},
   "outputs": [],
   "source": [
    "# 3. Combine the selected numeric DataFrame (selected_numeric_df) with the boolean columns\n",
    "features_df = pd.concat([top_25_features_df, final_df_no_numerical], axis=1)"
   ]
  },
  {
   "cell_type": "code",
   "execution_count": 1309,
   "id": "fe7054c7-6aee-41a8-a0d5-ad0215462def",
   "metadata": {},
   "outputs": [
    {
     "name": "stdout",
     "output_type": "stream",
     "text": [
      "<class 'pandas.core.frame.DataFrame'>\n",
      "Index: 8359 entries, 0 to 8368\n",
      "Data columns (total 34 columns):\n",
      " #   Column                Non-Null Count  Dtype  \n",
      "---  ------                --------------  -----  \n",
      " 0   oem_target            8359 non-null   float64\n",
      " 1   engine                8359 non-null   int32  \n",
      " 2   modelYear             8359 non-null   int64  \n",
      " 3   Exterior              8359 non-null   int64  \n",
      " 4   centralVariantId      8359 non-null   int64  \n",
      " 5   kms_driven            8359 non-null   int32  \n",
      " 6   mileage               8359 non-null   int64  \n",
      " 7   Interior              8359 non-null   int64  \n",
      " 8   seats.1               8359 non-null   int64  \n",
      " 9   Features              8359 non-null   int64  \n",
      " 10  owner                 8359 non-null   int64  \n",
      " 11  transmission_encoded  8359 non-null   int32  \n",
      " 12  price_in_lakhs        8359 non-null   int64  \n",
      " 13  ft_Cng                8359 non-null   bool   \n",
      " 14  ft_Diesel             8359 non-null   bool   \n",
      " 15  ft_Electric           8359 non-null   bool   \n",
      " 16  ft_Lpg                8359 non-null   bool   \n",
      " 17  ft_Petrol             8359 non-null   bool   \n",
      " 18  bt_Convertibles       8359 non-null   bool   \n",
      " 19  bt_Coupe              8359 non-null   bool   \n",
      " 20  bt_Hatchback          8359 non-null   bool   \n",
      " 21  bt_Hybrids            8359 non-null   bool   \n",
      " 22  bt_MUV                8359 non-null   bool   \n",
      " 23  bt_Minivans           8359 non-null   bool   \n",
      " 24  bt_Pickup Trucks      8359 non-null   bool   \n",
      " 25  bt_SUV                8359 non-null   bool   \n",
      " 26  bt_Sedan              8359 non-null   bool   \n",
      " 27  bt_Wagon              8359 non-null   bool   \n",
      " 28  City_Bangalore        8359 non-null   bool   \n",
      " 29  City_Chennai          8359 non-null   bool   \n",
      " 30  City_Delhi            8359 non-null   bool   \n",
      " 31  City_Hyderabad        8359 non-null   bool   \n",
      " 32  City_Jaipur           8359 non-null   bool   \n",
      " 33  City_Kolkata          8359 non-null   bool   \n",
      "dtypes: bool(21), float64(1), int32(3), int64(9)\n",
      "memory usage: 1.2 MB\n"
     ]
    }
   ],
   "source": [
    "features_df.info()"
   ]
  },
  {
   "cell_type": "code",
   "execution_count": 1311,
   "id": "3c294028-0c56-42ee-9cf4-dbfb4c87ff67",
   "metadata": {},
   "outputs": [
    {
     "name": "stdout",
     "output_type": "stream",
     "text": [
      "   modelYear  car_age\n",
      "0       2015       10\n",
      "1       2018        7\n",
      "2       2018        7\n",
      "3       2014       11\n",
      "4       2015       10\n"
     ]
    }
   ],
   "source": [
    "from datetime import datetime\n",
    "\n",
    "# Assuming your DataFrame is df_car_detail and it has a column 'modelYear' or 'registration_year'\n",
    "\n",
    "# Get the current year\n",
    "current_year = datetime.now().year\n",
    "\n",
    "# If 'modelYear' is available, calculate the car age using 'modelYear'\n",
    "# df_car_detail['car_age'] = current_year - df_car_detail['modelYear']\n",
    "\n",
    "# Alternatively, use 'registration_year' if it's available\n",
    "features_df['car_age'] = current_year - features_df['modelYear']\n",
    "\n",
    "# Check if the 'car_age' column is added\n",
    "print(features_df[['modelYear', 'car_age']].head())"
   ]
  },
  {
   "cell_type": "code",
   "execution_count": 1313,
   "id": "d8497678-f45d-428b-9a35-3865b513c120",
   "metadata": {},
   "outputs": [
    {
     "data": {
      "text/plain": [
       "array([10,  7, 11,  5,  8,  4,  6,  3,  9, 14, 16, 12, 15, 17, 19, 13, 20,\n",
       "       18,  2, 30, 21, 22, 27, 24, 23, 26, 40], dtype=int64)"
      ]
     },
     "execution_count": 1313,
     "metadata": {},
     "output_type": "execute_result"
    }
   ],
   "source": [
    "features_df['car_age'].unique()"
   ]
  },
  {
   "cell_type": "code",
   "execution_count": 1323,
   "id": "ca1b5eec-5e91-4dbc-8b56-71f5d2b8f81f",
   "metadata": {},
   "outputs": [
    {
     "name": "stdout",
     "output_type": "stream",
     "text": [
      "XGBoost Performance on Test Set:\n",
      "MAE: 149473.0681\n",
      "MSE: 519105426137.9897\n",
      "R²: 0.7291\n"
     ]
    }
   ],
   "source": [
    "from sklearn.model_selection import train_test_split\n",
    "from xgboost import XGBRegressor\n",
    "from sklearn.metrics import mean_absolute_error, mean_squared_error, r2_score\n",
    "import numpy as np\n",
    "\n",
    "# Step 1: Load Features and Target\n",
    "X = features_df.drop(columns=['price_in_lakhs'])\n",
    "y = features_df['price_in_lakhs']\n",
    "\n",
    "# Step 2: Train-Test Split\n",
    "X_train, X_test, y_train, y_test = train_test_split(\n",
    "    X, y, test_size=0.2, random_state=42\n",
    ")\n",
    "\n",
    "# Step 3: Improved XGBoost Model\n",
    "xgb_model = XGBRegressor(\n",
    "    n_estimators=200,         # number of trees\n",
    "    learning_rate=0.05,       # lower = better learning, but may need more trees\n",
    "    max_depth=6,              # deeper = more complex model\n",
    "    subsample=0.8,            # sample ratio for training each tree (helps generalize)\n",
    "    colsample_bytree=0.8,     # sample ratio of features for each tree\n",
    "    reg_alpha=0.5,            # L1 regularization (sparsity)\n",
    "    reg_lambda=1.0,           # L2 regularization (shrinkage)\n",
    "    gamma=0.1,                # min loss reduction to split a node\n",
    "    random_state=40\n",
    ")\n",
    "\n",
    "# Step 4: Train the Model\n",
    "xgb_model.fit(X_train, y_train)\n",
    "\n",
    "# Step 5: Predictions & Evaluation\n",
    "y_pred = xgb_model.predict(X_test)\n",
    "\n",
    "mae = mean_absolute_error(y_test, y_pred)\n",
    "mse = mean_squared_error(y_test, y_pred)\n",
    "r2 = r2_score(y_test, y_pred)\n",
    "\n",
    "# Print Evaluation\n",
    "print(f\"XGBoost Performance on Test Set:\")\n",
    "print(f\"MAE: {mae:.4f}\")\n",
    "print(f\"MSE: {mse:.4f}\")\n",
    "print(f\"R²: {r2:.4f}\")"
   ]
  },
  {
   "cell_type": "code",
   "execution_count": 1317,
   "id": "ef7ee2b1-152f-44d9-b22b-407dda53e714",
   "metadata": {},
   "outputs": [
    {
     "name": "stdout",
     "output_type": "stream",
     "text": [
      "Fitting 3 folds for each of 25 candidates, totalling 75 fits\n",
      "Improved XGBoost+ Model:\n",
      "MAE: 132255.8434\n",
      "MSE: 478427190666.0196\n",
      "R²: 0.7503\n"
     ]
    }
   ],
   "source": [
    "from sklearn.model_selection import RandomizedSearchCV\n",
    "from xgboost import XGBRegressor\n",
    "from sklearn.metrics import mean_absolute_error, mean_squared_error, r2_score\n",
    "import numpy as np\n",
    "\n",
    "from sklearn.model_selection import RandomizedSearchCV\n",
    "from xgboost import XGBRegressor\n",
    "\n",
    "xgb = XGBRegressor(random_state=42)\n",
    "\n",
    "param_dist = {\n",
    "    \"n_estimators\": [100, 300, 500, 700],\n",
    "    \"learning_rate\": [0.01, 0.05, 0.1, 0.2],\n",
    "    \"max_depth\": [3, 5, 6, 8],\n",
    "    \"subsample\": [0.6, 0.8, 1.0],\n",
    "    \"colsample_bytree\": [0.6, 0.8, 1.0],\n",
    "    \"reg_alpha\": [0, 0.1, 0.5],\n",
    "    \"reg_lambda\": [0.5, 1.0, 2.0],\n",
    "    \"gamma\": [0, 0.1, 0.3]\n",
    "}\n",
    "\n",
    "random_search = RandomizedSearchCV(\n",
    "    xgb, param_distributions=param_dist,\n",
    "    scoring='neg_mean_absolute_error',\n",
    "    n_iter=25, cv=3, verbose=1, random_state=42, n_jobs=-1\n",
    ")\n",
    "\n",
    "random_search.fit(X_train, y_train)\n",
    "best_model = random_search.best_estimator_\n",
    "\n",
    "mae = mean_absolute_error(y_test, y_pred)\n",
    "mse = mean_squared_error(y_test, y_pred)\n",
    "r2 = r2_score(y_test, y_pred)\n",
    "\n",
    "print(f\"Improved XGBoost+ Model:\")\n",
    "print(f\"MAE: {mae:.4f}\")\n",
    "print(f\"MSE: {mse:.4f}\")\n",
    "print(f\"R²: {r2:.4f}\")"
   ]
  },
  {
   "cell_type": "code",
   "execution_count": 1319,
   "id": "007165ae-0273-428e-8f3b-5bfb77f68d2e",
   "metadata": {},
   "outputs": [
    {
     "name": "stdout",
     "output_type": "stream",
     "text": [
      "[LightGBM] [Warning] Found whitespace in feature_names, replace with underlines\n",
      "[LightGBM] [Info] Auto-choosing row-wise multi-threading, the overhead of testing was 0.001326 seconds.\n",
      "You can set `force_row_wise=true` to remove the overhead.\n",
      "And if memory is not enough, you can set `force_col_wise=true`.\n",
      "[LightGBM] [Info] Total Bins 831\n",
      "[LightGBM] [Info] Number of data points in the train set: 6687, number of used features: 27\n",
      "[LightGBM] [Warning] Found whitespace in feature_names, replace with underlines\n",
      "[LightGBM] [Info] Start training from score 949468.912517\n",
      "Training until validation scores don't improve for 100 rounds\n",
      "Did not meet early stopping. Best iteration is:\n",
      "[496]\tvalid_0's l2: 3.23479e+11\n",
      "LightGBM Performance on Test Set:\n",
      "MAE: 142777.5603\n",
      "MSE: 323478639126.1252\n",
      "R²: 0.8312\n"
     ]
    }
   ],
   "source": [
    "import lightgbm as lgb\n",
    "from lightgbm import early_stopping, log_evaluation\n",
    "\n",
    "# 🔹 Train LightGBM Model\n",
    "lgb_model = lgb.LGBMRegressor(\n",
    "    n_estimators=500,\n",
    "    learning_rate=0.05,\n",
    "    max_depth=-1,\n",
    "    num_leaves=31,\n",
    "    subsample=0.8,\n",
    "    colsample_bytree=0.8,\n",
    "    random_state=42\n",
    ")\n",
    "\n",
    "lgb_model.fit(\n",
    "    X_train, y_train,\n",
    "    eval_set=[(X_test, y_test)],\n",
    "    callbacks=[early_stopping(stopping_rounds=100), log_evaluation(0)]\n",
    ")\n",
    "\n",
    "# 🔹 Predict\n",
    "y_pred = lgb_model.predict(X_test)\n",
    "\n",
    "# 🔹 Evaluation\n",
    "mae = mean_absolute_error(y_test, y_pred)\n",
    "mse = mean_squared_error(y_test, y_pred)\n",
    "r2 = r2_score(y_test, y_pred)\n",
    "\n",
    "print(\"LightGBM Performance on Test Set:\")\n",
    "print(f\"MAE: {mae:.4f}\")\n",
    "print(f\"MSE: {mse:.4f}\")\n",
    "print(f\"R²: {r2:.4f}\")"
   ]
  },
  {
   "cell_type": "code",
   "execution_count": 939,
   "id": "c2eb4421-ae1f-4cac-b76c-6195f617b216",
   "metadata": {},
   "outputs": [
    {
     "name": "stderr",
     "output_type": "stream",
     "text": [
      "C:\\Users\\babuk\\anaconda3\\Lib\\site-packages\\sklearn\\linear_model\\_coordinate_descent.py:628: ConvergenceWarning: Objective did not converge. You might want to increase the number of iterations, check the scale of the features or consider increasing regularisation. Duality gap: 1.282e+15, tolerance: 7.658e+11\n",
      "  model = cd_fast.enet_coordinate_descent(\n",
      "C:\\Users\\babuk\\anaconda3\\Lib\\site-packages\\sklearn\\linear_model\\_coordinate_descent.py:628: ConvergenceWarning: Objective did not converge. You might want to increase the number of iterations, check the scale of the features or consider increasing regularisation. Duality gap: 1.104e+15, tolerance: 6.816e+11\n",
      "  model = cd_fast.enet_coordinate_descent(\n",
      "C:\\Users\\babuk\\anaconda3\\Lib\\site-packages\\sklearn\\linear_model\\_coordinate_descent.py:628: ConvergenceWarning: Objective did not converge. You might want to increase the number of iterations, check the scale of the features or consider increasing regularisation. Duality gap: 1.452e+15, tolerance: 7.940e+11\n",
      "  model = cd_fast.enet_coordinate_descent(\n",
      "C:\\Users\\babuk\\anaconda3\\Lib\\site-packages\\sklearn\\linear_model\\_coordinate_descent.py:628: ConvergenceWarning: Objective did not converge. You might want to increase the number of iterations, check the scale of the features or consider increasing regularisation. Duality gap: 1.369e+15, tolerance: 7.488e+11\n",
      "  model = cd_fast.enet_coordinate_descent(\n",
      "C:\\Users\\babuk\\anaconda3\\Lib\\site-packages\\sklearn\\linear_model\\_coordinate_descent.py:628: ConvergenceWarning: Objective did not converge. You might want to increase the number of iterations, check the scale of the features or consider increasing regularisation. Duality gap: 1.467e+15, tolerance: 8.118e+11\n",
      "  model = cd_fast.enet_coordinate_descent(\n"
     ]
    },
    {
     "name": "stdout",
     "output_type": "stream",
     "text": [
      "Linear Regression: Cross-validated MAE = 351019.3073\n",
      "Decision Tree: Cross-validated MAE = 199397.1267\n",
      "Random Forest: Cross-validated MAE = 140679.7209\n",
      "Lasso: Cross-validated MAE = 350943.3486\n",
      "Gradient Boosting: Cross-validated MAE = 172517.2878\n",
      "xgboost: Cross-validated MAE = 135646.7953\n"
     ]
    }
   ],
   "source": [
    "import xgboost as xgb\n",
    "from sklearn.model_selection import train_test_split, cross_val_score, GridSearchCV, RandomizedSearchCV\n",
    "from sklearn.linear_model import LinearRegression, Lasso, Ridge\n",
    "from sklearn.tree import DecisionTreeRegressor\n",
    "from sklearn.ensemble import RandomForestRegressor, GradientBoostingRegressor\n",
    "from sklearn.metrics import mean_absolute_error, mean_squared_error, r2_score\n",
    "from sklearn.preprocessing import StandardScaler\n",
    "import numpy as np\n",
    "\n",
    "# 2. **Model Selection** and Cross-Validation\n",
    "\n",
    "# Define the models to be used\n",
    "models = {\n",
    "    'Linear Regression': LinearRegression(),\n",
    "    'Decision Tree': DecisionTreeRegressor(random_state=42),\n",
    "    'Random Forest': RandomForestRegressor(n_estimators=50, random_state=42),\n",
    "    'Lasso': Lasso(),\n",
    "    'Gradient Boosting': GradientBoostingRegressor(random_state=42),\n",
    "    'xgboost': xgb.XGBRegressor(random_state=42),\n",
    "}\n",
    "\n",
    "# Initialize KFold cross-validation with 5 folds\n",
    "from sklearn.model_selection import KFold\n",
    "kf = KFold(n_splits=5, shuffle=True, random_state=42)\n",
    "\n",
    "# Train and evaluate models using cross-validation\n",
    "cv_results = {}\n",
    "for model_name, model in models.items():\n",
    "    # Perform cross-validation and store the results\n",
    "    cv_score = cross_val_score(model, X_train, y_train, cv=kf, scoring='neg_mean_absolute_error')\n",
    "    cv_results[model_name] = -np.mean(cv_score)  # Negate to show positive MAE value\n",
    "\n",
    "# Print cross-validation results (Mean Absolute Error)\n",
    "for model_name, score in cv_results.items():\n",
    "    print(f\"{model_name}: Cross-validated MAE = {score:.4f}\")"
   ]
  },
  {
   "cell_type": "code",
   "execution_count": 935,
   "id": "3ce8a0e3-160c-42af-a4df-59f9a10a2fd8",
   "metadata": {},
   "outputs": [
    {
     "name": "stdout",
     "output_type": "stream",
     "text": [
      "\n",
      "Random Forest Performance on Test Set:\n",
      "MAE: 146854.0317\n",
      "MSE: 531609604759.1320\n",
      "R²: 0.7226\n",
      "\n",
      "Gradient Boosting Performance on Test Set:\n",
      "MAE: 137025.1036\n",
      "MSE: 550705742289.1649\n",
      "R²: 0.7126\n",
      "\n",
      "XGBoost Performance on Test Set:\n",
      "MAE: 162050.6122\n",
      "MSE: 468062256227.9804\n",
      "R²: 0.7557\n",
      "\n",
      "Decision Tree Performance on Test Set:\n",
      "MAE: 198992.4875\n",
      "MSE: 533894313147.6287\n",
      "R²: 0.7214\n"
     ]
    }
   ],
   "source": [
    "from sklearn.metrics import mean_absolute_error, mean_squared_error, r2_score\n",
    "from sklearn.ensemble import RandomForestRegressor, GradientBoostingRegressor\n",
    "from sklearn.linear_model import Lasso\n",
    "from sklearn.model_selection import GridSearchCV\n",
    "\n",
    "# 1. **Random Forest Hyperparameter Tuning with GridSearchCV**\n",
    "param_grid_rf = {\n",
    "    'n_estimators': [50, 100, 200],\n",
    "    'max_depth': [None, 10, 20, 30],\n",
    "    'min_samples_split': [2, 5, 10]\n",
    "}\n",
    "\n",
    "grid_search_rf = GridSearchCV(estimator=RandomForestRegressor(random_state=42),\n",
    "                              param_grid=param_grid_rf, cv=5, n_jobs=-1, scoring='neg_mean_squared_error')\n",
    "grid_search_rf.fit(X_train, y_train)\n",
    "\n",
    "# 2. **Gradient Boosting Hyperparameter Tuning with GridSearchCV**\n",
    "param_grid_gb = {\n",
    "    'n_estimators': [50, 100, 200],\n",
    "    'learning_rate': [0.01, 0.1, 0.2],\n",
    "    'max_depth': [3, 5, 10]\n",
    "}\n",
    "\n",
    "grid_search_gb = GridSearchCV(estimator=GradientBoostingRegressor(random_state=42),\n",
    "                              param_grid=param_grid_gb, cv=5, n_jobs=-1, scoring='neg_mean_squared_error')\n",
    "grid_search_gb.fit(X_train, y_train)\n",
    "\n",
    "# 3. **XGBoost Hyperparameter Tuning with GridSearchCV**\n",
    "param_grid_xgb = {\n",
    "    'n_estimators': [50, 100, 200],\n",
    "    'learning_rate': [0.01, 0.1, 0.2],\n",
    "    'max_depth': [3, 5, 10],\n",
    "    'subsample': [0.8, 1.0],\n",
    "    'colsample_bytree': [0.8, 1.0]\n",
    "}\n",
    "\n",
    "grid_search_xgb = GridSearchCV(estimator=xgb.XGBRegressor(random_state=42),\n",
    "                               param_grid=param_grid_xgb, cv=5, n_jobs=-1, scoring='neg_mean_squared_error')\n",
    "grid_search_xgb.fit(X_train, y_train)\n",
    "\n",
    "# 4. **Decision Tree Hyperparameter Tuning with GridSearchCV**\n",
    "param_grid_dt = {\n",
    "    'max_depth': [None, 10, 20, 30],\n",
    "    'min_samples_split': [2, 5, 10]\n",
    "}\n",
    "\n",
    "grid_search_dt = GridSearchCV(estimator=DecisionTreeRegressor(random_state=42),\n",
    "                              param_grid=param_grid_dt, cv=5, n_jobs=-1, scoring='neg_mean_squared_error')\n",
    "grid_search_dt.fit(X_train, y_train)\n",
    "\n",
    "# Now, let's define a function to evaluate all models on the test set\n",
    "\n",
    "def evaluate_model(model, X_test, y_test):\n",
    "    y_pred = model.predict(X_test)\n",
    "    mae = mean_absolute_error(y_test, y_pred)\n",
    "    mse = mean_squared_error(y_test, y_pred)\n",
    "    r2 = r2_score(y_test, y_pred)\n",
    "    \n",
    "    print(f\"MAE: {mae:.4f}\")\n",
    "    print(f\"MSE: {mse:.4f}\")\n",
    "    print(f\"R²: {r2:.4f}\")\n",
    "\n",
    "# 5. **Evaluating Best Models**\n",
    "print(\"\\nRandom Forest Performance on Test Set:\")\n",
    "evaluate_model(grid_search_rf.best_estimator_, X_test, y_test)\n",
    "\n",
    "print(\"\\nGradient Boosting Performance on Test Set:\")\n",
    "evaluate_model(grid_search_gb.best_estimator_, X_test, y_test)\n",
    "\n",
    "print(\"\\nXGBoost Performance on Test Set:\")\n",
    "evaluate_model(grid_search_xgb.best_estimator_, X_test, y_test)\n",
    "\n",
    "print(\"\\nDecision Tree Performance on Test Set:\")\n",
    "evaluate_model(grid_search_dt.best_estimator_, X_test, y_test)"
   ]
  },
  {
   "cell_type": "code",
   "execution_count": 393,
   "id": "3e2fa18c-e136-4320-bf45-96a8db761b65",
   "metadata": {},
   "outputs": [
    {
     "data": {
      "image/png": "[encoded data removed]",
      "text/plain": [
       "<Figure size 640x480 with 1 Axes>"
      ]
     },
     "metadata": {},
     "output_type": "display_data"
    }
   ],
   "source": [
    "import matplotlib.pyplot as plt\n",
    "import seaborn as sns\n",
    "\n",
    "# Scatter plot for price vs. mileage\n",
    "sns.scatterplot(data=df_reverted, x='mileage', y='price')\n",
    "plt.title('Price vs Mileage')\n",
    "plt.show()"
   ]
  },
  {
   "cell_type": "code",
   "execution_count": 401,
   "id": "79eb1b6a-8e96-4ccc-8ee1-d7a035f6cdbf",
   "metadata": {},
   "outputs": [
    {
     "data": {
      "image/png": "[encoded data removed]",
      "text/plain": [
       "<Figure size 640x480 with 1 Axes>"
      ]
     },
     "metadata": {},
     "output_type": "display_data"
    }
   ],
   "source": [
    "# Scatter plot for price vs. modelYear\n",
    "sns.scatterplot(data=df_reverted, x='modelYear', y='price')\n",
    "plt.title('Price vs modelYear')\n",
    "plt.show()"
   ]
  },
  {
   "cell_type": "code",
   "execution_count": 403,
   "id": "bb70e697-4641-44bb-976a-fd709de4ac1e",
   "metadata": {},
   "outputs": [
    {
     "data": {
      "image/png": "[encoded data removed]",
      "text/plain": [
       "<Figure size 640x480 with 1 Axes>"
      ]
     },
     "metadata": {},
     "output_type": "display_data"
    }
   ],
   "source": [
    "df_reverted['price'].hist(bins=30, color='blue', edgecolor='black')\n",
    "plt.title('Price Distribution')\n",
    "plt.xlabel('Price')\n",
    "plt.ylabel('Frequency')\n",
    "plt.show()"
   ]
  },
  {
   "cell_type": "code",
   "execution_count": 1325,
   "id": "0ac853ed-9069-4d8d-945a-e70a2208fb19",
   "metadata": {},
   "outputs": [
    {
     "name": "stdout",
     "output_type": "stream",
     "text": [
      "Model saved as 'lightgbm_price_model.pkl'\n"
     ]
    }
   ],
   "source": [
    "import joblib\n",
    "\n",
    "joblib.dump(lgb_model, 'lightgbm_price_model.pkl')\n",
    "\n",
    "print(\"Model saved as 'lightgbm_price_model.pkl'\")"
   ]
  },
  {
   "cell_type": "code",
   "execution_count": 1327,
   "id": "4909be38-ed2d-4770-97b7-2a9c7120737b",
   "metadata": {},
   "outputs": [],
   "source": [
    "features_df.to_csv(r'C:\\Users\\babuk\\Downloads\\finalregress.csv',index=False)"
   ]
  },
  {
   "cell_type": "code",
   "execution_count": null,
   "id": "4d09d176-8165-4e05-80a4-fbad53daf556",
   "metadata": {},
   "outputs": [],
   "source": []
  }
 ],
 "metadata": {
  "kernelspec": {
   "display_name": "Python 3 (ipykernel)",
   "language": "python",
   "name": "python3"
  },
  "language_info": {
   "codemirror_mode": {
    "name": "ipython",
    "version": 3
   },
   "file_extension": ".py",
   "mimetype": "text/x-python",
   "name": "python",
   "nbconvert_exporter": "python",
   "pygments_lexer": "ipython3",
   "version": "3.12.4"
  }
 },
 "nbformat": 4,
 "nbformat_minor": 5
}
